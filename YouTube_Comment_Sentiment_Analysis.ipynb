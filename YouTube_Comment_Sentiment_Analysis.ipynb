{
 "cells": [
  {
   "cell_type": "code",
   "execution_count": 1,
   "id": "495e082d",
   "metadata": {},
   "outputs": [
    {
     "name": "stdout",
     "output_type": "stream",
     "text": [
      "Collecting textblob\n",
      "  Downloading textblob-0.17.1-py2.py3-none-any.whl (636 kB)\n",
      "\u001b[K     |████████████████████████████████| 636 kB 876 kB/s eta 0:00:01\n",
      "\u001b[?25hRequirement already satisfied: nltk>=3.1 in /Users/zhoushimi/opt/anaconda3/lib/python3.8/site-packages (from textblob) (3.6.1)\n",
      "Requirement already satisfied: regex in /Users/zhoushimi/opt/anaconda3/lib/python3.8/site-packages (from nltk>=3.1->textblob) (2021.4.4)\n",
      "Requirement already satisfied: tqdm in /Users/zhoushimi/opt/anaconda3/lib/python3.8/site-packages (from nltk>=3.1->textblob) (4.59.0)\n",
      "Requirement already satisfied: joblib in /Users/zhoushimi/opt/anaconda3/lib/python3.8/site-packages (from nltk>=3.1->textblob) (1.1.0)\n",
      "Requirement already satisfied: click in /Users/zhoushimi/opt/anaconda3/lib/python3.8/site-packages (from nltk>=3.1->textblob) (7.1.2)\n",
      "Installing collected packages: textblob\n",
      "Successfully installed textblob-0.17.1\n",
      "Note: you may need to restart the kernel to use updated packages.\n"
     ]
    }
   ],
   "source": [
    "pip install textblob"
   ]
  },
  {
   "cell_type": "code",
   "execution_count": 2,
   "id": "b43a5486",
   "metadata": {},
   "outputs": [
    {
     "name": "stdout",
     "output_type": "stream",
     "text": [
      "Collecting wordcloud\n",
      "  Downloading wordcloud-1.8.1.tar.gz (220 kB)\n",
      "\u001b[K     |████████████████████████████████| 220 kB 1.5 MB/s eta 0:00:01\n",
      "\u001b[?25hRequirement already satisfied: numpy>=1.6.1 in /Users/zhoushimi/opt/anaconda3/lib/python3.8/site-packages (from wordcloud) (1.20.1)\n",
      "Requirement already satisfied: pillow in /Users/zhoushimi/opt/anaconda3/lib/python3.8/site-packages (from wordcloud) (8.2.0)\n",
      "Requirement already satisfied: matplotlib in /Users/zhoushimi/opt/anaconda3/lib/python3.8/site-packages (from wordcloud) (3.3.4)\n",
      "Requirement already satisfied: kiwisolver>=1.0.1 in /Users/zhoushimi/opt/anaconda3/lib/python3.8/site-packages (from matplotlib->wordcloud) (1.3.1)\n",
      "Requirement already satisfied: pyparsing!=2.0.4,!=2.1.2,!=2.1.6,>=2.0.3 in /Users/zhoushimi/opt/anaconda3/lib/python3.8/site-packages (from matplotlib->wordcloud) (2.4.7)\n",
      "Requirement already satisfied: python-dateutil>=2.1 in /Users/zhoushimi/opt/anaconda3/lib/python3.8/site-packages (from matplotlib->wordcloud) (2.8.1)\n",
      "Requirement already satisfied: cycler>=0.10 in /Users/zhoushimi/opt/anaconda3/lib/python3.8/site-packages (from matplotlib->wordcloud) (0.10.0)\n",
      "Requirement already satisfied: six in /Users/zhoushimi/opt/anaconda3/lib/python3.8/site-packages (from cycler>=0.10->matplotlib->wordcloud) (1.15.0)\n",
      "Building wheels for collected packages: wordcloud\n",
      "  Building wheel for wordcloud (setup.py) ... \u001b[?25lerror\n",
      "\u001b[31m  ERROR: Command errored out with exit status 1:\n",
      "   command: /Users/zhoushimi/opt/anaconda3/bin/python -u -c 'import sys, setuptools, tokenize; sys.argv[0] = '\"'\"'/private/var/folders/7z/kkz90_tn2895555vs1tqb6600000gn/T/pip-install-er6aelhe/wordcloud_ffd5b16f7cff40b0a61624101a341e0b/setup.py'\"'\"'; __file__='\"'\"'/private/var/folders/7z/kkz90_tn2895555vs1tqb6600000gn/T/pip-install-er6aelhe/wordcloud_ffd5b16f7cff40b0a61624101a341e0b/setup.py'\"'\"';f=getattr(tokenize, '\"'\"'open'\"'\"', open)(__file__);code=f.read().replace('\"'\"'\\r\\n'\"'\"', '\"'\"'\\n'\"'\"');f.close();exec(compile(code, __file__, '\"'\"'exec'\"'\"'))' bdist_wheel -d /private/var/folders/7z/kkz90_tn2895555vs1tqb6600000gn/T/pip-wheel-ndlt6yc7\n",
      "       cwd: /private/var/folders/7z/kkz90_tn2895555vs1tqb6600000gn/T/pip-install-er6aelhe/wordcloud_ffd5b16f7cff40b0a61624101a341e0b/\n",
      "  Complete output (24 lines):\n",
      "  running bdist_wheel\n",
      "  running build\n",
      "  running build_py\n",
      "  creating build\n",
      "  creating build/lib.macosx-10.9-x86_64-3.8\n",
      "  creating build/lib.macosx-10.9-x86_64-3.8/wordcloud\n",
      "  copying wordcloud/wordcloud_cli.py -> build/lib.macosx-10.9-x86_64-3.8/wordcloud\n",
      "  copying wordcloud/_version.py -> build/lib.macosx-10.9-x86_64-3.8/wordcloud\n",
      "  copying wordcloud/__init__.py -> build/lib.macosx-10.9-x86_64-3.8/wordcloud\n",
      "  copying wordcloud/tokenization.py -> build/lib.macosx-10.9-x86_64-3.8/wordcloud\n",
      "  copying wordcloud/wordcloud.py -> build/lib.macosx-10.9-x86_64-3.8/wordcloud\n",
      "  copying wordcloud/color_from_image.py -> build/lib.macosx-10.9-x86_64-3.8/wordcloud\n",
      "  copying wordcloud/__main__.py -> build/lib.macosx-10.9-x86_64-3.8/wordcloud\n",
      "  copying wordcloud/stopwords -> build/lib.macosx-10.9-x86_64-3.8/wordcloud\n",
      "  copying wordcloud/DroidSansMono.ttf -> build/lib.macosx-10.9-x86_64-3.8/wordcloud\n",
      "  UPDATING build/lib.macosx-10.9-x86_64-3.8/wordcloud/_version.py\n",
      "  set build/lib.macosx-10.9-x86_64-3.8/wordcloud/_version.py to '1.8.1'\n",
      "  running build_ext\n",
      "  building 'wordcloud.query_integral_image' extension\n",
      "  creating build/temp.macosx-10.9-x86_64-3.8\n",
      "  creating build/temp.macosx-10.9-x86_64-3.8/wordcloud\n",
      "  gcc -Wno-unused-result -Wsign-compare -Wunreachable-code -DNDEBUG -g -fwrapv -O3 -Wall -Wstrict-prototypes -I/Users/zhoushimi/opt/anaconda3/include -arch x86_64 -I/Users/zhoushimi/opt/anaconda3/include -arch x86_64 -I/Users/zhoushimi/opt/anaconda3/include/python3.8 -c wordcloud/query_integral_image.c -o build/temp.macosx-10.9-x86_64-3.8/wordcloud/query_integral_image.o\n",
      "  xcrun: error: invalid active developer path (/Library/Developer/CommandLineTools), missing xcrun at: /Library/Developer/CommandLineTools/usr/bin/xcrun\n",
      "  error: command 'gcc' failed with exit status 1\n",
      "  ----------------------------------------\u001b[0m\n",
      "\u001b[31m  ERROR: Failed building wheel for wordcloud\u001b[0m\n",
      "\u001b[?25h  Running setup.py clean for wordcloud\n",
      "Failed to build wordcloud\n",
      "Installing collected packages: wordcloud\n",
      "    Running setup.py install for wordcloud ... \u001b[?25lerror\n",
      "\u001b[31m    ERROR: Command errored out with exit status 1:\n",
      "     command: /Users/zhoushimi/opt/anaconda3/bin/python -u -c 'import sys, setuptools, tokenize; sys.argv[0] = '\"'\"'/private/var/folders/7z/kkz90_tn2895555vs1tqb6600000gn/T/pip-install-er6aelhe/wordcloud_ffd5b16f7cff40b0a61624101a341e0b/setup.py'\"'\"'; __file__='\"'\"'/private/var/folders/7z/kkz90_tn2895555vs1tqb6600000gn/T/pip-install-er6aelhe/wordcloud_ffd5b16f7cff40b0a61624101a341e0b/setup.py'\"'\"';f=getattr(tokenize, '\"'\"'open'\"'\"', open)(__file__);code=f.read().replace('\"'\"'\\r\\n'\"'\"', '\"'\"'\\n'\"'\"');f.close();exec(compile(code, __file__, '\"'\"'exec'\"'\"'))' install --record /private/var/folders/7z/kkz90_tn2895555vs1tqb6600000gn/T/pip-record-7aju4sed/install-record.txt --single-version-externally-managed --compile --install-headers /Users/zhoushimi/opt/anaconda3/include/python3.8/wordcloud\n",
      "         cwd: /private/var/folders/7z/kkz90_tn2895555vs1tqb6600000gn/T/pip-install-er6aelhe/wordcloud_ffd5b16f7cff40b0a61624101a341e0b/\n",
      "    Complete output (24 lines):\n",
      "    running install\n",
      "    running build\n",
      "    running build_py\n",
      "    creating build\n",
      "    creating build/lib.macosx-10.9-x86_64-3.8\n",
      "    creating build/lib.macosx-10.9-x86_64-3.8/wordcloud\n",
      "    copying wordcloud/wordcloud_cli.py -> build/lib.macosx-10.9-x86_64-3.8/wordcloud\n",
      "    copying wordcloud/_version.py -> build/lib.macosx-10.9-x86_64-3.8/wordcloud\n",
      "    copying wordcloud/__init__.py -> build/lib.macosx-10.9-x86_64-3.8/wordcloud\n",
      "    copying wordcloud/tokenization.py -> build/lib.macosx-10.9-x86_64-3.8/wordcloud\n",
      "    copying wordcloud/wordcloud.py -> build/lib.macosx-10.9-x86_64-3.8/wordcloud\n",
      "    copying wordcloud/color_from_image.py -> build/lib.macosx-10.9-x86_64-3.8/wordcloud\n",
      "    copying wordcloud/__main__.py -> build/lib.macosx-10.9-x86_64-3.8/wordcloud\n",
      "    copying wordcloud/stopwords -> build/lib.macosx-10.9-x86_64-3.8/wordcloud\n",
      "    copying wordcloud/DroidSansMono.ttf -> build/lib.macosx-10.9-x86_64-3.8/wordcloud\n",
      "    UPDATING build/lib.macosx-10.9-x86_64-3.8/wordcloud/_version.py\n",
      "    set build/lib.macosx-10.9-x86_64-3.8/wordcloud/_version.py to '1.8.1'\n",
      "    running build_ext\n",
      "    building 'wordcloud.query_integral_image' extension\n",
      "    creating build/temp.macosx-10.9-x86_64-3.8\n",
      "    creating build/temp.macosx-10.9-x86_64-3.8/wordcloud\n",
      "    gcc -Wno-unused-result -Wsign-compare -Wunreachable-code -DNDEBUG -g -fwrapv -O3 -Wall -Wstrict-prototypes -I/Users/zhoushimi/opt/anaconda3/include -arch x86_64 -I/Users/zhoushimi/opt/anaconda3/include -arch x86_64 -I/Users/zhoushimi/opt/anaconda3/include/python3.8 -c wordcloud/query_integral_image.c -o build/temp.macosx-10.9-x86_64-3.8/wordcloud/query_integral_image.o\n",
      "    xcrun: error: invalid active developer path (/Library/Developer/CommandLineTools), missing xcrun at: /Library/Developer/CommandLineTools/usr/bin/xcrun\n",
      "    error: command 'gcc' failed with exit status 1\n",
      "    ----------------------------------------\u001b[0m\n",
      "\u001b[31mERROR: Command errored out with exit status 1: /Users/zhoushimi/opt/anaconda3/bin/python -u -c 'import sys, setuptools, tokenize; sys.argv[0] = '\"'\"'/private/var/folders/7z/kkz90_tn2895555vs1tqb6600000gn/T/pip-install-er6aelhe/wordcloud_ffd5b16f7cff40b0a61624101a341e0b/setup.py'\"'\"'; __file__='\"'\"'/private/var/folders/7z/kkz90_tn2895555vs1tqb6600000gn/T/pip-install-er6aelhe/wordcloud_ffd5b16f7cff40b0a61624101a341e0b/setup.py'\"'\"';f=getattr(tokenize, '\"'\"'open'\"'\"', open)(__file__);code=f.read().replace('\"'\"'\\r\\n'\"'\"', '\"'\"'\\n'\"'\"');f.close();exec(compile(code, __file__, '\"'\"'exec'\"'\"'))' install --record /private/var/folders/7z/kkz90_tn2895555vs1tqb6600000gn/T/pip-record-7aju4sed/install-record.txt --single-version-externally-managed --compile --install-headers /Users/zhoushimi/opt/anaconda3/include/python3.8/wordcloud Check the logs for full command output.\u001b[0m\n",
      "\u001b[?25hNote: you may need to restart the kernel to use updated packages.\n"
     ]
    }
   ],
   "source": [
    "pip install wordcloud"
   ]
  },
  {
   "cell_type": "code",
   "execution_count": 6,
   "id": "5cb24fd2",
   "metadata": {},
   "outputs": [
    {
     "name": "stdout",
     "output_type": "stream",
     "text": [
      "Requirement already satisfied: youtube_comment_scraper_python in /Users/zhoushimi/opt/anaconda3/lib/python3.8/site-packages (1.0.0)\n",
      "Requirement already satisfied: bot-studio in /Users/zhoushimi/opt/anaconda3/lib/python3.8/site-packages (from youtube_comment_scraper_python) (1.3.9)\n",
      "Requirement already satisfied: requests in /Users/zhoushimi/opt/anaconda3/lib/python3.8/site-packages (from youtube_comment_scraper_python) (2.25.1)\n",
      "Requirement already satisfied: tqdm in /Users/zhoushimi/opt/anaconda3/lib/python3.8/site-packages (from bot-studio->youtube_comment_scraper_python) (4.59.0)\n",
      "Requirement already satisfied: chardet<5,>=3.0.2 in /Users/zhoushimi/opt/anaconda3/lib/python3.8/site-packages (from requests->youtube_comment_scraper_python) (4.0.0)\n",
      "Requirement already satisfied: urllib3<1.27,>=1.21.1 in /Users/zhoushimi/opt/anaconda3/lib/python3.8/site-packages (from requests->youtube_comment_scraper_python) (1.26.4)\n",
      "Requirement already satisfied: idna<3,>=2.5 in /Users/zhoushimi/opt/anaconda3/lib/python3.8/site-packages (from requests->youtube_comment_scraper_python) (2.10)\n",
      "Requirement already satisfied: certifi>=2017.4.17 in /Users/zhoushimi/opt/anaconda3/lib/python3.8/site-packages (from requests->youtube_comment_scraper_python) (2020.12.5)\n",
      "Note: you may need to restart the kernel to use updated packages.\n"
     ]
    }
   ],
   "source": [
    "pip install youtube_comment_scraper_python "
   ]
  },
  {
   "cell_type": "code",
   "execution_count": 13,
   "id": "717f38c2",
   "metadata": {},
   "outputs": [
    {
     "name": "stdout",
     "output_type": "stream",
     "text": [
      "It currently works on windows only\n"
     ]
    },
    {
     "data": {
      "text/plain": [
       "1"
      ]
     },
     "execution_count": 13,
     "metadata": {},
     "output_type": "execute_result"
    }
   ],
   "source": [
    "from youtube_comment_scraper_python import *\n",
    "import pandas as pd\n",
    "youtube.open(\"https://www.youtube.com/watch?v=AeeeEDSekG8\")\n",
    "\n"
   ]
  },
  {
   "cell_type": "code",
   "execution_count": 12,
   "id": "5b5f3e32",
   "metadata": {},
   "outputs": [
    {
     "name": "stdout",
     "output_type": "stream",
     "text": [
      "It currently works on windows only\n"
     ]
    },
    {
     "ename": "TypeError",
     "evalue": "'NoneType' object is not subscriptable",
     "output_type": "error",
     "traceback": [
      "\u001b[0;31m---------------------------------------------------------------------------\u001b[0m",
      "\u001b[0;31mTypeError\u001b[0m                                 Traceback (most recent call last)",
      "\u001b[0;32m<ipython-input-12-b71ad3ac20e7>\u001b[0m in \u001b[0;36m<module>\u001b[0;34m\u001b[0m\n\u001b[1;32m      2\u001b[0m \u001b[0;32mfor\u001b[0m \u001b[0mi\u001b[0m \u001b[0;32min\u001b[0m \u001b[0mrange\u001b[0m\u001b[0;34m(\u001b[0m\u001b[0;36m0\u001b[0m\u001b[0;34m,\u001b[0m\u001b[0;36m5\u001b[0m\u001b[0;34m)\u001b[0m\u001b[0;34m:\u001b[0m\u001b[0;34m\u001b[0m\u001b[0;34m\u001b[0m\u001b[0m\n\u001b[1;32m      3\u001b[0m     \u001b[0mresponse\u001b[0m\u001b[0;34m=\u001b[0m\u001b[0myoutube\u001b[0m\u001b[0;34m.\u001b[0m\u001b[0mvideo_comments\u001b[0m\u001b[0;34m(\u001b[0m\u001b[0;34m)\u001b[0m\u001b[0;34m\u001b[0m\u001b[0;34m\u001b[0m\u001b[0m\n\u001b[0;32m----> 4\u001b[0;31m     \u001b[0mdata\u001b[0m\u001b[0;34m=\u001b[0m\u001b[0mresponse\u001b[0m\u001b[0;34m[\u001b[0m\u001b[0;34m'body'\u001b[0m\u001b[0;34m]\u001b[0m\u001b[0;34m\u001b[0m\u001b[0;34m\u001b[0m\u001b[0m\n\u001b[0m\u001b[1;32m      5\u001b[0m     \u001b[0mall_data\u001b[0m\u001b[0;34m.\u001b[0m\u001b[0mextend\u001b[0m\u001b[0;34m(\u001b[0m\u001b[0mdata\u001b[0m\u001b[0;34m)\u001b[0m\u001b[0;34m\u001b[0m\u001b[0;34m\u001b[0m\u001b[0m\n",
      "\u001b[0;31mTypeError\u001b[0m: 'NoneType' object is not subscriptable"
     ]
    }
   ],
   "source": [
    "all_data = []\n",
    "for i in range(0,5):\n",
    "    response=youtube.video_comments()\n",
    "    data=response['body']\n",
    "    all_data.extend(data)"
   ]
  },
  {
   "cell_type": "code",
   "execution_count": 3,
   "id": "6d35bcd0",
   "metadata": {},
   "outputs": [],
   "source": [
    "#data processing package\n",
    "import pandas as pd\n",
    "import numpy as np\n",
    "pd.set_option('display.max_colwidth', 200)"
   ]
  },
  {
   "cell_type": "code",
   "execution_count": 4,
   "id": "4297da50",
   "metadata": {},
   "outputs": [],
   "source": [
    "#visualization packages\n",
    "import matplotlib.pyplot as plt\n",
    "import seaborn as sns"
   ]
  },
  {
   "cell_type": "code",
   "execution_count": 5,
   "id": "888d49fb",
   "metadata": {},
   "outputs": [],
   "source": [
    "#NLP packages\n",
    "from textblob import TextBlob\n",
    "\n",
    "import warnings \n",
    "warnings.filterwarnings('ignore')"
   ]
  },
  {
   "cell_type": "code",
   "execution_count": 6,
   "id": "1b9d90bd",
   "metadata": {},
   "outputs": [
    {
     "data": {
      "text/plain": [
       "Sentiment(polarity=0.1, subjectivity=0.3)"
      ]
     },
     "execution_count": 6,
     "metadata": {},
     "output_type": "execute_result"
    }
   ],
   "source": [
    "#Testing NLP -Sentiment Analysis using TextBlob\n",
    "TextBlob(\"Today is a busy day\").sentiment"
   ]
  },
  {
   "cell_type": "code",
   "execution_count": 7,
   "id": "3806327c",
   "metadata": {},
   "outputs": [],
   "source": [
    "#Importing Youtube comments data\n",
    "comm = pd.read_csv(\"filter62b38718655ac_csv.csv\")"
   ]
  },
  {
   "cell_type": "code",
   "execution_count": 8,
   "id": "1cf6ba4f",
   "metadata": {},
   "outputs": [
    {
     "data": {
      "text/html": [
       "<div>\n",
       "<style scoped>\n",
       "    .dataframe tbody tr th:only-of-type {\n",
       "        vertical-align: middle;\n",
       "    }\n",
       "\n",
       "    .dataframe tbody tr th {\n",
       "        vertical-align: top;\n",
       "    }\n",
       "\n",
       "    .dataframe thead th {\n",
       "        text-align: right;\n",
       "    }\n",
       "</style>\n",
       "<table border=\"1\" class=\"dataframe\">\n",
       "  <thead>\n",
       "    <tr style=\"text-align: right;\">\n",
       "      <th></th>\n",
       "      <th>Unnamed: 0</th>\n",
       "      <th>Unnamed: 1</th>\n",
       "      <th>Name (click to view profile)</th>\n",
       "      <th>Date</th>\n",
       "      <th>Likes</th>\n",
       "      <th>isHearted</th>\n",
       "      <th>isPinned</th>\n",
       "      <th>Comment</th>\n",
       "      <th>Profile ID</th>\n",
       "      <th>Comment ID</th>\n",
       "      <th>Comment URL</th>\n",
       "    </tr>\n",
       "  </thead>\n",
       "  <tbody>\n",
       "    <tr>\n",
       "      <th>0</th>\n",
       "      <td>1</td>\n",
       "      <td>NaN</td>\n",
       "      <td>Devon Van Kraft</td>\n",
       "      <td>2022-06-15 01:03:21</td>\n",
       "      <td>1</td>\n",
       "      <td>no</td>\n",
       "      <td>no</td>\n",
       "      <td>We can build a dumb car for 5000$</td>\n",
       "      <td>UCOLaZvHywPp5M241y4mNsBg</td>\n",
       "      <td>Ugyp3stlBZvjSAW5f194AaABAg</td>\n",
       "      <td>https://www.youtube.com/watch?v=AeeeEDSekG8&amp;lc=Ugyp3stlBZvjSAW5f194AaABAg</td>\n",
       "    </tr>\n",
       "    <tr>\n",
       "      <th>1</th>\n",
       "      <td>2</td>\n",
       "      <td>NaN</td>\n",
       "      <td>Florence Sarmiento</td>\n",
       "      <td>2022-06-15 01:49:32</td>\n",
       "      <td>0</td>\n",
       "      <td>no</td>\n",
       "      <td>no</td>\n",
       "      <td>Thats why tesla co. one of the biggest and ,successful companies in the world because of Sir Elon Musk</td>\n",
       "      <td>UCZ5LC9u_ikerd5WxOq8dZMQ</td>\n",
       "      <td>Ugz4dFxk_FLB-aSwPqR4AaABAg</td>\n",
       "      <td>https://www.youtube.com/watch?v=AeeeEDSekG8&amp;lc=Ugz4dFxk_FLB-aSwPqR4AaABAg</td>\n",
       "    </tr>\n",
       "    <tr>\n",
       "      <th>2</th>\n",
       "      <td>3</td>\n",
       "      <td>NaN</td>\n",
       "      <td>Arthur sammy Sam</td>\n",
       "      <td>2022-06-15 02:32:44</td>\n",
       "      <td>0</td>\n",
       "      <td>no</td>\n",
       "      <td>no</td>\n",
       "      <td>Sorry I'm working right now can't follow directions for any learning to. But I still want to keep learning.</td>\n",
       "      <td>UC9cVPUad51WuzKIWWuTNBsw</td>\n",
       "      <td>Ugyfau1xIIakJVAaLpp4AaABAg</td>\n",
       "      <td>https://www.youtube.com/watch?v=AeeeEDSekG8&amp;lc=Ugyfau1xIIakJVAaLpp4AaABAg</td>\n",
       "    </tr>\n",
       "    <tr>\n",
       "      <th>3</th>\n",
       "      <td>4</td>\n",
       "      <td>NaN</td>\n",
       "      <td>Arthur sammy Sam</td>\n",
       "      <td>2022-06-15 02:37:21</td>\n",
       "      <td>0</td>\n",
       "      <td>no</td>\n",
       "      <td>no</td>\n",
       "      <td>I don't have money so I must working to get money to buy a data Internet and my everyday food no body helping me to get knowledge. Anyways thanks to all people who have good heart to teching me . ...</td>\n",
       "      <td>UC9cVPUad51WuzKIWWuTNBsw</td>\n",
       "      <td>Ugwdu5AzHSdaMsd_klJ4AaABAg</td>\n",
       "      <td>https://www.youtube.com/watch?v=AeeeEDSekG8&amp;lc=Ugwdu5AzHSdaMsd_klJ4AaABAg</td>\n",
       "    </tr>\n",
       "    <tr>\n",
       "      <th>4</th>\n",
       "      <td>5</td>\n",
       "      <td>NaN</td>\n",
       "      <td>Justin</td>\n",
       "      <td>2022-06-15 03:26:53</td>\n",
       "      <td>1</td>\n",
       "      <td>no</td>\n",
       "      <td>no</td>\n",
       "      <td>Cant wait for FSD or Autopilot to be recalled.</td>\n",
       "      <td>UCs5auEWAt6gk-Rn5iElgkCw</td>\n",
       "      <td>UgxtqVUpo13JzYjF2Sd4AaABAg</td>\n",
       "      <td>https://www.youtube.com/watch?v=AeeeEDSekG8&amp;lc=UgxtqVUpo13JzYjF2Sd4AaABAg</td>\n",
       "    </tr>\n",
       "  </tbody>\n",
       "</table>\n",
       "</div>"
      ],
      "text/plain": [
       "   Unnamed: 0  Unnamed: 1 Name (click to view profile)                 Date  \\\n",
       "0           1         NaN              Devon Van Kraft  2022-06-15 01:03:21   \n",
       "1           2         NaN           Florence Sarmiento  2022-06-15 01:49:32   \n",
       "2           3         NaN             Arthur sammy Sam  2022-06-15 02:32:44   \n",
       "3           4         NaN             Arthur sammy Sam  2022-06-15 02:37:21   \n",
       "4           5         NaN                      Justin   2022-06-15 03:26:53   \n",
       "\n",
       "   Likes isHearted isPinned  \\\n",
       "0      1        no       no   \n",
       "1      0        no       no   \n",
       "2      0        no       no   \n",
       "3      0        no       no   \n",
       "4      1        no       no   \n",
       "\n",
       "                                                                                                                                                                                                   Comment  \\\n",
       "0                                                                                                                                                                        We can build a dumb car for 5000$   \n",
       "1                                                                                                   Thats why tesla co. one of the biggest and ,successful companies in the world because of Sir Elon Musk   \n",
       "2                                                                                              Sorry I'm working right now can't follow directions for any learning to. But I still want to keep learning.   \n",
       "3  I don't have money so I must working to get money to buy a data Internet and my everyday food no body helping me to get knowledge. Anyways thanks to all people who have good heart to teching me . ...   \n",
       "4                                                                                                                                                           Cant wait for FSD or Autopilot to be recalled.   \n",
       "\n",
       "                 Profile ID                  Comment ID  \\\n",
       "0  UCOLaZvHywPp5M241y4mNsBg  Ugyp3stlBZvjSAW5f194AaABAg   \n",
       "1  UCZ5LC9u_ikerd5WxOq8dZMQ  Ugz4dFxk_FLB-aSwPqR4AaABAg   \n",
       "2  UC9cVPUad51WuzKIWWuTNBsw  Ugyfau1xIIakJVAaLpp4AaABAg   \n",
       "3  UC9cVPUad51WuzKIWWuTNBsw  Ugwdu5AzHSdaMsd_klJ4AaABAg   \n",
       "4  UCs5auEWAt6gk-Rn5iElgkCw  UgxtqVUpo13JzYjF2Sd4AaABAg   \n",
       "\n",
       "                                                                 Comment URL  \n",
       "0  https://www.youtube.com/watch?v=AeeeEDSekG8&lc=Ugyp3stlBZvjSAW5f194AaABAg  \n",
       "1  https://www.youtube.com/watch?v=AeeeEDSekG8&lc=Ugz4dFxk_FLB-aSwPqR4AaABAg  \n",
       "2  https://www.youtube.com/watch?v=AeeeEDSekG8&lc=Ugyfau1xIIakJVAaLpp4AaABAg  \n",
       "3  https://www.youtube.com/watch?v=AeeeEDSekG8&lc=Ugwdu5AzHSdaMsd_klJ4AaABAg  \n",
       "4  https://www.youtube.com/watch?v=AeeeEDSekG8&lc=UgxtqVUpo13JzYjF2Sd4AaABAg  "
      ]
     },
     "execution_count": 8,
     "metadata": {},
     "output_type": "execute_result"
    }
   ],
   "source": [
    "comm.head()"
   ]
  },
  {
   "cell_type": "code",
   "execution_count": 9,
   "id": "42c6b2dd",
   "metadata": {},
   "outputs": [
    {
     "data": {
      "text/plain": [
       "(100, 11)"
      ]
     },
     "execution_count": 9,
     "metadata": {},
     "output_type": "execute_result"
    }
   ],
   "source": [
    "comm.shape"
   ]
  },
  {
   "cell_type": "code",
   "execution_count": 10,
   "id": "298ebdb5",
   "metadata": {},
   "outputs": [],
   "source": [
    "import re"
   ]
  },
  {
   "cell_type": "code",
   "execution_count": 11,
   "id": "01ef0391",
   "metadata": {},
   "outputs": [],
   "source": [
    "#removing punctuations, numbers and special characters.\n",
    "comm[\"Comment\"] =comm[\"Comment\"].str.replace(\"[^a-zA-Z#]\", \" \")"
   ]
  },
  {
   "cell_type": "code",
   "execution_count": 12,
   "id": "4078f660",
   "metadata": {},
   "outputs": [],
   "source": [
    "#changing the text to lower case\n",
    "comm[\"Comment\"] = comm[\"Comment\"].apply(lambda x: x.lower())"
   ]
  },
  {
   "cell_type": "code",
   "execution_count": 13,
   "id": "45abba47",
   "metadata": {},
   "outputs": [
    {
     "data": {
      "text/plain": [
       "0                                                                                                                                                                        [we, can, build, a, dumb, car, for]\n",
       "1                                                                                   [thats, why, tesla, co, one, of, the, biggest, and, successful, companies, in, the, world, because, of, sir, elon, musk]\n",
       "2                                                                            [sorry, i, m, working, right, now, can, t, follow, directions, for, any, learning, to, but, i, still, want, to, keep, learning]\n",
       "3    [i, don, t, have, money, so, i, must, working, to, get, money, to, buy, a, data, internet, and, my, everyday, food, no, body, helping, me, to, get, knowledge, anyways, thanks, to, all, people, who...\n",
       "4                                                                                                                                                    [cant, wait, for, fsd, or, autopilot, to, be, recalled]\n",
       "Name: Comment, dtype: object"
      ]
     },
     "execution_count": 13,
     "metadata": {},
     "output_type": "execute_result"
    }
   ],
   "source": [
    "#Tokenization\n",
    "tokenized_comm = comm[\"Comment\"].apply(lambda x: x.split())\n",
    "tokenized_comm.head()"
   ]
  },
  {
   "cell_type": "code",
   "execution_count": 14,
   "id": "9219f035",
   "metadata": {},
   "outputs": [
    {
     "name": "stdout",
     "output_type": "stream",
     "text": [
      "Requirement already satisfied: nltk in /Users/zhoushimi/opt/anaconda3/lib/python3.8/site-packages (3.6.1)\n",
      "Requirement already satisfied: tqdm in /Users/zhoushimi/opt/anaconda3/lib/python3.8/site-packages (from nltk) (4.59.0)\n",
      "Requirement already satisfied: regex in /Users/zhoushimi/opt/anaconda3/lib/python3.8/site-packages (from nltk) (2021.4.4)\n",
      "Requirement already satisfied: joblib in /Users/zhoushimi/opt/anaconda3/lib/python3.8/site-packages (from nltk) (1.1.0)\n",
      "Requirement already satisfied: click in /Users/zhoushimi/opt/anaconda3/lib/python3.8/site-packages (from nltk) (7.1.2)\n",
      "Note: you may need to restart the kernel to use updated packages.\n"
     ]
    }
   ],
   "source": [
    "pip install nltk\n"
   ]
  },
  {
   "cell_type": "code",
   "execution_count": 15,
   "id": "c866ee0a",
   "metadata": {},
   "outputs": [],
   "source": [
    "from nltk.stem import WordNetLemmatizer\n",
    "from nltk.corpus import stopwords"
   ]
  },
  {
   "cell_type": "code",
   "execution_count": 16,
   "id": "61119bd6",
   "metadata": {},
   "outputs": [],
   "source": [
    "wnl = WordNetLemmatizer()"
   ]
  },
  {
   "cell_type": "code",
   "execution_count": 17,
   "id": "9c10e574",
   "metadata": {},
   "outputs": [
    {
     "name": "stderr",
     "output_type": "stream",
     "text": [
      "[nltk_data] Downloading package stopwords to\n",
      "[nltk_data]     /Users/zhoushimi/nltk_data...\n",
      "[nltk_data]   Package stopwords is already up-to-date!\n"
     ]
    },
    {
     "data": {
      "text/plain": [
       "0                                                                                                                                                                        [we, can, build, a, dumb, car, for]\n",
       "1                                                                                   [thats, why, tesla, co, one, of, the, biggest, and, successful, companies, in, the, world, because, of, sir, elon, musk]\n",
       "2                                                                            [sorry, i, m, working, right, now, can, t, follow, directions, for, any, learning, to, but, i, still, want, to, keep, learning]\n",
       "3    [i, don, t, have, money, so, i, must, working, to, get, money, to, buy, a, data, internet, and, my, everyday, food, no, body, helping, me, to, get, knowledge, anyways, thanks, to, all, people, who...\n",
       "4                                                                                                                                                    [cant, wait, for, fsd, or, autopilot, to, be, recalled]\n",
       "Name: Comment, dtype: object"
      ]
     },
     "execution_count": 17,
     "metadata": {},
     "output_type": "execute_result"
    }
   ],
   "source": [
    "import nltk\n",
    "nltk.download('stopwords')\n",
    "tokenized_comm.apply(lambda x: [wnl.lemmatize(i) for i in x if i not in set(stopwords.words('english'))])\n",
    "tokenized_comm.head()"
   ]
  },
  {
   "cell_type": "code",
   "execution_count": 18,
   "id": "7d4a7105",
   "metadata": {},
   "outputs": [],
   "source": [
    "for i in range(len(tokenized_comm)):\n",
    "    tokenized_comm[i] = ' '.join(tokenized_comm[i])\n",
    "comm['Comment'] = tokenized_comm"
   ]
  },
  {
   "cell_type": "code",
   "execution_count": 19,
   "id": "d2826476",
   "metadata": {},
   "outputs": [
    {
     "name": "stderr",
     "output_type": "stream",
     "text": [
      "[nltk_data] Downloading package vader_lexicon to\n",
      "[nltk_data]     /Users/zhoushimi/nltk_data...\n",
      "[nltk_data]   Package vader_lexicon is already up-to-date!\n"
     ]
    }
   ],
   "source": [
    "# sentiment analysis\n",
    "import nltk\n",
    "nltk.download('vader_lexicon')\n",
    "from nltk.sentiment.vader import SentimentIntensityAnalyzer\n",
    "sia = SentimentIntensityAnalyzer()"
   ]
  },
  {
   "cell_type": "code",
   "execution_count": 20,
   "id": "bb9551a7",
   "metadata": {},
   "outputs": [],
   "source": [
    "#Setting the sentiment scores\n",
    "comm['Sentiment Scores'] = comm['Comment'].apply(lambda x: sia.polarity_scores(x)['compound'])"
   ]
  },
  {
   "cell_type": "code",
   "execution_count": 21,
   "id": "400a6c89",
   "metadata": {},
   "outputs": [
    {
     "data": {
      "text/html": [
       "<div>\n",
       "<style scoped>\n",
       "    .dataframe tbody tr th:only-of-type {\n",
       "        vertical-align: middle;\n",
       "    }\n",
       "\n",
       "    .dataframe tbody tr th {\n",
       "        vertical-align: top;\n",
       "    }\n",
       "\n",
       "    .dataframe thead th {\n",
       "        text-align: right;\n",
       "    }\n",
       "</style>\n",
       "<table border=\"1\" class=\"dataframe\">\n",
       "  <thead>\n",
       "    <tr style=\"text-align: right;\">\n",
       "      <th></th>\n",
       "      <th>Unnamed: 0</th>\n",
       "      <th>Unnamed: 1</th>\n",
       "      <th>Name (click to view profile)</th>\n",
       "      <th>Date</th>\n",
       "      <th>Likes</th>\n",
       "      <th>isHearted</th>\n",
       "      <th>isPinned</th>\n",
       "      <th>Comment</th>\n",
       "      <th>Profile ID</th>\n",
       "      <th>Comment ID</th>\n",
       "      <th>Comment URL</th>\n",
       "      <th>Sentiment Scores</th>\n",
       "    </tr>\n",
       "  </thead>\n",
       "  <tbody>\n",
       "    <tr>\n",
       "      <th>0</th>\n",
       "      <td>1</td>\n",
       "      <td>NaN</td>\n",
       "      <td>Devon Van Kraft</td>\n",
       "      <td>2022-06-15 01:03:21</td>\n",
       "      <td>1</td>\n",
       "      <td>no</td>\n",
       "      <td>no</td>\n",
       "      <td>we can build a dumb car for</td>\n",
       "      <td>UCOLaZvHywPp5M241y4mNsBg</td>\n",
       "      <td>Ugyp3stlBZvjSAW5f194AaABAg</td>\n",
       "      <td>https://www.youtube.com/watch?v=AeeeEDSekG8&amp;lc=Ugyp3stlBZvjSAW5f194AaABAg</td>\n",
       "      <td>-0.5106</td>\n",
       "    </tr>\n",
       "    <tr>\n",
       "      <th>1</th>\n",
       "      <td>2</td>\n",
       "      <td>NaN</td>\n",
       "      <td>Florence Sarmiento</td>\n",
       "      <td>2022-06-15 01:49:32</td>\n",
       "      <td>0</td>\n",
       "      <td>no</td>\n",
       "      <td>no</td>\n",
       "      <td>thats why tesla co one of the biggest and successful companies in the world because of sir elon musk</td>\n",
       "      <td>UCZ5LC9u_ikerd5WxOq8dZMQ</td>\n",
       "      <td>Ugz4dFxk_FLB-aSwPqR4AaABAg</td>\n",
       "      <td>https://www.youtube.com/watch?v=AeeeEDSekG8&amp;lc=Ugz4dFxk_FLB-aSwPqR4AaABAg</td>\n",
       "      <td>0.5859</td>\n",
       "    </tr>\n",
       "    <tr>\n",
       "      <th>2</th>\n",
       "      <td>3</td>\n",
       "      <td>NaN</td>\n",
       "      <td>Arthur sammy Sam</td>\n",
       "      <td>2022-06-15 02:32:44</td>\n",
       "      <td>0</td>\n",
       "      <td>no</td>\n",
       "      <td>no</td>\n",
       "      <td>sorry i m working right now can t follow directions for any learning to but i still want to keep learning</td>\n",
       "      <td>UC9cVPUad51WuzKIWWuTNBsw</td>\n",
       "      <td>Ugyfau1xIIakJVAaLpp4AaABAg</td>\n",
       "      <td>https://www.youtube.com/watch?v=AeeeEDSekG8&amp;lc=Ugyfau1xIIakJVAaLpp4AaABAg</td>\n",
       "      <td>0.0772</td>\n",
       "    </tr>\n",
       "    <tr>\n",
       "      <th>3</th>\n",
       "      <td>4</td>\n",
       "      <td>NaN</td>\n",
       "      <td>Arthur sammy Sam</td>\n",
       "      <td>2022-06-15 02:37:21</td>\n",
       "      <td>0</td>\n",
       "      <td>no</td>\n",
       "      <td>no</td>\n",
       "      <td>i don t have money so i must working to get money to buy a data internet and my everyday food no body helping me to get knowledge anyways thanks to all people who have good heart to teching me thanks</td>\n",
       "      <td>UC9cVPUad51WuzKIWWuTNBsw</td>\n",
       "      <td>Ugwdu5AzHSdaMsd_klJ4AaABAg</td>\n",
       "      <td>https://www.youtube.com/watch?v=AeeeEDSekG8&amp;lc=Ugwdu5AzHSdaMsd_klJ4AaABAg</td>\n",
       "      <td>0.8271</td>\n",
       "    </tr>\n",
       "    <tr>\n",
       "      <th>4</th>\n",
       "      <td>5</td>\n",
       "      <td>NaN</td>\n",
       "      <td>Justin</td>\n",
       "      <td>2022-06-15 03:26:53</td>\n",
       "      <td>1</td>\n",
       "      <td>no</td>\n",
       "      <td>no</td>\n",
       "      <td>cant wait for fsd or autopilot to be recalled</td>\n",
       "      <td>UCs5auEWAt6gk-Rn5iElgkCw</td>\n",
       "      <td>UgxtqVUpo13JzYjF2Sd4AaABAg</td>\n",
       "      <td>https://www.youtube.com/watch?v=AeeeEDSekG8&amp;lc=UgxtqVUpo13JzYjF2Sd4AaABAg</td>\n",
       "      <td>0.0000</td>\n",
       "    </tr>\n",
       "  </tbody>\n",
       "</table>\n",
       "</div>"
      ],
      "text/plain": [
       "   Unnamed: 0  Unnamed: 1 Name (click to view profile)                 Date  \\\n",
       "0           1         NaN              Devon Van Kraft  2022-06-15 01:03:21   \n",
       "1           2         NaN           Florence Sarmiento  2022-06-15 01:49:32   \n",
       "2           3         NaN             Arthur sammy Sam  2022-06-15 02:32:44   \n",
       "3           4         NaN             Arthur sammy Sam  2022-06-15 02:37:21   \n",
       "4           5         NaN                      Justin   2022-06-15 03:26:53   \n",
       "\n",
       "   Likes isHearted isPinned  \\\n",
       "0      1        no       no   \n",
       "1      0        no       no   \n",
       "2      0        no       no   \n",
       "3      0        no       no   \n",
       "4      1        no       no   \n",
       "\n",
       "                                                                                                                                                                                                   Comment  \\\n",
       "0                                                                                                                                                                              we can build a dumb car for   \n",
       "1                                                                                                     thats why tesla co one of the biggest and successful companies in the world because of sir elon musk   \n",
       "2                                                                                                sorry i m working right now can t follow directions for any learning to but i still want to keep learning   \n",
       "3  i don t have money so i must working to get money to buy a data internet and my everyday food no body helping me to get knowledge anyways thanks to all people who have good heart to teching me thanks   \n",
       "4                                                                                                                                                            cant wait for fsd or autopilot to be recalled   \n",
       "\n",
       "                 Profile ID                  Comment ID  \\\n",
       "0  UCOLaZvHywPp5M241y4mNsBg  Ugyp3stlBZvjSAW5f194AaABAg   \n",
       "1  UCZ5LC9u_ikerd5WxOq8dZMQ  Ugz4dFxk_FLB-aSwPqR4AaABAg   \n",
       "2  UC9cVPUad51WuzKIWWuTNBsw  Ugyfau1xIIakJVAaLpp4AaABAg   \n",
       "3  UC9cVPUad51WuzKIWWuTNBsw  Ugwdu5AzHSdaMsd_klJ4AaABAg   \n",
       "4  UCs5auEWAt6gk-Rn5iElgkCw  UgxtqVUpo13JzYjF2Sd4AaABAg   \n",
       "\n",
       "                                                                 Comment URL  \\\n",
       "0  https://www.youtube.com/watch?v=AeeeEDSekG8&lc=Ugyp3stlBZvjSAW5f194AaABAg   \n",
       "1  https://www.youtube.com/watch?v=AeeeEDSekG8&lc=Ugz4dFxk_FLB-aSwPqR4AaABAg   \n",
       "2  https://www.youtube.com/watch?v=AeeeEDSekG8&lc=Ugyfau1xIIakJVAaLpp4AaABAg   \n",
       "3  https://www.youtube.com/watch?v=AeeeEDSekG8&lc=Ugwdu5AzHSdaMsd_klJ4AaABAg   \n",
       "4  https://www.youtube.com/watch?v=AeeeEDSekG8&lc=UgxtqVUpo13JzYjF2Sd4AaABAg   \n",
       "\n",
       "   Sentiment Scores  \n",
       "0           -0.5106  \n",
       "1            0.5859  \n",
       "2            0.0772  \n",
       "3            0.8271  \n",
       "4            0.0000  "
      ]
     },
     "execution_count": 21,
     "metadata": {},
     "output_type": "execute_result"
    }
   ],
   "source": [
    "comm.head()"
   ]
  },
  {
   "cell_type": "code",
   "execution_count": 22,
   "id": "979c1084",
   "metadata": {},
   "outputs": [],
   "source": [
    "#Classifying the sentiment scores as positive, negative and neutral\n",
    "comm['Sentiment'] = comm['Sentiment Scores'].apply(lambda s: 'Positive' if s > 0 else ('Neutral' if s == 0 else 'Negative'))\n"
   ]
  },
  {
   "cell_type": "code",
   "execution_count": 23,
   "id": "82d6dd04",
   "metadata": {},
   "outputs": [
    {
     "data": {
      "text/html": [
       "<div>\n",
       "<style scoped>\n",
       "    .dataframe tbody tr th:only-of-type {\n",
       "        vertical-align: middle;\n",
       "    }\n",
       "\n",
       "    .dataframe tbody tr th {\n",
       "        vertical-align: top;\n",
       "    }\n",
       "\n",
       "    .dataframe thead th {\n",
       "        text-align: right;\n",
       "    }\n",
       "</style>\n",
       "<table border=\"1\" class=\"dataframe\">\n",
       "  <thead>\n",
       "    <tr style=\"text-align: right;\">\n",
       "      <th></th>\n",
       "      <th>Unnamed: 0</th>\n",
       "      <th>Unnamed: 1</th>\n",
       "      <th>Name (click to view profile)</th>\n",
       "      <th>Date</th>\n",
       "      <th>Likes</th>\n",
       "      <th>isHearted</th>\n",
       "      <th>isPinned</th>\n",
       "      <th>Comment</th>\n",
       "      <th>Profile ID</th>\n",
       "      <th>Comment ID</th>\n",
       "      <th>Comment URL</th>\n",
       "      <th>Sentiment Scores</th>\n",
       "      <th>Sentiment</th>\n",
       "    </tr>\n",
       "  </thead>\n",
       "  <tbody>\n",
       "    <tr>\n",
       "      <th>0</th>\n",
       "      <td>1</td>\n",
       "      <td>NaN</td>\n",
       "      <td>Devon Van Kraft</td>\n",
       "      <td>2022-06-15 01:03:21</td>\n",
       "      <td>1</td>\n",
       "      <td>no</td>\n",
       "      <td>no</td>\n",
       "      <td>we can build a dumb car for</td>\n",
       "      <td>UCOLaZvHywPp5M241y4mNsBg</td>\n",
       "      <td>Ugyp3stlBZvjSAW5f194AaABAg</td>\n",
       "      <td>https://www.youtube.com/watch?v=AeeeEDSekG8&amp;lc=Ugyp3stlBZvjSAW5f194AaABAg</td>\n",
       "      <td>-0.5106</td>\n",
       "      <td>Negative</td>\n",
       "    </tr>\n",
       "    <tr>\n",
       "      <th>1</th>\n",
       "      <td>2</td>\n",
       "      <td>NaN</td>\n",
       "      <td>Florence Sarmiento</td>\n",
       "      <td>2022-06-15 01:49:32</td>\n",
       "      <td>0</td>\n",
       "      <td>no</td>\n",
       "      <td>no</td>\n",
       "      <td>thats why tesla co one of the biggest and successful companies in the world because of sir elon musk</td>\n",
       "      <td>UCZ5LC9u_ikerd5WxOq8dZMQ</td>\n",
       "      <td>Ugz4dFxk_FLB-aSwPqR4AaABAg</td>\n",
       "      <td>https://www.youtube.com/watch?v=AeeeEDSekG8&amp;lc=Ugz4dFxk_FLB-aSwPqR4AaABAg</td>\n",
       "      <td>0.5859</td>\n",
       "      <td>Positive</td>\n",
       "    </tr>\n",
       "    <tr>\n",
       "      <th>2</th>\n",
       "      <td>3</td>\n",
       "      <td>NaN</td>\n",
       "      <td>Arthur sammy Sam</td>\n",
       "      <td>2022-06-15 02:32:44</td>\n",
       "      <td>0</td>\n",
       "      <td>no</td>\n",
       "      <td>no</td>\n",
       "      <td>sorry i m working right now can t follow directions for any learning to but i still want to keep learning</td>\n",
       "      <td>UC9cVPUad51WuzKIWWuTNBsw</td>\n",
       "      <td>Ugyfau1xIIakJVAaLpp4AaABAg</td>\n",
       "      <td>https://www.youtube.com/watch?v=AeeeEDSekG8&amp;lc=Ugyfau1xIIakJVAaLpp4AaABAg</td>\n",
       "      <td>0.0772</td>\n",
       "      <td>Positive</td>\n",
       "    </tr>\n",
       "    <tr>\n",
       "      <th>3</th>\n",
       "      <td>4</td>\n",
       "      <td>NaN</td>\n",
       "      <td>Arthur sammy Sam</td>\n",
       "      <td>2022-06-15 02:37:21</td>\n",
       "      <td>0</td>\n",
       "      <td>no</td>\n",
       "      <td>no</td>\n",
       "      <td>i don t have money so i must working to get money to buy a data internet and my everyday food no body helping me to get knowledge anyways thanks to all people who have good heart to teching me thanks</td>\n",
       "      <td>UC9cVPUad51WuzKIWWuTNBsw</td>\n",
       "      <td>Ugwdu5AzHSdaMsd_klJ4AaABAg</td>\n",
       "      <td>https://www.youtube.com/watch?v=AeeeEDSekG8&amp;lc=Ugwdu5AzHSdaMsd_klJ4AaABAg</td>\n",
       "      <td>0.8271</td>\n",
       "      <td>Positive</td>\n",
       "    </tr>\n",
       "    <tr>\n",
       "      <th>4</th>\n",
       "      <td>5</td>\n",
       "      <td>NaN</td>\n",
       "      <td>Justin</td>\n",
       "      <td>2022-06-15 03:26:53</td>\n",
       "      <td>1</td>\n",
       "      <td>no</td>\n",
       "      <td>no</td>\n",
       "      <td>cant wait for fsd or autopilot to be recalled</td>\n",
       "      <td>UCs5auEWAt6gk-Rn5iElgkCw</td>\n",
       "      <td>UgxtqVUpo13JzYjF2Sd4AaABAg</td>\n",
       "      <td>https://www.youtube.com/watch?v=AeeeEDSekG8&amp;lc=UgxtqVUpo13JzYjF2Sd4AaABAg</td>\n",
       "      <td>0.0000</td>\n",
       "      <td>Neutral</td>\n",
       "    </tr>\n",
       "  </tbody>\n",
       "</table>\n",
       "</div>"
      ],
      "text/plain": [
       "   Unnamed: 0  Unnamed: 1 Name (click to view profile)                 Date  \\\n",
       "0           1         NaN              Devon Van Kraft  2022-06-15 01:03:21   \n",
       "1           2         NaN           Florence Sarmiento  2022-06-15 01:49:32   \n",
       "2           3         NaN             Arthur sammy Sam  2022-06-15 02:32:44   \n",
       "3           4         NaN             Arthur sammy Sam  2022-06-15 02:37:21   \n",
       "4           5         NaN                      Justin   2022-06-15 03:26:53   \n",
       "\n",
       "   Likes isHearted isPinned  \\\n",
       "0      1        no       no   \n",
       "1      0        no       no   \n",
       "2      0        no       no   \n",
       "3      0        no       no   \n",
       "4      1        no       no   \n",
       "\n",
       "                                                                                                                                                                                                   Comment  \\\n",
       "0                                                                                                                                                                              we can build a dumb car for   \n",
       "1                                                                                                     thats why tesla co one of the biggest and successful companies in the world because of sir elon musk   \n",
       "2                                                                                                sorry i m working right now can t follow directions for any learning to but i still want to keep learning   \n",
       "3  i don t have money so i must working to get money to buy a data internet and my everyday food no body helping me to get knowledge anyways thanks to all people who have good heart to teching me thanks   \n",
       "4                                                                                                                                                            cant wait for fsd or autopilot to be recalled   \n",
       "\n",
       "                 Profile ID                  Comment ID  \\\n",
       "0  UCOLaZvHywPp5M241y4mNsBg  Ugyp3stlBZvjSAW5f194AaABAg   \n",
       "1  UCZ5LC9u_ikerd5WxOq8dZMQ  Ugz4dFxk_FLB-aSwPqR4AaABAg   \n",
       "2  UC9cVPUad51WuzKIWWuTNBsw  Ugyfau1xIIakJVAaLpp4AaABAg   \n",
       "3  UC9cVPUad51WuzKIWWuTNBsw  Ugwdu5AzHSdaMsd_klJ4AaABAg   \n",
       "4  UCs5auEWAt6gk-Rn5iElgkCw  UgxtqVUpo13JzYjF2Sd4AaABAg   \n",
       "\n",
       "                                                                 Comment URL  \\\n",
       "0  https://www.youtube.com/watch?v=AeeeEDSekG8&lc=Ugyp3stlBZvjSAW5f194AaABAg   \n",
       "1  https://www.youtube.com/watch?v=AeeeEDSekG8&lc=Ugz4dFxk_FLB-aSwPqR4AaABAg   \n",
       "2  https://www.youtube.com/watch?v=AeeeEDSekG8&lc=Ugyfau1xIIakJVAaLpp4AaABAg   \n",
       "3  https://www.youtube.com/watch?v=AeeeEDSekG8&lc=Ugwdu5AzHSdaMsd_klJ4AaABAg   \n",
       "4  https://www.youtube.com/watch?v=AeeeEDSekG8&lc=UgxtqVUpo13JzYjF2Sd4AaABAg   \n",
       "\n",
       "   Sentiment Scores Sentiment  \n",
       "0           -0.5106  Negative  \n",
       "1            0.5859  Positive  \n",
       "2            0.0772  Positive  \n",
       "3            0.8271  Positive  \n",
       "4            0.0000   Neutral  "
      ]
     },
     "execution_count": 23,
     "metadata": {},
     "output_type": "execute_result"
    }
   ],
   "source": [
    "comm.head()"
   ]
  },
  {
   "cell_type": "code",
   "execution_count": 24,
   "id": "02421a65",
   "metadata": {},
   "outputs": [
    {
     "data": {
      "text/plain": [
       "Positive    52\n",
       "Negative    25\n",
       "Neutral     23\n",
       "Name: Sentiment, dtype: int64"
      ]
     },
     "execution_count": 24,
     "metadata": {},
     "output_type": "execute_result"
    }
   ],
   "source": [
    "comm.Sentiment.value_counts()"
   ]
  },
  {
   "cell_type": "code",
   "execution_count": 26,
   "id": "00a92b8c",
   "metadata": {},
   "outputs": [
    {
     "name": "stdout",
     "output_type": "stream",
     "text": [
      "Collecting wordcloud\n",
      "  Using cached wordcloud-1.8.1.tar.gz (220 kB)\n",
      "Requirement already satisfied: numpy>=1.6.1 in /Users/zhoushimi/opt/anaconda3/lib/python3.8/site-packages (from wordcloud) (1.20.1)\n",
      "Requirement already satisfied: pillow in /Users/zhoushimi/opt/anaconda3/lib/python3.8/site-packages (from wordcloud) (8.2.0)\n",
      "Requirement already satisfied: matplotlib in /Users/zhoushimi/opt/anaconda3/lib/python3.8/site-packages (from wordcloud) (3.3.4)\n",
      "Requirement already satisfied: kiwisolver>=1.0.1 in /Users/zhoushimi/opt/anaconda3/lib/python3.8/site-packages (from matplotlib->wordcloud) (1.3.1)\n",
      "Requirement already satisfied: cycler>=0.10 in /Users/zhoushimi/opt/anaconda3/lib/python3.8/site-packages (from matplotlib->wordcloud) (0.10.0)\n",
      "Requirement already satisfied: pyparsing!=2.0.4,!=2.1.2,!=2.1.6,>=2.0.3 in /Users/zhoushimi/opt/anaconda3/lib/python3.8/site-packages (from matplotlib->wordcloud) (2.4.7)\n",
      "Requirement already satisfied: python-dateutil>=2.1 in /Users/zhoushimi/opt/anaconda3/lib/python3.8/site-packages (from matplotlib->wordcloud) (2.8.1)\n",
      "Requirement already satisfied: six in /Users/zhoushimi/opt/anaconda3/lib/python3.8/site-packages (from cycler>=0.10->matplotlib->wordcloud) (1.15.0)\n",
      "Building wheels for collected packages: wordcloud\n",
      "  Building wheel for wordcloud (setup.py) ... \u001b[?25lerror\n",
      "\u001b[31m  ERROR: Command errored out with exit status 1:\n",
      "   command: /Users/zhoushimi/opt/anaconda3/bin/python -u -c 'import sys, setuptools, tokenize; sys.argv[0] = '\"'\"'/private/var/folders/7z/kkz90_tn2895555vs1tqb6600000gn/T/pip-install-7cmpw1vq/wordcloud_b2758a7f15ec457abe8af038e5027b1b/setup.py'\"'\"'; __file__='\"'\"'/private/var/folders/7z/kkz90_tn2895555vs1tqb6600000gn/T/pip-install-7cmpw1vq/wordcloud_b2758a7f15ec457abe8af038e5027b1b/setup.py'\"'\"';f=getattr(tokenize, '\"'\"'open'\"'\"', open)(__file__);code=f.read().replace('\"'\"'\\r\\n'\"'\"', '\"'\"'\\n'\"'\"');f.close();exec(compile(code, __file__, '\"'\"'exec'\"'\"'))' bdist_wheel -d /private/var/folders/7z/kkz90_tn2895555vs1tqb6600000gn/T/pip-wheel-9ae282_j\n",
      "       cwd: /private/var/folders/7z/kkz90_tn2895555vs1tqb6600000gn/T/pip-install-7cmpw1vq/wordcloud_b2758a7f15ec457abe8af038e5027b1b/\n",
      "  Complete output (24 lines):\n",
      "  running bdist_wheel\n",
      "  running build\n",
      "  running build_py\n",
      "  creating build\n",
      "  creating build/lib.macosx-10.9-x86_64-3.8\n",
      "  creating build/lib.macosx-10.9-x86_64-3.8/wordcloud\n",
      "  copying wordcloud/wordcloud_cli.py -> build/lib.macosx-10.9-x86_64-3.8/wordcloud\n",
      "  copying wordcloud/_version.py -> build/lib.macosx-10.9-x86_64-3.8/wordcloud\n",
      "  copying wordcloud/__init__.py -> build/lib.macosx-10.9-x86_64-3.8/wordcloud\n",
      "  copying wordcloud/tokenization.py -> build/lib.macosx-10.9-x86_64-3.8/wordcloud\n",
      "  copying wordcloud/wordcloud.py -> build/lib.macosx-10.9-x86_64-3.8/wordcloud\n",
      "  copying wordcloud/color_from_image.py -> build/lib.macosx-10.9-x86_64-3.8/wordcloud\n",
      "  copying wordcloud/__main__.py -> build/lib.macosx-10.9-x86_64-3.8/wordcloud\n",
      "  copying wordcloud/stopwords -> build/lib.macosx-10.9-x86_64-3.8/wordcloud\n",
      "  copying wordcloud/DroidSansMono.ttf -> build/lib.macosx-10.9-x86_64-3.8/wordcloud\n",
      "  UPDATING build/lib.macosx-10.9-x86_64-3.8/wordcloud/_version.py\n",
      "  set build/lib.macosx-10.9-x86_64-3.8/wordcloud/_version.py to '1.8.1'\n",
      "  running build_ext\n",
      "  building 'wordcloud.query_integral_image' extension\n",
      "  creating build/temp.macosx-10.9-x86_64-3.8\n",
      "  creating build/temp.macosx-10.9-x86_64-3.8/wordcloud\n",
      "  gcc -Wno-unused-result -Wsign-compare -Wunreachable-code -DNDEBUG -g -fwrapv -O3 -Wall -Wstrict-prototypes -I/Users/zhoushimi/opt/anaconda3/include -arch x86_64 -I/Users/zhoushimi/opt/anaconda3/include -arch x86_64 -I/Users/zhoushimi/opt/anaconda3/include/python3.8 -c wordcloud/query_integral_image.c -o build/temp.macosx-10.9-x86_64-3.8/wordcloud/query_integral_image.o\n",
      "  xcrun: error: invalid active developer path (/Library/Developer/CommandLineTools), missing xcrun at: /Library/Developer/CommandLineTools/usr/bin/xcrun\n",
      "  error: command 'gcc' failed with exit status 1\n",
      "  ----------------------------------------\u001b[0m\n",
      "\u001b[31m  ERROR: Failed building wheel for wordcloud\u001b[0m\n",
      "\u001b[?25h  Running setup.py clean for wordcloud\n",
      "Failed to build wordcloud\n",
      "Installing collected packages: wordcloud\n",
      "    Running setup.py install for wordcloud ... \u001b[?25lerror\n",
      "\u001b[31m    ERROR: Command errored out with exit status 1:\n",
      "     command: /Users/zhoushimi/opt/anaconda3/bin/python -u -c 'import sys, setuptools, tokenize; sys.argv[0] = '\"'\"'/private/var/folders/7z/kkz90_tn2895555vs1tqb6600000gn/T/pip-install-7cmpw1vq/wordcloud_b2758a7f15ec457abe8af038e5027b1b/setup.py'\"'\"'; __file__='\"'\"'/private/var/folders/7z/kkz90_tn2895555vs1tqb6600000gn/T/pip-install-7cmpw1vq/wordcloud_b2758a7f15ec457abe8af038e5027b1b/setup.py'\"'\"';f=getattr(tokenize, '\"'\"'open'\"'\"', open)(__file__);code=f.read().replace('\"'\"'\\r\\n'\"'\"', '\"'\"'\\n'\"'\"');f.close();exec(compile(code, __file__, '\"'\"'exec'\"'\"'))' install --record /private/var/folders/7z/kkz90_tn2895555vs1tqb6600000gn/T/pip-record-pmltf66x/install-record.txt --single-version-externally-managed --compile --install-headers /Users/zhoushimi/opt/anaconda3/include/python3.8/wordcloud\n",
      "         cwd: /private/var/folders/7z/kkz90_tn2895555vs1tqb6600000gn/T/pip-install-7cmpw1vq/wordcloud_b2758a7f15ec457abe8af038e5027b1b/\n",
      "    Complete output (24 lines):\n",
      "    running install\n",
      "    running build\n",
      "    running build_py\n",
      "    creating build\n",
      "    creating build/lib.macosx-10.9-x86_64-3.8\n",
      "    creating build/lib.macosx-10.9-x86_64-3.8/wordcloud\n",
      "    copying wordcloud/wordcloud_cli.py -> build/lib.macosx-10.9-x86_64-3.8/wordcloud\n",
      "    copying wordcloud/_version.py -> build/lib.macosx-10.9-x86_64-3.8/wordcloud\n",
      "    copying wordcloud/__init__.py -> build/lib.macosx-10.9-x86_64-3.8/wordcloud\n",
      "    copying wordcloud/tokenization.py -> build/lib.macosx-10.9-x86_64-3.8/wordcloud\n",
      "    copying wordcloud/wordcloud.py -> build/lib.macosx-10.9-x86_64-3.8/wordcloud\n",
      "    copying wordcloud/color_from_image.py -> build/lib.macosx-10.9-x86_64-3.8/wordcloud\n",
      "    copying wordcloud/__main__.py -> build/lib.macosx-10.9-x86_64-3.8/wordcloud\n",
      "    copying wordcloud/stopwords -> build/lib.macosx-10.9-x86_64-3.8/wordcloud\n",
      "    copying wordcloud/DroidSansMono.ttf -> build/lib.macosx-10.9-x86_64-3.8/wordcloud\n",
      "    UPDATING build/lib.macosx-10.9-x86_64-3.8/wordcloud/_version.py\n",
      "    set build/lib.macosx-10.9-x86_64-3.8/wordcloud/_version.py to '1.8.1'\n",
      "    running build_ext\n",
      "    building 'wordcloud.query_integral_image' extension\n",
      "    creating build/temp.macosx-10.9-x86_64-3.8\n",
      "    creating build/temp.macosx-10.9-x86_64-3.8/wordcloud\n",
      "    gcc -Wno-unused-result -Wsign-compare -Wunreachable-code -DNDEBUG -g -fwrapv -O3 -Wall -Wstrict-prototypes -I/Users/zhoushimi/opt/anaconda3/include -arch x86_64 -I/Users/zhoushimi/opt/anaconda3/include -arch x86_64 -I/Users/zhoushimi/opt/anaconda3/include/python3.8 -c wordcloud/query_integral_image.c -o build/temp.macosx-10.9-x86_64-3.8/wordcloud/query_integral_image.o\n",
      "    xcrun: error: invalid active developer path (/Library/Developer/CommandLineTools), missing xcrun at: /Library/Developer/CommandLineTools/usr/bin/xcrun\n",
      "    error: command 'gcc' failed with exit status 1\n",
      "    ----------------------------------------\u001b[0m\n",
      "\u001b[31mERROR: Command errored out with exit status 1: /Users/zhoushimi/opt/anaconda3/bin/python -u -c 'import sys, setuptools, tokenize; sys.argv[0] = '\"'\"'/private/var/folders/7z/kkz90_tn2895555vs1tqb6600000gn/T/pip-install-7cmpw1vq/wordcloud_b2758a7f15ec457abe8af038e5027b1b/setup.py'\"'\"'; __file__='\"'\"'/private/var/folders/7z/kkz90_tn2895555vs1tqb6600000gn/T/pip-install-7cmpw1vq/wordcloud_b2758a7f15ec457abe8af038e5027b1b/setup.py'\"'\"';f=getattr(tokenize, '\"'\"'open'\"'\"', open)(__file__);code=f.read().replace('\"'\"'\\r\\n'\"'\"', '\"'\"'\\n'\"'\"');f.close();exec(compile(code, __file__, '\"'\"'exec'\"'\"'))' install --record /private/var/folders/7z/kkz90_tn2895555vs1tqb6600000gn/T/pip-record-pmltf66x/install-record.txt --single-version-externally-managed --compile --install-headers /Users/zhoushimi/opt/anaconda3/include/python3.8/wordcloud Check the logs for full command output.\u001b[0m\n",
      "\u001b[?25hNote: you may need to restart the kernel to use updated packages.\n"
     ]
    }
   ],
   "source": [
    "pip install wordcloud\n"
   ]
  },
  {
   "cell_type": "code",
   "execution_count": 28,
   "id": "d0bfdc1f",
   "metadata": {},
   "outputs": [
    {
     "ename": "ModuleNotFoundError",
     "evalue": "No module named 'wordcloud'",
     "output_type": "error",
     "traceback": [
      "\u001b[0;31m---------------------------------------------------------------------------\u001b[0m",
      "\u001b[0;31mModuleNotFoundError\u001b[0m                       Traceback (most recent call last)",
      "\u001b[0;32m<ipython-input-28-48e988787766>\u001b[0m in \u001b[0;36m<module>\u001b[0;34m\u001b[0m\n\u001b[1;32m      1\u001b[0m \u001b[0mall_words\u001b[0m \u001b[0;34m=\u001b[0m \u001b[0;34m' '\u001b[0m\u001b[0;34m.\u001b[0m\u001b[0mjoin\u001b[0m\u001b[0;34m(\u001b[0m\u001b[0;34m[\u001b[0m\u001b[0mtext\u001b[0m \u001b[0;32mfor\u001b[0m \u001b[0mtext\u001b[0m \u001b[0;32min\u001b[0m \u001b[0mcomm\u001b[0m\u001b[0;34m[\u001b[0m\u001b[0;34m'Comment'\u001b[0m\u001b[0;34m]\u001b[0m\u001b[0;34m]\u001b[0m\u001b[0;34m)\u001b[0m\u001b[0;34m\u001b[0m\u001b[0;34m\u001b[0m\u001b[0m\n\u001b[0;32m----> 2\u001b[0;31m \u001b[0;32mfrom\u001b[0m \u001b[0mwordcloud\u001b[0m \u001b[0;32mimport\u001b[0m \u001b[0mWordCloud\u001b[0m\u001b[0;34m\u001b[0m\u001b[0;34m\u001b[0m\u001b[0m\n\u001b[0m\u001b[1;32m      3\u001b[0m \u001b[0mwordcloud\u001b[0m \u001b[0;34m=\u001b[0m \u001b[0mWordCloud\u001b[0m\u001b[0;34m(\u001b[0m\u001b[0mwidth\u001b[0m\u001b[0;34m=\u001b[0m\u001b[0;36m800\u001b[0m\u001b[0;34m,\u001b[0m \u001b[0mheight\u001b[0m\u001b[0;34m=\u001b[0m\u001b[0;36m500\u001b[0m\u001b[0;34m,\u001b[0m \u001b[0mrandom_state\u001b[0m\u001b[0;34m=\u001b[0m\u001b[0;36m21\u001b[0m\u001b[0;34m,\u001b[0m \u001b[0mmax_font_size\u001b[0m\u001b[0;34m=\u001b[0m\u001b[0;36m100\u001b[0m\u001b[0;34m)\u001b[0m\u001b[0;34m.\u001b[0m\u001b[0mgenerate\u001b[0m\u001b[0;34m(\u001b[0m\u001b[0mall_words\u001b[0m\u001b[0;34m)\u001b[0m\u001b[0;34m\u001b[0m\u001b[0;34m\u001b[0m\u001b[0m\n\u001b[1;32m      4\u001b[0m \u001b[0;34m\u001b[0m\u001b[0m\n\u001b[1;32m      5\u001b[0m \u001b[0mplt\u001b[0m\u001b[0;34m.\u001b[0m\u001b[0mfigure\u001b[0m\u001b[0;34m(\u001b[0m\u001b[0mfigsize\u001b[0m\u001b[0;34m=\u001b[0m\u001b[0;34m(\u001b[0m\u001b[0;36m10\u001b[0m\u001b[0;34m,\u001b[0m\u001b[0;36m7\u001b[0m\u001b[0;34m)\u001b[0m\u001b[0;34m)\u001b[0m\u001b[0;34m\u001b[0m\u001b[0;34m\u001b[0m\u001b[0m\n",
      "\u001b[0;31mModuleNotFoundError\u001b[0m: No module named 'wordcloud'"
     ]
    }
   ],
   "source": [
    "all_words = ' '.join([text for text in comm['Comment']])\n",
    "from wordcloud import WordCloud\n",
    "wordcloud = WordCloud(width=800, height=500, random_state=21, max_font_size=100).generate(all_words)\n",
    "\n",
    "plt.figure(figsize=(10,7))\n",
    "plt.imshow(wordcloud, interpolation='bilinear')\n",
    "plt.axis('off')\n",
    "plt.show()"
   ]
  },
  {
   "cell_type": "code",
   "execution_count": null,
   "id": "67a24a6e",
   "metadata": {},
   "outputs": [],
   "source": []
  }
 ],
 "metadata": {
  "kernelspec": {
   "display_name": "Python 3",
   "language": "python",
   "name": "python3"
  },
  "language_info": {
   "codemirror_mode": {
    "name": "ipython",
    "version": 3
   },
   "file_extension": ".py",
   "mimetype": "text/x-python",
   "name": "python",
   "nbconvert_exporter": "python",
   "pygments_lexer": "ipython3",
   "version": "3.8.8"
  }
 },
 "nbformat": 4,
 "nbformat_minor": 5
}
