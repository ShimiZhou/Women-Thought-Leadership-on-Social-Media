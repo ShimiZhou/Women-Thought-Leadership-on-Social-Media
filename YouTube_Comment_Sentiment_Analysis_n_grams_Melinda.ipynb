{
 "cells": [
  {
   "cell_type": "code",
   "execution_count": 1,
   "id": "6d35bcd0",
   "metadata": {},
   "outputs": [],
   "source": [
    "#data processing package\n",
    "import pandas as pd\n",
    "import numpy as np\n",
    "pd.set_option('display.max_colwidth', 200)"
   ]
  },
  {
   "cell_type": "code",
   "execution_count": 2,
   "id": "4297da50",
   "metadata": {},
   "outputs": [],
   "source": [
    "#visualization packages\n",
    "import matplotlib.pyplot as plt\n",
    "import seaborn as sns"
   ]
  },
  {
   "cell_type": "code",
   "execution_count": 3,
   "id": "888d49fb",
   "metadata": {},
   "outputs": [],
   "source": [
    "#NLP packages\n",
    "from textblob import TextBlob\n",
    "\n",
    "import warnings \n",
    "warnings.filterwarnings('ignore')"
   ]
  },
  {
   "cell_type": "code",
   "execution_count": 4,
   "id": "1b9d90bd",
   "metadata": {},
   "outputs": [
    {
     "data": {
      "text/plain": [
       "Sentiment(polarity=0.1, subjectivity=0.3)"
      ]
     },
     "execution_count": 4,
     "metadata": {},
     "output_type": "execute_result"
    }
   ],
   "source": [
    "#Testing NLP -Sentiment Analysis using TextBlob\n",
    "TextBlob(\"Today is a busy day\").sentiment"
   ]
  },
  {
   "cell_type": "code",
   "execution_count": 5,
   "id": "3806327c",
   "metadata": {},
   "outputs": [],
   "source": [
    "#Importing Youtube comments data\n",
    "comm = pd.read_csv(\"filter62d1640173ea4_csv.csv\")"
   ]
  },
  {
   "cell_type": "code",
   "execution_count": 6,
   "id": "1cf6ba4f",
   "metadata": {},
   "outputs": [
    {
     "data": {
      "text/html": [
       "<div>\n",
       "<style scoped>\n",
       "    .dataframe tbody tr th:only-of-type {\n",
       "        vertical-align: middle;\n",
       "    }\n",
       "\n",
       "    .dataframe tbody tr th {\n",
       "        vertical-align: top;\n",
       "    }\n",
       "\n",
       "    .dataframe thead th {\n",
       "        text-align: right;\n",
       "    }\n",
       "</style>\n",
       "<table border=\"1\" class=\"dataframe\">\n",
       "  <thead>\n",
       "    <tr style=\"text-align: right;\">\n",
       "      <th></th>\n",
       "      <th>Unnamed: 0</th>\n",
       "      <th>Unnamed: 1</th>\n",
       "      <th>Name (click to view profile)</th>\n",
       "      <th>Date</th>\n",
       "      <th>Likes</th>\n",
       "      <th>isHearted</th>\n",
       "      <th>isPinned</th>\n",
       "      <th>Comment</th>\n",
       "      <th>Profile ID</th>\n",
       "      <th>Comment ID</th>\n",
       "      <th>Comment URL</th>\n",
       "    </tr>\n",
       "  </thead>\n",
       "  <tbody>\n",
       "    <tr>\n",
       "      <th>0</th>\n",
       "      <td>1</td>\n",
       "      <td>NaN</td>\n",
       "      <td>LoveaHusky</td>\n",
       "      <td>2021-05-13 02:23:01</td>\n",
       "      <td>2</td>\n",
       "      <td>no</td>\n",
       "      <td>no</td>\n",
       "      <td>This sounds as scripted as an elementary school play</td>\n",
       "      <td>UC4EteVDapn0EFBtgP0wCK6Q</td>\n",
       "      <td>UgwoIDuJTg41I9z8JaN4AaABAg</td>\n",
       "      <td>https://www.youtube.com/watch?v=DEDqsEjhQYk&amp;lc=UgwoIDuJTg41I9z8JaN4AaABAg</td>\n",
       "    </tr>\n",
       "    <tr>\n",
       "      <th>1</th>\n",
       "      <td>2</td>\n",
       "      <td>NaN</td>\n",
       "      <td>LoveaHusky</td>\n",
       "      <td>2021-05-13 02:23:35</td>\n",
       "      <td>2</td>\n",
       "      <td>no</td>\n",
       "      <td>no</td>\n",
       "      <td>Those brows, wake up everyone</td>\n",
       "      <td>UC4EteVDapn0EFBtgP0wCK6Q</td>\n",
       "      <td>UgxaGbSppWCKp9vksqR4AaABAg</td>\n",
       "      <td>https://www.youtube.com/watch?v=DEDqsEjhQYk&amp;lc=UgxaGbSppWCKp9vksqR4AaABAg</td>\n",
       "    </tr>\n",
       "    <tr>\n",
       "      <th>2</th>\n",
       "      <td>3</td>\n",
       "      <td>NaN</td>\n",
       "      <td>SonicArchives</td>\n",
       "      <td>2021-05-13 15:41:33</td>\n",
       "      <td>1</td>\n",
       "      <td>no</td>\n",
       "      <td>no</td>\n",
       "      <td>Marrying Bill gates makes you an automatic expert on all topics.</td>\n",
       "      <td>UCeobR7jYq6ZD1rgC1Rr8ofA</td>\n",
       "      <td>Ugwspo6AooXdOdy5c6Z4AaABAg</td>\n",
       "      <td>https://www.youtube.com/watch?v=DEDqsEjhQYk&amp;lc=Ugwspo6AooXdOdy5c6Z4AaABAg</td>\n",
       "    </tr>\n",
       "    <tr>\n",
       "      <th>3</th>\n",
       "      <td>4</td>\n",
       "      <td>NaN</td>\n",
       "      <td>Jil May</td>\n",
       "      <td>2021-05-14 01:21:39</td>\n",
       "      <td>1</td>\n",
       "      <td>no</td>\n",
       "      <td>no</td>\n",
       "      <td>She moves like a robot</td>\n",
       "      <td>UCjBsLpbwfIDADmTCFvK2HJg</td>\n",
       "      <td>UgzGxFzPb-7FFzoQJ7R4AaABAg</td>\n",
       "      <td>https://www.youtube.com/watch?v=DEDqsEjhQYk&amp;lc=UgzGxFzPb-7FFzoQJ7R4AaABAg</td>\n",
       "    </tr>\n",
       "    <tr>\n",
       "      <th>4</th>\n",
       "      <td>5</td>\n",
       "      <td>NaN</td>\n",
       "      <td>ufc354811</td>\n",
       "      <td>2021-05-14 01:38:17</td>\n",
       "      <td>3</td>\n",
       "      <td>no</td>\n",
       "      <td>no</td>\n",
       "      <td>That is one beautiful man</td>\n",
       "      <td>UCqb1Z5VlQ1ht6wclV14itnQ</td>\n",
       "      <td>UgzaohE2K0Fl3IiyFDR4AaABAg</td>\n",
       "      <td>https://www.youtube.com/watch?v=DEDqsEjhQYk&amp;lc=UgzaohE2K0Fl3IiyFDR4AaABAg</td>\n",
       "    </tr>\n",
       "  </tbody>\n",
       "</table>\n",
       "</div>"
      ],
      "text/plain": [
       "   Unnamed: 0  Unnamed: 1 Name (click to view profile)                 Date  \\\n",
       "0           1         NaN                   LoveaHusky  2021-05-13 02:23:01   \n",
       "1           2         NaN                   LoveaHusky  2021-05-13 02:23:35   \n",
       "2           3         NaN                SonicArchives  2021-05-13 15:41:33   \n",
       "3           4         NaN                      Jil May  2021-05-14 01:21:39   \n",
       "4           5         NaN                    ufc354811  2021-05-14 01:38:17   \n",
       "\n",
       "   Likes isHearted isPinned  \\\n",
       "0      2        no       no   \n",
       "1      2        no       no   \n",
       "2      1        no       no   \n",
       "3      1        no       no   \n",
       "4      3        no       no   \n",
       "\n",
       "                                                            Comment  \\\n",
       "0              This sounds as scripted as an elementary school play   \n",
       "1                                     Those brows, wake up everyone   \n",
       "2  Marrying Bill gates makes you an automatic expert on all topics.   \n",
       "3                                            She moves like a robot   \n",
       "4                                         That is one beautiful man   \n",
       "\n",
       "                 Profile ID                  Comment ID  \\\n",
       "0  UC4EteVDapn0EFBtgP0wCK6Q  UgwoIDuJTg41I9z8JaN4AaABAg   \n",
       "1  UC4EteVDapn0EFBtgP0wCK6Q  UgxaGbSppWCKp9vksqR4AaABAg   \n",
       "2  UCeobR7jYq6ZD1rgC1Rr8ofA  Ugwspo6AooXdOdy5c6Z4AaABAg   \n",
       "3  UCjBsLpbwfIDADmTCFvK2HJg  UgzGxFzPb-7FFzoQJ7R4AaABAg   \n",
       "4  UCqb1Z5VlQ1ht6wclV14itnQ  UgzaohE2K0Fl3IiyFDR4AaABAg   \n",
       "\n",
       "                                                                 Comment URL  \n",
       "0  https://www.youtube.com/watch?v=DEDqsEjhQYk&lc=UgwoIDuJTg41I9z8JaN4AaABAg  \n",
       "1  https://www.youtube.com/watch?v=DEDqsEjhQYk&lc=UgxaGbSppWCKp9vksqR4AaABAg  \n",
       "2  https://www.youtube.com/watch?v=DEDqsEjhQYk&lc=Ugwspo6AooXdOdy5c6Z4AaABAg  \n",
       "3  https://www.youtube.com/watch?v=DEDqsEjhQYk&lc=UgzGxFzPb-7FFzoQJ7R4AaABAg  \n",
       "4  https://www.youtube.com/watch?v=DEDqsEjhQYk&lc=UgzaohE2K0Fl3IiyFDR4AaABAg  "
      ]
     },
     "execution_count": 6,
     "metadata": {},
     "output_type": "execute_result"
    }
   ],
   "source": [
    "comm.head()"
   ]
  },
  {
   "cell_type": "code",
   "execution_count": 7,
   "id": "42c6b2dd",
   "metadata": {},
   "outputs": [
    {
     "data": {
      "text/plain": [
       "(100, 11)"
      ]
     },
     "execution_count": 7,
     "metadata": {},
     "output_type": "execute_result"
    }
   ],
   "source": [
    "comm.shape"
   ]
  },
  {
   "cell_type": "code",
   "execution_count": 8,
   "id": "298ebdb5",
   "metadata": {},
   "outputs": [],
   "source": [
    "import re"
   ]
  },
  {
   "cell_type": "code",
   "execution_count": 9,
   "id": "01ef0391",
   "metadata": {},
   "outputs": [],
   "source": [
    "#removing punctuations, numbers and special characters.\n",
    "comm[\"Comment\"] =comm[\"Comment\"].str.replace(\"[^a-zA-Z#]\", \" \")"
   ]
  },
  {
   "cell_type": "code",
   "execution_count": 10,
   "id": "4078f660",
   "metadata": {},
   "outputs": [],
   "source": [
    "#changing the text to lower case\n",
    "comm[\"Comment\"] = comm[\"Comment\"].apply(lambda x: x.lower())"
   ]
  },
  {
   "cell_type": "code",
   "execution_count": 11,
   "id": "45abba47",
   "metadata": {},
   "outputs": [
    {
     "data": {
      "text/plain": [
       "0                 [this, sounds, as, scripted, as, an, elementary, school, play]\n",
       "1                                             [those, brows, wake, up, everyone]\n",
       "2    [marrying, bill, gates, makes, you, an, automatic, expert, on, all, topics]\n",
       "3                                                   [she, moves, like, a, robot]\n",
       "4                                                [that, is, one, beautiful, man]\n",
       "Name: Comment, dtype: object"
      ]
     },
     "execution_count": 11,
     "metadata": {},
     "output_type": "execute_result"
    }
   ],
   "source": [
    "#Tokenization\n",
    "tokenized_comm = comm[\"Comment\"].apply(lambda x: x.split())\n",
    "tokenized_comm.head()"
   ]
  },
  {
   "cell_type": "code",
   "execution_count": 14,
   "id": "9219f035",
   "metadata": {},
   "outputs": [
    {
     "name": "stdout",
     "output_type": "stream",
     "text": [
      "Requirement already satisfied: nltk in /Users/zhoushimi/opt/anaconda3/lib/python3.8/site-packages (3.6.1)\n",
      "Requirement already satisfied: tqdm in /Users/zhoushimi/opt/anaconda3/lib/python3.8/site-packages (from nltk) (4.59.0)\n",
      "Requirement already satisfied: regex in /Users/zhoushimi/opt/anaconda3/lib/python3.8/site-packages (from nltk) (2021.4.4)\n",
      "Requirement already satisfied: joblib in /Users/zhoushimi/opt/anaconda3/lib/python3.8/site-packages (from nltk) (1.1.0)\n",
      "Requirement already satisfied: click in /Users/zhoushimi/opt/anaconda3/lib/python3.8/site-packages (from nltk) (7.1.2)\n",
      "Note: you may need to restart the kernel to use updated packages.\n"
     ]
    }
   ],
   "source": [
    "pip install nltk\n"
   ]
  },
  {
   "cell_type": "code",
   "execution_count": 12,
   "id": "c866ee0a",
   "metadata": {},
   "outputs": [],
   "source": [
    "from nltk.stem import WordNetLemmatizer\n",
    "from nltk.corpus import stopwords"
   ]
  },
  {
   "cell_type": "code",
   "execution_count": 13,
   "id": "61119bd6",
   "metadata": {},
   "outputs": [],
   "source": [
    "wnl = WordNetLemmatizer()"
   ]
  },
  {
   "cell_type": "code",
   "execution_count": 14,
   "id": "9c10e574",
   "metadata": {},
   "outputs": [
    {
     "name": "stderr",
     "output_type": "stream",
     "text": [
      "[nltk_data] Downloading package stopwords to\n",
      "[nltk_data]     /Users/zhoushimi/nltk_data...\n",
      "[nltk_data]   Package stopwords is already up-to-date!\n"
     ]
    },
    {
     "data": {
      "text/plain": [
       "0                 [this, sounds, as, scripted, as, an, elementary, school, play]\n",
       "1                                             [those, brows, wake, up, everyone]\n",
       "2    [marrying, bill, gates, makes, you, an, automatic, expert, on, all, topics]\n",
       "3                                                   [she, moves, like, a, robot]\n",
       "4                                                [that, is, one, beautiful, man]\n",
       "Name: Comment, dtype: object"
      ]
     },
     "execution_count": 14,
     "metadata": {},
     "output_type": "execute_result"
    }
   ],
   "source": [
    "import nltk\n",
    "nltk.download('stopwords')\n",
    "tokenized_comm.apply(lambda x: [wnl.lemmatize(i) for i in x if i not in set(stopwords.words('english'))])\n",
    "tokenized_comm.head()"
   ]
  },
  {
   "cell_type": "code",
   "execution_count": 15,
   "id": "7d4a7105",
   "metadata": {},
   "outputs": [],
   "source": [
    "for i in range(len(tokenized_comm)):\n",
    "    tokenized_comm[i] = ' '.join(tokenized_comm[i])\n",
    "comm['Comment'] = tokenized_comm"
   ]
  },
  {
   "cell_type": "code",
   "execution_count": 16,
   "id": "d2826476",
   "metadata": {},
   "outputs": [
    {
     "name": "stderr",
     "output_type": "stream",
     "text": [
      "[nltk_data] Downloading package vader_lexicon to\n",
      "[nltk_data]     /Users/zhoushimi/nltk_data...\n",
      "[nltk_data]   Package vader_lexicon is already up-to-date!\n"
     ]
    }
   ],
   "source": [
    "# sentiment analysis\n",
    "import nltk\n",
    "nltk.download('vader_lexicon')\n",
    "from nltk.sentiment.vader import SentimentIntensityAnalyzer\n",
    "sia = SentimentIntensityAnalyzer()"
   ]
  },
  {
   "cell_type": "code",
   "execution_count": 17,
   "id": "bb9551a7",
   "metadata": {},
   "outputs": [],
   "source": [
    "#Setting the sentiment scores\n",
    "comm['Sentiment Scores'] = comm['Comment'].apply(lambda x: sia.polarity_scores(x)['compound'])"
   ]
  },
  {
   "cell_type": "code",
   "execution_count": 18,
   "id": "400a6c89",
   "metadata": {},
   "outputs": [
    {
     "data": {
      "text/html": [
       "<div>\n",
       "<style scoped>\n",
       "    .dataframe tbody tr th:only-of-type {\n",
       "        vertical-align: middle;\n",
       "    }\n",
       "\n",
       "    .dataframe tbody tr th {\n",
       "        vertical-align: top;\n",
       "    }\n",
       "\n",
       "    .dataframe thead th {\n",
       "        text-align: right;\n",
       "    }\n",
       "</style>\n",
       "<table border=\"1\" class=\"dataframe\">\n",
       "  <thead>\n",
       "    <tr style=\"text-align: right;\">\n",
       "      <th></th>\n",
       "      <th>Unnamed: 0</th>\n",
       "      <th>Unnamed: 1</th>\n",
       "      <th>Name (click to view profile)</th>\n",
       "      <th>Date</th>\n",
       "      <th>Likes</th>\n",
       "      <th>isHearted</th>\n",
       "      <th>isPinned</th>\n",
       "      <th>Comment</th>\n",
       "      <th>Profile ID</th>\n",
       "      <th>Comment ID</th>\n",
       "      <th>Comment URL</th>\n",
       "      <th>Sentiment Scores</th>\n",
       "    </tr>\n",
       "  </thead>\n",
       "  <tbody>\n",
       "    <tr>\n",
       "      <th>0</th>\n",
       "      <td>1</td>\n",
       "      <td>NaN</td>\n",
       "      <td>LoveaHusky</td>\n",
       "      <td>2021-05-13 02:23:01</td>\n",
       "      <td>2</td>\n",
       "      <td>no</td>\n",
       "      <td>no</td>\n",
       "      <td>this sounds as scripted as an elementary school play</td>\n",
       "      <td>UC4EteVDapn0EFBtgP0wCK6Q</td>\n",
       "      <td>UgwoIDuJTg41I9z8JaN4AaABAg</td>\n",
       "      <td>https://www.youtube.com/watch?v=DEDqsEjhQYk&amp;lc=UgwoIDuJTg41I9z8JaN4AaABAg</td>\n",
       "      <td>0.3400</td>\n",
       "    </tr>\n",
       "    <tr>\n",
       "      <th>1</th>\n",
       "      <td>2</td>\n",
       "      <td>NaN</td>\n",
       "      <td>LoveaHusky</td>\n",
       "      <td>2021-05-13 02:23:35</td>\n",
       "      <td>2</td>\n",
       "      <td>no</td>\n",
       "      <td>no</td>\n",
       "      <td>those brows wake up everyone</td>\n",
       "      <td>UC4EteVDapn0EFBtgP0wCK6Q</td>\n",
       "      <td>UgxaGbSppWCKp9vksqR4AaABAg</td>\n",
       "      <td>https://www.youtube.com/watch?v=DEDqsEjhQYk&amp;lc=UgxaGbSppWCKp9vksqR4AaABAg</td>\n",
       "      <td>0.0000</td>\n",
       "    </tr>\n",
       "    <tr>\n",
       "      <th>2</th>\n",
       "      <td>3</td>\n",
       "      <td>NaN</td>\n",
       "      <td>SonicArchives</td>\n",
       "      <td>2021-05-13 15:41:33</td>\n",
       "      <td>1</td>\n",
       "      <td>no</td>\n",
       "      <td>no</td>\n",
       "      <td>marrying bill gates makes you an automatic expert on all topics</td>\n",
       "      <td>UCeobR7jYq6ZD1rgC1Rr8ofA</td>\n",
       "      <td>Ugwspo6AooXdOdy5c6Z4AaABAg</td>\n",
       "      <td>https://www.youtube.com/watch?v=DEDqsEjhQYk&amp;lc=Ugwspo6AooXdOdy5c6Z4AaABAg</td>\n",
       "      <td>0.0000</td>\n",
       "    </tr>\n",
       "    <tr>\n",
       "      <th>3</th>\n",
       "      <td>4</td>\n",
       "      <td>NaN</td>\n",
       "      <td>Jil May</td>\n",
       "      <td>2021-05-14 01:21:39</td>\n",
       "      <td>1</td>\n",
       "      <td>no</td>\n",
       "      <td>no</td>\n",
       "      <td>she moves like a robot</td>\n",
       "      <td>UCjBsLpbwfIDADmTCFvK2HJg</td>\n",
       "      <td>UgzGxFzPb-7FFzoQJ7R4AaABAg</td>\n",
       "      <td>https://www.youtube.com/watch?v=DEDqsEjhQYk&amp;lc=UgzGxFzPb-7FFzoQJ7R4AaABAg</td>\n",
       "      <td>0.3612</td>\n",
       "    </tr>\n",
       "    <tr>\n",
       "      <th>4</th>\n",
       "      <td>5</td>\n",
       "      <td>NaN</td>\n",
       "      <td>ufc354811</td>\n",
       "      <td>2021-05-14 01:38:17</td>\n",
       "      <td>3</td>\n",
       "      <td>no</td>\n",
       "      <td>no</td>\n",
       "      <td>that is one beautiful man</td>\n",
       "      <td>UCqb1Z5VlQ1ht6wclV14itnQ</td>\n",
       "      <td>UgzaohE2K0Fl3IiyFDR4AaABAg</td>\n",
       "      <td>https://www.youtube.com/watch?v=DEDqsEjhQYk&amp;lc=UgzaohE2K0Fl3IiyFDR4AaABAg</td>\n",
       "      <td>0.5994</td>\n",
       "    </tr>\n",
       "  </tbody>\n",
       "</table>\n",
       "</div>"
      ],
      "text/plain": [
       "   Unnamed: 0  Unnamed: 1 Name (click to view profile)                 Date  \\\n",
       "0           1         NaN                   LoveaHusky  2021-05-13 02:23:01   \n",
       "1           2         NaN                   LoveaHusky  2021-05-13 02:23:35   \n",
       "2           3         NaN                SonicArchives  2021-05-13 15:41:33   \n",
       "3           4         NaN                      Jil May  2021-05-14 01:21:39   \n",
       "4           5         NaN                    ufc354811  2021-05-14 01:38:17   \n",
       "\n",
       "   Likes isHearted isPinned  \\\n",
       "0      2        no       no   \n",
       "1      2        no       no   \n",
       "2      1        no       no   \n",
       "3      1        no       no   \n",
       "4      3        no       no   \n",
       "\n",
       "                                                           Comment  \\\n",
       "0             this sounds as scripted as an elementary school play   \n",
       "1                                     those brows wake up everyone   \n",
       "2  marrying bill gates makes you an automatic expert on all topics   \n",
       "3                                           she moves like a robot   \n",
       "4                                        that is one beautiful man   \n",
       "\n",
       "                 Profile ID                  Comment ID  \\\n",
       "0  UC4EteVDapn0EFBtgP0wCK6Q  UgwoIDuJTg41I9z8JaN4AaABAg   \n",
       "1  UC4EteVDapn0EFBtgP0wCK6Q  UgxaGbSppWCKp9vksqR4AaABAg   \n",
       "2  UCeobR7jYq6ZD1rgC1Rr8ofA  Ugwspo6AooXdOdy5c6Z4AaABAg   \n",
       "3  UCjBsLpbwfIDADmTCFvK2HJg  UgzGxFzPb-7FFzoQJ7R4AaABAg   \n",
       "4  UCqb1Z5VlQ1ht6wclV14itnQ  UgzaohE2K0Fl3IiyFDR4AaABAg   \n",
       "\n",
       "                                                                 Comment URL  \\\n",
       "0  https://www.youtube.com/watch?v=DEDqsEjhQYk&lc=UgwoIDuJTg41I9z8JaN4AaABAg   \n",
       "1  https://www.youtube.com/watch?v=DEDqsEjhQYk&lc=UgxaGbSppWCKp9vksqR4AaABAg   \n",
       "2  https://www.youtube.com/watch?v=DEDqsEjhQYk&lc=Ugwspo6AooXdOdy5c6Z4AaABAg   \n",
       "3  https://www.youtube.com/watch?v=DEDqsEjhQYk&lc=UgzGxFzPb-7FFzoQJ7R4AaABAg   \n",
       "4  https://www.youtube.com/watch?v=DEDqsEjhQYk&lc=UgzaohE2K0Fl3IiyFDR4AaABAg   \n",
       "\n",
       "   Sentiment Scores  \n",
       "0            0.3400  \n",
       "1            0.0000  \n",
       "2            0.0000  \n",
       "3            0.3612  \n",
       "4            0.5994  "
      ]
     },
     "execution_count": 18,
     "metadata": {},
     "output_type": "execute_result"
    }
   ],
   "source": [
    "comm.head()"
   ]
  },
  {
   "cell_type": "code",
   "execution_count": 19,
   "id": "979c1084",
   "metadata": {},
   "outputs": [],
   "source": [
    "#Classifying the sentiment scores as positive, negative and neutral\n",
    "comm['Sentiment'] = comm['Sentiment Scores'].apply(lambda s: 'Positive' if s > 0 else ('Neutral' if s == 0 else 'Negative'))\n"
   ]
  },
  {
   "cell_type": "code",
   "execution_count": 20,
   "id": "82d6dd04",
   "metadata": {},
   "outputs": [
    {
     "data": {
      "text/html": [
       "<div>\n",
       "<style scoped>\n",
       "    .dataframe tbody tr th:only-of-type {\n",
       "        vertical-align: middle;\n",
       "    }\n",
       "\n",
       "    .dataframe tbody tr th {\n",
       "        vertical-align: top;\n",
       "    }\n",
       "\n",
       "    .dataframe thead th {\n",
       "        text-align: right;\n",
       "    }\n",
       "</style>\n",
       "<table border=\"1\" class=\"dataframe\">\n",
       "  <thead>\n",
       "    <tr style=\"text-align: right;\">\n",
       "      <th></th>\n",
       "      <th>Unnamed: 0</th>\n",
       "      <th>Unnamed: 1</th>\n",
       "      <th>Name (click to view profile)</th>\n",
       "      <th>Date</th>\n",
       "      <th>Likes</th>\n",
       "      <th>isHearted</th>\n",
       "      <th>isPinned</th>\n",
       "      <th>Comment</th>\n",
       "      <th>Profile ID</th>\n",
       "      <th>Comment ID</th>\n",
       "      <th>Comment URL</th>\n",
       "      <th>Sentiment Scores</th>\n",
       "      <th>Sentiment</th>\n",
       "    </tr>\n",
       "  </thead>\n",
       "  <tbody>\n",
       "    <tr>\n",
       "      <th>0</th>\n",
       "      <td>1</td>\n",
       "      <td>NaN</td>\n",
       "      <td>LoveaHusky</td>\n",
       "      <td>2021-05-13 02:23:01</td>\n",
       "      <td>2</td>\n",
       "      <td>no</td>\n",
       "      <td>no</td>\n",
       "      <td>this sounds as scripted as an elementary school play</td>\n",
       "      <td>UC4EteVDapn0EFBtgP0wCK6Q</td>\n",
       "      <td>UgwoIDuJTg41I9z8JaN4AaABAg</td>\n",
       "      <td>https://www.youtube.com/watch?v=DEDqsEjhQYk&amp;lc=UgwoIDuJTg41I9z8JaN4AaABAg</td>\n",
       "      <td>0.3400</td>\n",
       "      <td>Positive</td>\n",
       "    </tr>\n",
       "    <tr>\n",
       "      <th>1</th>\n",
       "      <td>2</td>\n",
       "      <td>NaN</td>\n",
       "      <td>LoveaHusky</td>\n",
       "      <td>2021-05-13 02:23:35</td>\n",
       "      <td>2</td>\n",
       "      <td>no</td>\n",
       "      <td>no</td>\n",
       "      <td>those brows wake up everyone</td>\n",
       "      <td>UC4EteVDapn0EFBtgP0wCK6Q</td>\n",
       "      <td>UgxaGbSppWCKp9vksqR4AaABAg</td>\n",
       "      <td>https://www.youtube.com/watch?v=DEDqsEjhQYk&amp;lc=UgxaGbSppWCKp9vksqR4AaABAg</td>\n",
       "      <td>0.0000</td>\n",
       "      <td>Neutral</td>\n",
       "    </tr>\n",
       "    <tr>\n",
       "      <th>2</th>\n",
       "      <td>3</td>\n",
       "      <td>NaN</td>\n",
       "      <td>SonicArchives</td>\n",
       "      <td>2021-05-13 15:41:33</td>\n",
       "      <td>1</td>\n",
       "      <td>no</td>\n",
       "      <td>no</td>\n",
       "      <td>marrying bill gates makes you an automatic expert on all topics</td>\n",
       "      <td>UCeobR7jYq6ZD1rgC1Rr8ofA</td>\n",
       "      <td>Ugwspo6AooXdOdy5c6Z4AaABAg</td>\n",
       "      <td>https://www.youtube.com/watch?v=DEDqsEjhQYk&amp;lc=Ugwspo6AooXdOdy5c6Z4AaABAg</td>\n",
       "      <td>0.0000</td>\n",
       "      <td>Neutral</td>\n",
       "    </tr>\n",
       "    <tr>\n",
       "      <th>3</th>\n",
       "      <td>4</td>\n",
       "      <td>NaN</td>\n",
       "      <td>Jil May</td>\n",
       "      <td>2021-05-14 01:21:39</td>\n",
       "      <td>1</td>\n",
       "      <td>no</td>\n",
       "      <td>no</td>\n",
       "      <td>she moves like a robot</td>\n",
       "      <td>UCjBsLpbwfIDADmTCFvK2HJg</td>\n",
       "      <td>UgzGxFzPb-7FFzoQJ7R4AaABAg</td>\n",
       "      <td>https://www.youtube.com/watch?v=DEDqsEjhQYk&amp;lc=UgzGxFzPb-7FFzoQJ7R4AaABAg</td>\n",
       "      <td>0.3612</td>\n",
       "      <td>Positive</td>\n",
       "    </tr>\n",
       "    <tr>\n",
       "      <th>4</th>\n",
       "      <td>5</td>\n",
       "      <td>NaN</td>\n",
       "      <td>ufc354811</td>\n",
       "      <td>2021-05-14 01:38:17</td>\n",
       "      <td>3</td>\n",
       "      <td>no</td>\n",
       "      <td>no</td>\n",
       "      <td>that is one beautiful man</td>\n",
       "      <td>UCqb1Z5VlQ1ht6wclV14itnQ</td>\n",
       "      <td>UgzaohE2K0Fl3IiyFDR4AaABAg</td>\n",
       "      <td>https://www.youtube.com/watch?v=DEDqsEjhQYk&amp;lc=UgzaohE2K0Fl3IiyFDR4AaABAg</td>\n",
       "      <td>0.5994</td>\n",
       "      <td>Positive</td>\n",
       "    </tr>\n",
       "    <tr>\n",
       "      <th>5</th>\n",
       "      <td>6</td>\n",
       "      <td>NaN</td>\n",
       "      <td>M D</td>\n",
       "      <td>2021-05-15 16:12:42</td>\n",
       "      <td>0</td>\n",
       "      <td>no</td>\n",
       "      <td>no</td>\n",
       "      <td>yeah the satanic upside down cross and madonna s video from eurovision quervo not everyone is coming to the future is all a great big conspiracy theory right jesuit oath you have been taught your ...</td>\n",
       "      <td>UCfxQppajdicJWSbz6weShgg</td>\n",
       "      <td>Ugys_UiPKelEPLC2P894AaABAg</td>\n",
       "      <td>https://www.youtube.com/watch?v=DEDqsEjhQYk&amp;lc=Ugys_UiPKelEPLC2P894AaABAg</td>\n",
       "      <td>0.5267</td>\n",
       "      <td>Positive</td>\n",
       "    </tr>\n",
       "    <tr>\n",
       "      <th>6</th>\n",
       "      <td>7</td>\n",
       "      <td>NaN</td>\n",
       "      <td>Venomproyt</td>\n",
       "      <td>2021-05-17 05:08:51</td>\n",
       "      <td>2</td>\n",
       "      <td>no</td>\n",
       "      <td>no</td>\n",
       "      <td>https youtu be sf ev exg w</td>\n",
       "      <td>UCBfeq44WbGD27UP9ax29GXg</td>\n",
       "      <td>Ugwikx9qr68pVJhXR6t4AaABAg</td>\n",
       "      <td>https://www.youtube.com/watch?v=DEDqsEjhQYk&amp;lc=Ugwikx9qr68pVJhXR6t4AaABAg</td>\n",
       "      <td>0.0000</td>\n",
       "      <td>Neutral</td>\n",
       "    </tr>\n",
       "    <tr>\n",
       "      <th>7</th>\n",
       "      <td>8</td>\n",
       "      <td>NaN</td>\n",
       "      <td>Daryll Dela Rosa</td>\n",
       "      <td>2021-05-19 23:39:53</td>\n",
       "      <td>0</td>\n",
       "      <td>no</td>\n",
       "      <td>no</td>\n",
       "      <td>jesus this comment section is full of incels</td>\n",
       "      <td>UCmYS0sNVKFKfcjx0yXcC1pQ</td>\n",
       "      <td>UgwVQF9de-4f1JiRYKh4AaABAg</td>\n",
       "      <td>https://www.youtube.com/watch?v=DEDqsEjhQYk&amp;lc=UgwVQF9de-4f1JiRYKh4AaABAg</td>\n",
       "      <td>0.0000</td>\n",
       "      <td>Neutral</td>\n",
       "    </tr>\n",
       "    <tr>\n",
       "      <th>8</th>\n",
       "      <td>9</td>\n",
       "      <td>NaN</td>\n",
       "      <td>Nick Spiracy</td>\n",
       "      <td>2021-05-20 02:43:53</td>\n",
       "      <td>0</td>\n",
       "      <td>no</td>\n",
       "      <td>no</td>\n",
       "      <td>nice upside down cross</td>\n",
       "      <td>UCXxJxnUXtsUw49dsYXVIT-Q</td>\n",
       "      <td>UgwRpMSV4qKNSy96a0R4AaABAg</td>\n",
       "      <td>https://www.youtube.com/watch?v=DEDqsEjhQYk&amp;lc=UgwRpMSV4qKNSy96a0R4AaABAg</td>\n",
       "      <td>0.4215</td>\n",
       "      <td>Positive</td>\n",
       "    </tr>\n",
       "    <tr>\n",
       "      <th>9</th>\n",
       "      <td>10</td>\n",
       "      <td>NaN</td>\n",
       "      <td>Nick Spiracy</td>\n",
       "      <td>2021-05-20 02:44:49</td>\n",
       "      <td>0</td>\n",
       "      <td>no</td>\n",
       "      <td>no</td>\n",
       "      <td>nice masks ladies</td>\n",
       "      <td>UCXxJxnUXtsUw49dsYXVIT-Q</td>\n",
       "      <td>Ugx4RHuDwbykzN6_6L54AaABAg</td>\n",
       "      <td>https://www.youtube.com/watch?v=DEDqsEjhQYk&amp;lc=Ugx4RHuDwbykzN6_6L54AaABAg</td>\n",
       "      <td>0.4215</td>\n",
       "      <td>Positive</td>\n",
       "    </tr>\n",
       "  </tbody>\n",
       "</table>\n",
       "</div>"
      ],
      "text/plain": [
       "   Unnamed: 0  Unnamed: 1 Name (click to view profile)                 Date  \\\n",
       "0           1         NaN                   LoveaHusky  2021-05-13 02:23:01   \n",
       "1           2         NaN                   LoveaHusky  2021-05-13 02:23:35   \n",
       "2           3         NaN                SonicArchives  2021-05-13 15:41:33   \n",
       "3           4         NaN                      Jil May  2021-05-14 01:21:39   \n",
       "4           5         NaN                    ufc354811  2021-05-14 01:38:17   \n",
       "5           6         NaN                          M D  2021-05-15 16:12:42   \n",
       "6           7         NaN                   Venomproyt  2021-05-17 05:08:51   \n",
       "7           8         NaN             Daryll Dela Rosa  2021-05-19 23:39:53   \n",
       "8           9         NaN                 Nick Spiracy  2021-05-20 02:43:53   \n",
       "9          10         NaN                 Nick Spiracy  2021-05-20 02:44:49   \n",
       "\n",
       "   Likes isHearted isPinned  \\\n",
       "0      2        no       no   \n",
       "1      2        no       no   \n",
       "2      1        no       no   \n",
       "3      1        no       no   \n",
       "4      3        no       no   \n",
       "5      0        no       no   \n",
       "6      2        no       no   \n",
       "7      0        no       no   \n",
       "8      0        no       no   \n",
       "9      0        no       no   \n",
       "\n",
       "                                                                                                                                                                                                   Comment  \\\n",
       "0                                                                                                                                                     this sounds as scripted as an elementary school play   \n",
       "1                                                                                                                                                                             those brows wake up everyone   \n",
       "2                                                                                                                                          marrying bill gates makes you an automatic expert on all topics   \n",
       "3                                                                                                                                                                                   she moves like a robot   \n",
       "4                                                                                                                                                                                that is one beautiful man   \n",
       "5  yeah the satanic upside down cross and madonna s video from eurovision quervo not everyone is coming to the future is all a great big conspiracy theory right jesuit oath you have been taught your ...   \n",
       "6                                                                                                                                                                               https youtu be sf ev exg w   \n",
       "7                                                                                                                                                             jesus this comment section is full of incels   \n",
       "8                                                                                                                                                                                   nice upside down cross   \n",
       "9                                                                                                                                                                                        nice masks ladies   \n",
       "\n",
       "                 Profile ID                  Comment ID  \\\n",
       "0  UC4EteVDapn0EFBtgP0wCK6Q  UgwoIDuJTg41I9z8JaN4AaABAg   \n",
       "1  UC4EteVDapn0EFBtgP0wCK6Q  UgxaGbSppWCKp9vksqR4AaABAg   \n",
       "2  UCeobR7jYq6ZD1rgC1Rr8ofA  Ugwspo6AooXdOdy5c6Z4AaABAg   \n",
       "3  UCjBsLpbwfIDADmTCFvK2HJg  UgzGxFzPb-7FFzoQJ7R4AaABAg   \n",
       "4  UCqb1Z5VlQ1ht6wclV14itnQ  UgzaohE2K0Fl3IiyFDR4AaABAg   \n",
       "5  UCfxQppajdicJWSbz6weShgg  Ugys_UiPKelEPLC2P894AaABAg   \n",
       "6  UCBfeq44WbGD27UP9ax29GXg  Ugwikx9qr68pVJhXR6t4AaABAg   \n",
       "7  UCmYS0sNVKFKfcjx0yXcC1pQ  UgwVQF9de-4f1JiRYKh4AaABAg   \n",
       "8  UCXxJxnUXtsUw49dsYXVIT-Q  UgwRpMSV4qKNSy96a0R4AaABAg   \n",
       "9  UCXxJxnUXtsUw49dsYXVIT-Q  Ugx4RHuDwbykzN6_6L54AaABAg   \n",
       "\n",
       "                                                                 Comment URL  \\\n",
       "0  https://www.youtube.com/watch?v=DEDqsEjhQYk&lc=UgwoIDuJTg41I9z8JaN4AaABAg   \n",
       "1  https://www.youtube.com/watch?v=DEDqsEjhQYk&lc=UgxaGbSppWCKp9vksqR4AaABAg   \n",
       "2  https://www.youtube.com/watch?v=DEDqsEjhQYk&lc=Ugwspo6AooXdOdy5c6Z4AaABAg   \n",
       "3  https://www.youtube.com/watch?v=DEDqsEjhQYk&lc=UgzGxFzPb-7FFzoQJ7R4AaABAg   \n",
       "4  https://www.youtube.com/watch?v=DEDqsEjhQYk&lc=UgzaohE2K0Fl3IiyFDR4AaABAg   \n",
       "5  https://www.youtube.com/watch?v=DEDqsEjhQYk&lc=Ugys_UiPKelEPLC2P894AaABAg   \n",
       "6  https://www.youtube.com/watch?v=DEDqsEjhQYk&lc=Ugwikx9qr68pVJhXR6t4AaABAg   \n",
       "7  https://www.youtube.com/watch?v=DEDqsEjhQYk&lc=UgwVQF9de-4f1JiRYKh4AaABAg   \n",
       "8  https://www.youtube.com/watch?v=DEDqsEjhQYk&lc=UgwRpMSV4qKNSy96a0R4AaABAg   \n",
       "9  https://www.youtube.com/watch?v=DEDqsEjhQYk&lc=Ugx4RHuDwbykzN6_6L54AaABAg   \n",
       "\n",
       "   Sentiment Scores Sentiment  \n",
       "0            0.3400  Positive  \n",
       "1            0.0000   Neutral  \n",
       "2            0.0000   Neutral  \n",
       "3            0.3612  Positive  \n",
       "4            0.5994  Positive  \n",
       "5            0.5267  Positive  \n",
       "6            0.0000   Neutral  \n",
       "7            0.0000   Neutral  \n",
       "8            0.4215  Positive  \n",
       "9            0.4215  Positive  "
      ]
     },
     "execution_count": 20,
     "metadata": {},
     "output_type": "execute_result"
    }
   ],
   "source": [
    "comm.head(10)"
   ]
  },
  {
   "cell_type": "code",
   "execution_count": 21,
   "id": "02421a65",
   "metadata": {},
   "outputs": [
    {
     "data": {
      "text/plain": [
       "Neutral     42\n",
       "Positive    35\n",
       "Negative    23\n",
       "Name: Sentiment, dtype: int64"
      ]
     },
     "execution_count": 21,
     "metadata": {},
     "output_type": "execute_result"
    }
   ],
   "source": [
    "comm.Sentiment.value_counts()"
   ]
  },
  {
   "cell_type": "code",
   "execution_count": 22,
   "id": "00a92b8c",
   "metadata": {},
   "outputs": [
    {
     "data": {
      "text/plain": [
       "(100,)"
      ]
     },
     "execution_count": 22,
     "metadata": {},
     "output_type": "execute_result"
    }
   ],
   "source": [
    "y=comm['Sentiment'].values\n",
    "y.shape\n"
   ]
  },
  {
   "cell_type": "code",
   "execution_count": 23,
   "id": "a3b30d41",
   "metadata": {},
   "outputs": [
    {
     "data": {
      "text/plain": [
       "(100,)"
      ]
     },
     "execution_count": 23,
     "metadata": {},
     "output_type": "execute_result"
    }
   ],
   "source": [
    "x=comm['Comment'].values\n",
    "x.shape"
   ]
  },
  {
   "cell_type": "code",
   "execution_count": 24,
   "id": "d0bfdc1f",
   "metadata": {},
   "outputs": [],
   "source": [
    "import matplotlib.pyplot as plt\n",
    "plt.style.use(style='seaborn')\n",
    "%matplotlib inline"
   ]
  },
  {
   "cell_type": "code",
   "execution_count": 25,
   "id": "67a24a6e",
   "metadata": {},
   "outputs": [],
   "source": [
    "#Train-test split\n",
    "from sklearn.model_selection import train_test_split"
   ]
  },
  {
   "cell_type": "code",
   "execution_count": 26,
   "id": "cb9ef819",
   "metadata": {},
   "outputs": [
    {
     "data": {
      "text/plain": [
       "(40,)"
      ]
     },
     "execution_count": 26,
     "metadata": {},
     "output_type": "execute_result"
    }
   ],
   "source": [
    "#60% for train and 40% for test\n",
    "(x_train,x_test,y_train,y_test)=train_test_split(x,y,test_size=0.4)\n",
    "x_train.shape\n",
    "y_train.shape\n",
    "x_test.shape\n",
    "y_test.shape\n"
   ]
  },
  {
   "cell_type": "code",
   "execution_count": 27,
   "id": "1ca99b38",
   "metadata": {},
   "outputs": [
    {
     "data": {
      "text/plain": [
       "(60,)"
      ]
     },
     "execution_count": 27,
     "metadata": {},
     "output_type": "execute_result"
    }
   ],
   "source": [
    "x_train.shape"
   ]
  },
  {
   "cell_type": "code",
   "execution_count": 28,
   "id": "2c23758e",
   "metadata": {},
   "outputs": [
    {
     "data": {
      "text/plain": [
       "(60,)"
      ]
     },
     "execution_count": 28,
     "metadata": {},
     "output_type": "execute_result"
    }
   ],
   "source": [
    "y_train.shape"
   ]
  },
  {
   "cell_type": "code",
   "execution_count": 29,
   "id": "31592be1",
   "metadata": {},
   "outputs": [
    {
     "data": {
      "text/plain": [
       "(40,)"
      ]
     },
     "execution_count": 29,
     "metadata": {},
     "output_type": "execute_result"
    }
   ],
   "source": [
    "x_test.shape"
   ]
  },
  {
   "cell_type": "code",
   "execution_count": 30,
   "id": "bf437a42",
   "metadata": {},
   "outputs": [
    {
     "data": {
      "text/plain": [
       "(40,)"
      ]
     },
     "execution_count": 30,
     "metadata": {},
     "output_type": "execute_result"
    }
   ],
   "source": [
    "y_test.shape"
   ]
  },
  {
   "cell_type": "code",
   "execution_count": 31,
   "id": "94ecf6fe",
   "metadata": {},
   "outputs": [
    {
     "data": {
      "text/html": [
       "<div>\n",
       "<style scoped>\n",
       "    .dataframe tbody tr th:only-of-type {\n",
       "        vertical-align: middle;\n",
       "    }\n",
       "\n",
       "    .dataframe tbody tr th {\n",
       "        vertical-align: top;\n",
       "    }\n",
       "\n",
       "    .dataframe thead th {\n",
       "        text-align: right;\n",
       "    }\n",
       "</style>\n",
       "<table border=\"1\" class=\"dataframe\">\n",
       "  <thead>\n",
       "    <tr style=\"text-align: right;\">\n",
       "      <th></th>\n",
       "      <th>Comments</th>\n",
       "      <th>sentiment</th>\n",
       "    </tr>\n",
       "  </thead>\n",
       "  <tbody>\n",
       "    <tr>\n",
       "      <th>0</th>\n",
       "      <td>w o m e n hahaha riiiiiiight</td>\n",
       "      <td>Positive</td>\n",
       "    </tr>\n",
       "    <tr>\n",
       "      <th>1</th>\n",
       "      <td>i bet next time bill will marry a woman</td>\n",
       "      <td>Neutral</td>\n",
       "    </tr>\n",
       "    <tr>\n",
       "      <th>2</th>\n",
       "      <td>manlinda</td>\n",
       "      <td>Neutral</td>\n",
       "    </tr>\n",
       "    <tr>\n",
       "      <th>3</th>\n",
       "      <td>thats a man baby</td>\n",
       "      <td>Neutral</td>\n",
       "    </tr>\n",
       "    <tr>\n",
       "      <th>4</th>\n",
       "      <td>operation depopulation and that s not even a woman</td>\n",
       "      <td>Neutral</td>\n",
       "    </tr>\n",
       "  </tbody>\n",
       "</table>\n",
       "</div>"
      ],
      "text/plain": [
       "                                             Comments sentiment\n",
       "0                        w o m e n hahaha riiiiiiight  Positive\n",
       "1             i bet next time bill will marry a woman   Neutral\n",
       "2                                            manlinda   Neutral\n",
       "3                                    thats a man baby   Neutral\n",
       "4  operation depopulation and that s not even a woman   Neutral"
      ]
     },
     "execution_count": 31,
     "metadata": {},
     "output_type": "execute_result"
    }
   ],
   "source": [
    "df1=pd.DataFrame(x_train)\n",
    "df1=df1.rename(columns={0:'Comments'})\n",
    "\n",
    "df2=pd.DataFrame(y_train)\n",
    "df2=df2.rename(columns={0:'sentiment'})\n",
    "df_train=pd.concat([df1,df2],axis=1)\n",
    "\n",
    "df_train.head()"
   ]
  },
  {
   "cell_type": "code",
   "execution_count": 32,
   "id": "bf604102",
   "metadata": {},
   "outputs": [
    {
     "name": "stdout",
     "output_type": "stream",
     "text": [
      "<class 'pandas.core.frame.DataFrame'>\n",
      "RangeIndex: 60 entries, 0 to 59\n",
      "Data columns (total 2 columns):\n",
      " #   Column     Non-Null Count  Dtype \n",
      "---  ------     --------------  ----- \n",
      " 0   Comments   60 non-null     object\n",
      " 1   sentiment  60 non-null     object\n",
      "dtypes: object(2)\n",
      "memory usage: 1.1+ KB\n"
     ]
    }
   ],
   "source": [
    "df_train.info()"
   ]
  },
  {
   "cell_type": "code",
   "execution_count": 33,
   "id": "8fab5260",
   "metadata": {},
   "outputs": [
    {
     "data": {
      "text/html": [
       "<div>\n",
       "<style scoped>\n",
       "    .dataframe tbody tr th:only-of-type {\n",
       "        vertical-align: middle;\n",
       "    }\n",
       "\n",
       "    .dataframe tbody tr th {\n",
       "        vertical-align: top;\n",
       "    }\n",
       "\n",
       "    .dataframe thead th {\n",
       "        text-align: right;\n",
       "    }\n",
       "</style>\n",
       "<table border=\"1\" class=\"dataframe\">\n",
       "  <thead>\n",
       "    <tr style=\"text-align: right;\">\n",
       "      <th></th>\n",
       "      <th>Comments</th>\n",
       "      <th>sentiment</th>\n",
       "    </tr>\n",
       "  </thead>\n",
       "  <tbody>\n",
       "    <tr>\n",
       "      <th>0</th>\n",
       "      <td>she looks like a dude</td>\n",
       "      <td>Positive</td>\n",
       "    </tr>\n",
       "    <tr>\n",
       "      <th>1</th>\n",
       "      <td>https youtu be sf ev exg w</td>\n",
       "      <td>Neutral</td>\n",
       "    </tr>\n",
       "    <tr>\n",
       "      <th>2</th>\n",
       "      <td>hi we remove from the body vaccines modern faizer johnson astrozadek and other wickedness invented by creatures</td>\n",
       "      <td>Neutral</td>\n",
       "    </tr>\n",
       "    <tr>\n",
       "      <th>3</th>\n",
       "      <td>upside down cross</td>\n",
       "      <td>Neutral</td>\n",
       "    </tr>\n",
       "    <tr>\n",
       "      <th>4</th>\n",
       "      <td>and they say i was evil</td>\n",
       "      <td>Neutral</td>\n",
       "    </tr>\n",
       "  </tbody>\n",
       "</table>\n",
       "</div>"
      ],
      "text/plain": [
       "                                                                                                          Comments  \\\n",
       "0                                                                                            she looks like a dude   \n",
       "1                                                                                       https youtu be sf ev exg w   \n",
       "2  hi we remove from the body vaccines modern faizer johnson astrozadek and other wickedness invented by creatures   \n",
       "3                                                                                                upside down cross   \n",
       "4                                                                                          and they say i was evil   \n",
       "\n",
       "  sentiment  \n",
       "0  Positive  \n",
       "1   Neutral  \n",
       "2   Neutral  \n",
       "3   Neutral  \n",
       "4   Neutral  "
      ]
     },
     "execution_count": 33,
     "metadata": {},
     "output_type": "execute_result"
    }
   ],
   "source": [
    "df3=pd.DataFrame(x_test)\n",
    "df3=df3.rename(columns={0:'Comments'})\n",
    "\n",
    "df4=pd.DataFrame(y_test)\n",
    "df4=df2.rename(columns={0:'sentiment'})\n",
    "df_test=pd.concat([df3,df4],axis=1)\n",
    "\n",
    "df_test.head()"
   ]
  },
  {
   "cell_type": "code",
   "execution_count": 34,
   "id": "746698fd",
   "metadata": {},
   "outputs": [
    {
     "name": "stdout",
     "output_type": "stream",
     "text": [
      "<class 'pandas.core.frame.DataFrame'>\n",
      "RangeIndex: 60 entries, 0 to 59\n",
      "Data columns (total 2 columns):\n",
      " #   Column     Non-Null Count  Dtype \n",
      "---  ------     --------------  ----- \n",
      " 0   Comments   40 non-null     object\n",
      " 1   sentiment  60 non-null     object\n",
      "dtypes: object(2)\n",
      "memory usage: 1.1+ KB\n"
     ]
    }
   ],
   "source": [
    "df_test.info()"
   ]
  },
  {
   "cell_type": "code",
   "execution_count": 35,
   "id": "0bacb146",
   "metadata": {},
   "outputs": [
    {
     "data": {
      "text/plain": [
       "'!\"#$%&\\'()*+,-./:;<=>?@[\\\\]^_`{|}~'"
      ]
     },
     "execution_count": 35,
     "metadata": {},
     "output_type": "execute_result"
    }
   ],
   "source": [
    "#removing punctuations\n",
    "#library that contains punctuation\n",
    "import string\n",
    "string.punctuation"
   ]
  },
  {
   "cell_type": "code",
   "execution_count": 36,
   "id": "682c7216",
   "metadata": {},
   "outputs": [],
   "source": [
    "#defining the function to remove punctuation\n",
    "def remove_punctuation(text):\n",
    "  if(type(text)==float):\n",
    "    return text\n",
    "  ans=\"\"  \n",
    "  for i in text:     \n",
    "    if i not in string.punctuation:\n",
    "      ans+=i    \n",
    "  return ans\n",
    "\n",
    "#storing the puntuation free text in a new column called clean_msg\n",
    "df_train['Comments']= df_train['Comments'].apply(lambda x:remove_punctuation(x))\n",
    "df_test['Comments']= df_test['Comments'].apply(lambda x:remove_punctuation(x))"
   ]
  },
  {
   "cell_type": "code",
   "execution_count": 37,
   "id": "dc8c0491",
   "metadata": {},
   "outputs": [
    {
     "data": {
      "text/html": [
       "<div>\n",
       "<style scoped>\n",
       "    .dataframe tbody tr th:only-of-type {\n",
       "        vertical-align: middle;\n",
       "    }\n",
       "\n",
       "    .dataframe tbody tr th {\n",
       "        vertical-align: top;\n",
       "    }\n",
       "\n",
       "    .dataframe thead th {\n",
       "        text-align: right;\n",
       "    }\n",
       "</style>\n",
       "<table border=\"1\" class=\"dataframe\">\n",
       "  <thead>\n",
       "    <tr style=\"text-align: right;\">\n",
       "      <th></th>\n",
       "      <th>Comments</th>\n",
       "      <th>sentiment</th>\n",
       "    </tr>\n",
       "  </thead>\n",
       "  <tbody>\n",
       "    <tr>\n",
       "      <th>0</th>\n",
       "      <td>w o m e n hahaha riiiiiiight</td>\n",
       "      <td>Positive</td>\n",
       "    </tr>\n",
       "    <tr>\n",
       "      <th>1</th>\n",
       "      <td>i bet next time bill will marry a woman</td>\n",
       "      <td>Neutral</td>\n",
       "    </tr>\n",
       "    <tr>\n",
       "      <th>2</th>\n",
       "      <td>manlinda</td>\n",
       "      <td>Neutral</td>\n",
       "    </tr>\n",
       "    <tr>\n",
       "      <th>3</th>\n",
       "      <td>thats a man baby</td>\n",
       "      <td>Neutral</td>\n",
       "    </tr>\n",
       "    <tr>\n",
       "      <th>4</th>\n",
       "      <td>operation depopulation and that s not even a woman</td>\n",
       "      <td>Neutral</td>\n",
       "    </tr>\n",
       "  </tbody>\n",
       "</table>\n",
       "</div>"
      ],
      "text/plain": [
       "                                             Comments sentiment\n",
       "0                        w o m e n hahaha riiiiiiight  Positive\n",
       "1             i bet next time bill will marry a woman   Neutral\n",
       "2                                            manlinda   Neutral\n",
       "3                                    thats a man baby   Neutral\n",
       "4  operation depopulation and that s not even a woman   Neutral"
      ]
     },
     "execution_count": 37,
     "metadata": {},
     "output_type": "execute_result"
    }
   ],
   "source": [
    "df_train.head()\n",
    "#punctuations are removed from comments column in train dataset"
   ]
  },
  {
   "cell_type": "code",
   "execution_count": 38,
   "id": "0e82d95f",
   "metadata": {},
   "outputs": [],
   "source": [
    "import nltk\n",
    "from nltk.corpus import stopwords"
   ]
  },
  {
   "cell_type": "code",
   "execution_count": 39,
   "id": "cd6c6667",
   "metadata": {},
   "outputs": [
    {
     "name": "stderr",
     "output_type": "stream",
     "text": [
      "[nltk_data] Downloading package stopwords to\n",
      "[nltk_data]     /Users/zhoushimi/nltk_data...\n",
      "[nltk_data]   Package stopwords is already up-to-date!\n"
     ]
    },
    {
     "data": {
      "text/plain": [
       "True"
      ]
     },
     "execution_count": 39,
     "metadata": {},
     "output_type": "execute_result"
    }
   ],
   "source": [
    "nltk.download('stopwords')"
   ]
  },
  {
   "cell_type": "code",
   "execution_count": 40,
   "id": "8c1df511",
   "metadata": {},
   "outputs": [],
   "source": [
    "#method to generate n-grams:\n",
    "#params:\n",
    "#text-the text for which we have to generate n-grams\n",
    "#ngram-number of grams to be generated from the text(1,2,3,4 etc., default value=1)\n",
    "\n",
    "\n",
    "def generate_N_grams(text,ngram=1):\n",
    "  words=[word for word in text.split(\" \") if word not in set(stopwords.words('english'))]  \n",
    "  print(\"Sentence after removing stopwords:\",words)\n",
    "  temp=zip(*[words[i:] for i in range(0,ngram)])\n",
    "  ans=[' '.join(ngram) for ngram in temp]\n",
    "  return ans"
   ]
  },
  {
   "cell_type": "code",
   "execution_count": 41,
   "id": "cf0bd4cb",
   "metadata": {},
   "outputs": [
    {
     "name": "stdout",
     "output_type": "stream",
     "text": [
      "Sentence after removing stopwords: ['I', 'happy']\n"
     ]
    },
    {
     "data": {
      "text/plain": [
       "['I happy']"
      ]
     },
     "execution_count": 41,
     "metadata": {},
     "output_type": "execute_result"
    }
   ],
   "source": [
    "#sample!\n",
    "generate_N_grams(\"I am so happy\",2)"
   ]
  },
  {
   "cell_type": "code",
   "execution_count": 42,
   "id": "731f871c",
   "metadata": {},
   "outputs": [],
   "source": [
    "#Create unigrams\n",
    "from collections import defaultdict"
   ]
  },
  {
   "cell_type": "code",
   "execution_count": 43,
   "id": "dc12a7be",
   "metadata": {},
   "outputs": [],
   "source": [
    "#get the count of every word in both the columns of df_train and df_test dataframes\n",
    "positiveValues=defaultdict(int)\n",
    "negativeValues=defaultdict(int)\n",
    "neutralValues=defaultdict(int)\n"
   ]
  },
  {
   "cell_type": "code",
   "execution_count": 44,
   "id": "6aad538d",
   "metadata": {},
   "outputs": [
    {
     "name": "stdout",
     "output_type": "stream",
     "text": [
      "Sentence after removing stopwords: ['w', 'e', 'n', 'hahaha', 'riiiiiiight']\n",
      "Sentence after removing stopwords: ['nice', 'masks', 'ladies']\n",
      "Sentence after removing stopwords: ['wow', 'whoa', 'upside', 'cross', 'see', 'really', 'well', 'beginning', 'different', 'angle']\n",
      "Sentence after removing stopwords: ['yeah', 'satanic', 'upside', 'cross', 'madonna', 'video', 'eurovision', 'quervo', 'everyone', 'coming', 'future', 'great', 'big', 'conspiracy', 'theory', 'right', 'jesuit', 'oath', 'taught', 'duty', 'spy', 'gather', 'statistics', 'facts', 'information', 'power', 'every', 'source', 'ingratiate', 'confidence', 'family', 'circle', 'protestants', 'heretics', 'every', 'class', 'character', 'well', 'merchant', 'banker', 'lawyer', 'among', 'schools', 'universities', 'parliaments', 'legislatures', 'judiciaries', 'councils', 'state', 'things', 'men', 'pope', 'sake', 'whose', 'servants', 'unto', 'death']\n",
      "Sentence after removing stopwords: ['love']\n",
      "Sentence after removing stopwords: ['kevin', 'kline', 'sure']\n",
      "Sentence after removing stopwords: ['looks', 'utterly', 'creepy', 'assume', 'like']\n",
      "Sentence after removing stopwords: ['maleinda', 'gates', 'nice', 'upside', 'cross', 'see']\n",
      "Sentence after removing stopwords: ['funny', 'cleric', 'talks', 'stuff', 'national', 'level']\n",
      "Sentence after removing stopwords: ['tell', 'good', 'actual', 'evidence', 'good', 'done']\n",
      "Sentence after removing stopwords: ['delightful', 'really', 'good', 'speaker', 'sheryl', 'sandberg', 'want', 'know', 'use', 'facebook', 'way', 'cutsie', 'taken', 'seriously', 'obviously', 'living', 'melinda', 'shadow', 'amateur', 'latching', 'onto', 'professional', 'show']\n",
      "Sentence after removing stopwords: ['trying', 'get', 'rid', 'us', 'wake', 'people', 'late', 'oppsy', 'everyone', 'seems', 'good']\n",
      "Sentence after removing stopwords: ['sounds', 'scripted', 'elementary', 'school', 'play']\n",
      "Sentence after removing stopwords: ['wonder', 'melinda', 'gates', 'paid', 'alot', 'money', 'get', 'long', 'hair', 'manageable', 'old', 'ladies', 'dry', 'thinning', 'looking', 'hair', 'long', 'anyway', 'still', 'favors', 'soft', 'wavy', 'shininess', 'hair', 'makes', 'face', 'look', 'even', 'manly']\n",
      "Sentence after removing stopwords: ['firewoodluv', 'ok', 'luv']\n",
      "Sentence after removing stopwords: ['wow', 'look', 'thd', 'dislikes']\n",
      "Sentence after removing stopwords: ['wait', 'second', 'mothers', 'looking', 'children', 'whats', 'causing', 'mental', 'health', 'issues', 'children', 'later', 'life', 'melinda', 'wants', 'mothers', 'back', 'work', 'increase', 'chances', 'dissociation', 'trauma', 'caused', 'neglect', 'parent', 'figures', 'present', 'child', 'early', 'stages', 'life', 'thought', 'cared', 'future', 'well', 'children', 'guess']\n",
      "Sentence after removing stopwords: ['doctors', 'cares', 'personal', 'opinion']\n",
      "Sentence after removing stopwords: ['nice', 'upside', 'cross']\n",
      "Sentence after removing stopwords: ['jesus', 'christ', 'returning', 'way', 'truth', 'life']\n",
      "Sentence after removing stopwords: ['one', 'beautiful', 'man']\n",
      "Sentence after removing stopwords: ['dont', 'ever', 'watch', 'news', 'completely', 'fake']\n",
      "Sentence after removing stopwords: ['heavy', 'nlp', 'brainwashing', 'begins']\n",
      "Sentence after removing stopwords: ['melinda', 'get', 'plastic', 'surgery', 'look', 'like', 'kevin', 'kline', 'fashionable', 'clothing']\n",
      "Sentence after removing stopwords: ['ugly', 'like', 'big', 'debt']\n",
      "Sentence after removing stopwords: ['fool', 'melinda', 'saying', 'supports', 'population', 'reduction']\n",
      "Sentence after removing stopwords: ['guys', 'need', 'really', 'take', 'step', 'back', 'think', 'incredibly', 'offensive', 'way', 'shape', 'form', 'going', 'come', 'near', 'family', 'extremely', 'manipulative', 'quite', 'frankly', 'terrible', 'people', 'would', 'risk', 'life', 'guys', 'trivial', 'things', 'say', 'something', 'like', 'hate', 'husband', 'really', 'mean', 'room', 'negotiations', 'discussions', 'hazard']\n",
      "Sentence after removing stopwords: ['god', 'ppl', 'weird', 'pronoun']\n",
      "Sentence after removing stopwords: ['plandamic', 'shame', 'gates']\n",
      "Sentence after removing stopwords: ['melinda', 'murderer']\n",
      "Sentence after removing stopwords: ['drag', 'man']\n",
      "Sentence after removing stopwords: ['men', 'drag', 'tho']\n",
      "Sentence after removing stopwords: ['face', 'could', 'make', 'onion', 'cry']\n",
      "Sentence after removing stopwords: ['bet', 'next', 'time', 'bill', 'marry', 'woman']\n",
      "Sentence after removing stopwords: ['manlinda']\n",
      "Sentence after removing stopwords: ['thats', 'man', 'baby']\n",
      "Sentence after removing stopwords: ['operation', 'depopulation', 'even', 'woman']\n",
      "Sentence after removing stopwords: ['dude']\n",
      "Sentence after removing stopwords: ['jesus', 'comment', 'section', 'full', 'incels']\n",
      "Sentence after removing stopwords: ['demonic', 'beasts']\n",
      "Sentence after removing stopwords: ['dude']\n",
      "Sentence after removing stopwords: ['relatable', 'common', 'working', 'woman', 'children']\n",
      "Sentence after removing stopwords: ['man']\n",
      "Sentence after removing stopwords: ['philanthropists', 'using', 'gates', 'foundation', 'personal']\n",
      "Sentence after removing stopwords: ['melinda', 'gates', 'man']\n",
      "Sentence after removing stopwords: ['wearing', 'inverted', 'cross', 'around', 'neck', 'wolf', 'sheep', 'clothing']\n",
      "Sentence after removing stopwords: ['woman']\n",
      "Sentence after removing stopwords: ['melinda', 'gates', 'man']\n",
      "Sentence after removing stopwords: ['men']\n",
      "Sentence after removing stopwords: ['man']\n",
      "Sentence after removing stopwords: ['melinda', 'man', 'wearing', 'inverted', 'cross']\n",
      "Sentence after removing stopwords: ['sheeesh']\n",
      "Sentence after removing stopwords: ['done', 'marry', 'overachiever']\n",
      "Sentence after removing stopwords: ['someone', 'wears', 'upside', 'cross', 'see', 'going', 'incredible']\n",
      "Sentence after removing stopwords: ['medicine', 'symbol', 'marked', 'serpents', 'huh', 'imagine']\n",
      "Sentence after removing stopwords: ['boss']\n",
      "Sentence after removing stopwords: ['robin', 'williams']\n",
      "Sentence after removing stopwords: ['melinda', 'satanist', 'gates']\n",
      "Sentence after removing stopwords: ['elites']\n",
      "Sentence after removing stopwords: ['brows', 'wake', 'everyone']\n"
     ]
    }
   ],
   "source": [
    "#get the count of every word in both the columns of df_train and df_test dataframes where sentiment=\"positive\"\n",
    "for text in df_train[df_train.sentiment==\"Positive\"].Comments:\n",
    "  for word in generate_N_grams(text):\n",
    "    positiveValues[word]+=1\n",
    "\n",
    "#get the count of every word in both the columns of df_train and df_test dataframes where sentiment=\"negative\"\n",
    "for text in df_train[df_train.sentiment==\"Negative\"].Comments:\n",
    "  for word in generate_N_grams(text):\n",
    "    negativeValues[word]+=1\n",
    "\n",
    "#get the count of every word in both the columns of df_train and df_test dataframes where sentiment=\"neutral\"\n",
    "for text in df_train[df_train.sentiment==\"Neutral\"].Comments:\n",
    "  for word in generate_N_grams(text):\n",
    "    neutralValues[word]+=1"
   ]
  },
  {
   "cell_type": "code",
   "execution_count": 45,
   "id": "afcbd0d3",
   "metadata": {},
   "outputs": [
    {
     "data": {
      "text/plain": [
       "defaultdict(int,\n",
       "            {'w': 1,\n",
       "             'e': 1,\n",
       "             'n': 1,\n",
       "             'hahaha': 1,\n",
       "             'riiiiiiight': 1,\n",
       "             'nice': 3,\n",
       "             'masks': 1,\n",
       "             'ladies': 2,\n",
       "             'wow': 2,\n",
       "             'whoa': 1,\n",
       "             'upside': 4,\n",
       "             'cross': 4,\n",
       "             'see': 2,\n",
       "             'really': 2,\n",
       "             'well': 3,\n",
       "             'beginning': 1,\n",
       "             'different': 1,\n",
       "             'angle': 1,\n",
       "             'yeah': 1,\n",
       "             'satanic': 1,\n",
       "             'madonna': 1,\n",
       "             'video': 1,\n",
       "             'eurovision': 1,\n",
       "             'quervo': 1,\n",
       "             'everyone': 2,\n",
       "             'coming': 1,\n",
       "             'future': 2,\n",
       "             'great': 1,\n",
       "             'big': 1,\n",
       "             'conspiracy': 1,\n",
       "             'theory': 1,\n",
       "             'right': 1,\n",
       "             'jesuit': 1,\n",
       "             'oath': 1,\n",
       "             'taught': 1,\n",
       "             'duty': 1,\n",
       "             'spy': 1,\n",
       "             'gather': 1,\n",
       "             'statistics': 1,\n",
       "             'facts': 1,\n",
       "             'information': 1,\n",
       "             'power': 1,\n",
       "             'every': 2,\n",
       "             'source': 1,\n",
       "             'ingratiate': 1,\n",
       "             'confidence': 1,\n",
       "             'family': 1,\n",
       "             'circle': 1,\n",
       "             'protestants': 1,\n",
       "             'heretics': 1,\n",
       "             'class': 1,\n",
       "             'character': 1,\n",
       "             'merchant': 1,\n",
       "             'banker': 1,\n",
       "             'lawyer': 1,\n",
       "             'among': 1,\n",
       "             'schools': 1,\n",
       "             'universities': 1,\n",
       "             'parliaments': 1,\n",
       "             'legislatures': 1,\n",
       "             'judiciaries': 1,\n",
       "             'councils': 1,\n",
       "             'state': 1,\n",
       "             'things': 1,\n",
       "             'men': 1,\n",
       "             'pope': 1,\n",
       "             'sake': 1,\n",
       "             'whose': 1,\n",
       "             'servants': 1,\n",
       "             'unto': 1,\n",
       "             'death': 1,\n",
       "             'love': 1,\n",
       "             'kevin': 1,\n",
       "             'kline': 1,\n",
       "             'sure': 1,\n",
       "             'looks': 1,\n",
       "             'utterly': 1,\n",
       "             'creepy': 1,\n",
       "             'assume': 1,\n",
       "             'like': 1,\n",
       "             'maleinda': 1,\n",
       "             'gates': 2,\n",
       "             'funny': 1,\n",
       "             'cleric': 1,\n",
       "             'talks': 1,\n",
       "             'stuff': 1,\n",
       "             'national': 1,\n",
       "             'level': 1,\n",
       "             'tell': 1,\n",
       "             'good': 4,\n",
       "             'actual': 1,\n",
       "             'evidence': 1,\n",
       "             'done': 1,\n",
       "             'delightful': 1,\n",
       "             'speaker': 1,\n",
       "             'sheryl': 1,\n",
       "             'sandberg': 1,\n",
       "             'want': 1,\n",
       "             'know': 1,\n",
       "             'use': 1,\n",
       "             'facebook': 1,\n",
       "             'way': 2,\n",
       "             'cutsie': 1,\n",
       "             'taken': 1,\n",
       "             'seriously': 1,\n",
       "             'obviously': 1,\n",
       "             'living': 1,\n",
       "             'melinda': 3,\n",
       "             'shadow': 1,\n",
       "             'amateur': 1,\n",
       "             'latching': 1,\n",
       "             'onto': 1,\n",
       "             'professional': 1,\n",
       "             'show': 1,\n",
       "             'trying': 1,\n",
       "             'get': 2,\n",
       "             'rid': 1,\n",
       "             'us': 1,\n",
       "             'wake': 1,\n",
       "             'people': 1,\n",
       "             'late': 1,\n",
       "             'oppsy': 1,\n",
       "             'seems': 1,\n",
       "             'sounds': 1,\n",
       "             'scripted': 1,\n",
       "             'elementary': 1,\n",
       "             'school': 1,\n",
       "             'play': 1,\n",
       "             'wonder': 1,\n",
       "             'paid': 1,\n",
       "             'alot': 1,\n",
       "             'money': 1,\n",
       "             'long': 2,\n",
       "             'hair': 3,\n",
       "             'manageable': 1,\n",
       "             'old': 1,\n",
       "             'dry': 1,\n",
       "             'thinning': 1,\n",
       "             'looking': 2,\n",
       "             'anyway': 1,\n",
       "             'still': 1,\n",
       "             'favors': 1,\n",
       "             'soft': 1,\n",
       "             'wavy': 1,\n",
       "             'shininess': 1,\n",
       "             'makes': 1,\n",
       "             'face': 1,\n",
       "             'look': 2,\n",
       "             'even': 1,\n",
       "             'manly': 1,\n",
       "             'firewoodluv': 1,\n",
       "             'ok': 1,\n",
       "             'luv': 1,\n",
       "             'thd': 1,\n",
       "             'dislikes': 1,\n",
       "             'wait': 1,\n",
       "             'second': 1,\n",
       "             'mothers': 2,\n",
       "             'children': 3,\n",
       "             'whats': 1,\n",
       "             'causing': 1,\n",
       "             'mental': 1,\n",
       "             'health': 1,\n",
       "             'issues': 1,\n",
       "             'later': 1,\n",
       "             'life': 3,\n",
       "             'wants': 1,\n",
       "             'back': 1,\n",
       "             'work': 1,\n",
       "             'increase': 1,\n",
       "             'chances': 1,\n",
       "             'dissociation': 1,\n",
       "             'trauma': 1,\n",
       "             'caused': 1,\n",
       "             'neglect': 1,\n",
       "             'parent': 1,\n",
       "             'figures': 1,\n",
       "             'present': 1,\n",
       "             'child': 1,\n",
       "             'early': 1,\n",
       "             'stages': 1,\n",
       "             'thought': 1,\n",
       "             'cared': 1,\n",
       "             'guess': 1,\n",
       "             'doctors': 1,\n",
       "             'cares': 1,\n",
       "             'personal': 1,\n",
       "             'opinion': 1,\n",
       "             'jesus': 1,\n",
       "             'christ': 1,\n",
       "             'returning': 1,\n",
       "             'truth': 1,\n",
       "             'one': 1,\n",
       "             'beautiful': 1,\n",
       "             'man': 1})"
      ]
     },
     "execution_count": 45,
     "metadata": {},
     "output_type": "execute_result"
    }
   ],
   "source": [
    "positiveValues\n",
    "#output is a dictionary-list of words in news column and the count of each of these words in train dataset where sentiment=positive"
   ]
  },
  {
   "cell_type": "code",
   "execution_count": 46,
   "id": "2e8dc5a1",
   "metadata": {},
   "outputs": [
    {
     "data": {
      "text/plain": [
       "dict_items([('w', 1), ('e', 1), ('n', 1), ('hahaha', 1), ('riiiiiiight', 1), ('nice', 3), ('masks', 1), ('ladies', 2), ('wow', 2), ('whoa', 1), ('upside', 4), ('cross', 4), ('see', 2), ('really', 2), ('well', 3), ('beginning', 1), ('different', 1), ('angle', 1), ('yeah', 1), ('satanic', 1), ('madonna', 1), ('video', 1), ('eurovision', 1), ('quervo', 1), ('everyone', 2), ('coming', 1), ('future', 2), ('great', 1), ('big', 1), ('conspiracy', 1), ('theory', 1), ('right', 1), ('jesuit', 1), ('oath', 1), ('taught', 1), ('duty', 1), ('spy', 1), ('gather', 1), ('statistics', 1), ('facts', 1), ('information', 1), ('power', 1), ('every', 2), ('source', 1), ('ingratiate', 1), ('confidence', 1), ('family', 1), ('circle', 1), ('protestants', 1), ('heretics', 1), ('class', 1), ('character', 1), ('merchant', 1), ('banker', 1), ('lawyer', 1), ('among', 1), ('schools', 1), ('universities', 1), ('parliaments', 1), ('legislatures', 1), ('judiciaries', 1), ('councils', 1), ('state', 1), ('things', 1), ('men', 1), ('pope', 1), ('sake', 1), ('whose', 1), ('servants', 1), ('unto', 1), ('death', 1), ('love', 1), ('kevin', 1), ('kline', 1), ('sure', 1), ('looks', 1), ('utterly', 1), ('creepy', 1), ('assume', 1), ('like', 1), ('maleinda', 1), ('gates', 2), ('funny', 1), ('cleric', 1), ('talks', 1), ('stuff', 1), ('national', 1), ('level', 1), ('tell', 1), ('good', 4), ('actual', 1), ('evidence', 1), ('done', 1), ('delightful', 1), ('speaker', 1), ('sheryl', 1), ('sandberg', 1), ('want', 1), ('know', 1), ('use', 1), ('facebook', 1), ('way', 2), ('cutsie', 1), ('taken', 1), ('seriously', 1), ('obviously', 1), ('living', 1), ('melinda', 3), ('shadow', 1), ('amateur', 1), ('latching', 1), ('onto', 1), ('professional', 1), ('show', 1), ('trying', 1), ('get', 2), ('rid', 1), ('us', 1), ('wake', 1), ('people', 1), ('late', 1), ('oppsy', 1), ('seems', 1), ('sounds', 1), ('scripted', 1), ('elementary', 1), ('school', 1), ('play', 1), ('wonder', 1), ('paid', 1), ('alot', 1), ('money', 1), ('long', 2), ('hair', 3), ('manageable', 1), ('old', 1), ('dry', 1), ('thinning', 1), ('looking', 2), ('anyway', 1), ('still', 1), ('favors', 1), ('soft', 1), ('wavy', 1), ('shininess', 1), ('makes', 1), ('face', 1), ('look', 2), ('even', 1), ('manly', 1), ('firewoodluv', 1), ('ok', 1), ('luv', 1), ('thd', 1), ('dislikes', 1), ('wait', 1), ('second', 1), ('mothers', 2), ('children', 3), ('whats', 1), ('causing', 1), ('mental', 1), ('health', 1), ('issues', 1), ('later', 1), ('life', 3), ('wants', 1), ('back', 1), ('work', 1), ('increase', 1), ('chances', 1), ('dissociation', 1), ('trauma', 1), ('caused', 1), ('neglect', 1), ('parent', 1), ('figures', 1), ('present', 1), ('child', 1), ('early', 1), ('stages', 1), ('thought', 1), ('cared', 1), ('guess', 1), ('doctors', 1), ('cares', 1), ('personal', 1), ('opinion', 1), ('jesus', 1), ('christ', 1), ('returning', 1), ('truth', 1), ('one', 1), ('beautiful', 1), ('man', 1)])"
      ]
     },
     "execution_count": 46,
     "metadata": {},
     "output_type": "execute_result"
    }
   ],
   "source": [
    "positiveValues.items()\n",
    "#o/p is a dictionary with the word in comments column as key and its count within the train dataset as its corresponding value"
   ]
  },
  {
   "cell_type": "code",
   "execution_count": 47,
   "id": "a99e84f8",
   "metadata": {},
   "outputs": [],
   "source": [
    "#focus on more frequently occuring words for every sentiment=>\n",
    "#sort in DO wrt 2nd column in each of positiveValues,negativeValues and neutralValues\n",
    "\n",
    "df_positive=pd.DataFrame(sorted(positiveValues.items(),key=lambda x:x[1],reverse=True))\n",
    "df_negative=pd.DataFrame(sorted(negativeValues.items(),key=lambda x:x[1],reverse=True))\n",
    "df_neutral=pd.DataFrame(sorted(neutralValues.items(),key=lambda x:x[1],reverse=True))"
   ]
  },
  {
   "cell_type": "code",
   "execution_count": 48,
   "id": "faf8e5a7",
   "metadata": {},
   "outputs": [
    {
     "data": {
      "image/png": "[encoded data removed]",
      "text/plain": [
       "<Figure size 1152x288 with 1 Axes>"
      ]
     },
     "metadata": {
      "needs_background": "light"
     },
     "output_type": "display_data"
    }
   ],
   "source": [
    "pd1=df_positive[0][:10]\n",
    "pd2=df_positive[1][:10]\n",
    "\n",
    "ned1=df_negative[0][:10]\n",
    "ned2=df_negative[1][:10]\n",
    "\n",
    "nud1=df_neutral[0][:10]\n",
    "nud2=df_neutral[1][:10]\n",
    "\n",
    "\n",
    "plt.figure(1,figsize=(16,4))\n",
    "\n",
    "plt.bar(pd1,pd2, color ='green',\n",
    "        width = 0.4)\n",
    " \n",
    "plt.xlabel(\"Words in positive dataframe\")\n",
    "plt.ylabel(\"Count\")\n",
    "plt.title(\"Top 10 words in positive dataframe-UNIGRAM ANALYSIS\")\n",
    "\n",
    "plt.savefig(\"positive-unigram.png\")\n",
    "plt.show()\n"
   ]
  },
  {
   "cell_type": "code",
   "execution_count": 49,
   "id": "01968b12",
   "metadata": {},
   "outputs": [
    {
     "data": {
      "text/html": [
       "<div>\n",
       "<style scoped>\n",
       "    .dataframe tbody tr th:only-of-type {\n",
       "        vertical-align: middle;\n",
       "    }\n",
       "\n",
       "    .dataframe tbody tr th {\n",
       "        vertical-align: top;\n",
       "    }\n",
       "\n",
       "    .dataframe thead th {\n",
       "        text-align: right;\n",
       "    }\n",
       "</style>\n",
       "<table border=\"1\" class=\"dataframe\">\n",
       "  <thead>\n",
       "    <tr style=\"text-align: right;\">\n",
       "      <th></th>\n",
       "      <th>0</th>\n",
       "      <th>1</th>\n",
       "    </tr>\n",
       "  </thead>\n",
       "  <tbody>\n",
       "    <tr>\n",
       "      <th>0</th>\n",
       "      <td>upside</td>\n",
       "      <td>4</td>\n",
       "    </tr>\n",
       "    <tr>\n",
       "      <th>1</th>\n",
       "      <td>cross</td>\n",
       "      <td>4</td>\n",
       "    </tr>\n",
       "    <tr>\n",
       "      <th>2</th>\n",
       "      <td>good</td>\n",
       "      <td>4</td>\n",
       "    </tr>\n",
       "    <tr>\n",
       "      <th>3</th>\n",
       "      <td>nice</td>\n",
       "      <td>3</td>\n",
       "    </tr>\n",
       "    <tr>\n",
       "      <th>4</th>\n",
       "      <td>well</td>\n",
       "      <td>3</td>\n",
       "    </tr>\n",
       "    <tr>\n",
       "      <th>5</th>\n",
       "      <td>melinda</td>\n",
       "      <td>3</td>\n",
       "    </tr>\n",
       "    <tr>\n",
       "      <th>6</th>\n",
       "      <td>hair</td>\n",
       "      <td>3</td>\n",
       "    </tr>\n",
       "    <tr>\n",
       "      <th>7</th>\n",
       "      <td>children</td>\n",
       "      <td>3</td>\n",
       "    </tr>\n",
       "    <tr>\n",
       "      <th>8</th>\n",
       "      <td>life</td>\n",
       "      <td>3</td>\n",
       "    </tr>\n",
       "    <tr>\n",
       "      <th>9</th>\n",
       "      <td>ladies</td>\n",
       "      <td>2</td>\n",
       "    </tr>\n",
       "  </tbody>\n",
       "</table>\n",
       "</div>"
      ],
      "text/plain": [
       "          0  1\n",
       "0    upside  4\n",
       "1     cross  4\n",
       "2      good  4\n",
       "3      nice  3\n",
       "4      well  3\n",
       "5   melinda  3\n",
       "6      hair  3\n",
       "7  children  3\n",
       "8      life  3\n",
       "9    ladies  2"
      ]
     },
     "execution_count": 49,
     "metadata": {},
     "output_type": "execute_result"
    }
   ],
   "source": [
    "df_positive.head(10)"
   ]
  },
  {
   "cell_type": "code",
   "execution_count": 50,
   "id": "a28cfee8",
   "metadata": {},
   "outputs": [
    {
     "data": {
      "image/png": "[encoded data removed]",
      "text/plain": [
       "<Figure size 1152x288 with 1 Axes>"
      ]
     },
     "metadata": {
      "needs_background": "light"
     },
     "output_type": "display_data"
    }
   ],
   "source": [
    "plt.figure(1,figsize=(16,4))\n",
    "\n",
    "plt.bar(ned1,ned2, color ='red',\n",
    "        width = 0.4)\n",
    " \n",
    "plt.xlabel(\"Words in negative dataframe\")\n",
    "plt.ylabel(\"Count\")\n",
    "plt.title(\"Top 10 words in negative dataframe-UNIGRAM ANALYSIS\")\n",
    "\n",
    "plt.savefig(\"negative-unigram.png\")\n",
    "plt.show()"
   ]
  },
  {
   "cell_type": "code",
   "execution_count": 51,
   "id": "a00c89ce",
   "metadata": {},
   "outputs": [
    {
     "data": {
      "text/html": [
       "<div>\n",
       "<style scoped>\n",
       "    .dataframe tbody tr th:only-of-type {\n",
       "        vertical-align: middle;\n",
       "    }\n",
       "\n",
       "    .dataframe tbody tr th {\n",
       "        vertical-align: top;\n",
       "    }\n",
       "\n",
       "    .dataframe thead th {\n",
       "        text-align: right;\n",
       "    }\n",
       "</style>\n",
       "<table border=\"1\" class=\"dataframe\">\n",
       "  <thead>\n",
       "    <tr style=\"text-align: right;\">\n",
       "      <th></th>\n",
       "      <th>0</th>\n",
       "      <th>1</th>\n",
       "    </tr>\n",
       "  </thead>\n",
       "  <tbody>\n",
       "    <tr>\n",
       "      <th>0</th>\n",
       "      <td>melinda</td>\n",
       "      <td>3</td>\n",
       "    </tr>\n",
       "    <tr>\n",
       "      <th>1</th>\n",
       "      <td>like</td>\n",
       "      <td>3</td>\n",
       "    </tr>\n",
       "    <tr>\n",
       "      <th>2</th>\n",
       "      <td>guys</td>\n",
       "      <td>2</td>\n",
       "    </tr>\n",
       "    <tr>\n",
       "      <th>3</th>\n",
       "      <td>really</td>\n",
       "      <td>2</td>\n",
       "    </tr>\n",
       "    <tr>\n",
       "      <th>4</th>\n",
       "      <td>drag</td>\n",
       "      <td>2</td>\n",
       "    </tr>\n",
       "    <tr>\n",
       "      <th>5</th>\n",
       "      <td>dont</td>\n",
       "      <td>1</td>\n",
       "    </tr>\n",
       "    <tr>\n",
       "      <th>6</th>\n",
       "      <td>ever</td>\n",
       "      <td>1</td>\n",
       "    </tr>\n",
       "    <tr>\n",
       "      <th>7</th>\n",
       "      <td>watch</td>\n",
       "      <td>1</td>\n",
       "    </tr>\n",
       "    <tr>\n",
       "      <th>8</th>\n",
       "      <td>news</td>\n",
       "      <td>1</td>\n",
       "    </tr>\n",
       "    <tr>\n",
       "      <th>9</th>\n",
       "      <td>completely</td>\n",
       "      <td>1</td>\n",
       "    </tr>\n",
       "  </tbody>\n",
       "</table>\n",
       "</div>"
      ],
      "text/plain": [
       "            0  1\n",
       "0     melinda  3\n",
       "1        like  3\n",
       "2        guys  2\n",
       "3      really  2\n",
       "4        drag  2\n",
       "5        dont  1\n",
       "6        ever  1\n",
       "7       watch  1\n",
       "8        news  1\n",
       "9  completely  1"
      ]
     },
     "execution_count": 51,
     "metadata": {},
     "output_type": "execute_result"
    }
   ],
   "source": [
    "df_negative.head(10)"
   ]
  },
  {
   "cell_type": "code",
   "execution_count": 52,
   "id": "df905e57",
   "metadata": {},
   "outputs": [
    {
     "data": {
      "image/png": "[encoded data removed]",
      "text/plain": [
       "<Figure size 1152x288 with 1 Axes>"
      ]
     },
     "metadata": {
      "needs_background": "light"
     },
     "output_type": "display_data"
    }
   ],
   "source": [
    "plt.figure(1,figsize=(16,4))\n",
    "\n",
    "plt.bar(nud1,nud2, color ='yellow',\n",
    "        width = 0.4)\n",
    " \n",
    "plt.xlabel(\"Words in neutral dataframe\")\n",
    "plt.ylabel(\"Count\")\n",
    "plt.title(\"Top 10 words in neutral dataframe-UNIGRAM ANALYSIS\")\n",
    "\n",
    "plt.savefig(\"neutral-unigram.png\")\n",
    "plt.show()"
   ]
  },
  {
   "cell_type": "code",
   "execution_count": 53,
   "id": "feea1ac2",
   "metadata": {},
   "outputs": [
    {
     "data": {
      "text/html": [
       "<div>\n",
       "<style scoped>\n",
       "    .dataframe tbody tr th:only-of-type {\n",
       "        vertical-align: middle;\n",
       "    }\n",
       "\n",
       "    .dataframe tbody tr th {\n",
       "        vertical-align: top;\n",
       "    }\n",
       "\n",
       "    .dataframe thead th {\n",
       "        text-align: right;\n",
       "    }\n",
       "</style>\n",
       "<table border=\"1\" class=\"dataframe\">\n",
       "  <thead>\n",
       "    <tr style=\"text-align: right;\">\n",
       "      <th></th>\n",
       "      <th>0</th>\n",
       "      <th>1</th>\n",
       "    </tr>\n",
       "  </thead>\n",
       "  <tbody>\n",
       "    <tr>\n",
       "      <th>0</th>\n",
       "      <td>man</td>\n",
       "      <td>6</td>\n",
       "    </tr>\n",
       "    <tr>\n",
       "      <th>1</th>\n",
       "      <td>woman</td>\n",
       "      <td>4</td>\n",
       "    </tr>\n",
       "    <tr>\n",
       "      <th>2</th>\n",
       "      <td>gates</td>\n",
       "      <td>4</td>\n",
       "    </tr>\n",
       "    <tr>\n",
       "      <th>3</th>\n",
       "      <td>melinda</td>\n",
       "      <td>4</td>\n",
       "    </tr>\n",
       "    <tr>\n",
       "      <th>4</th>\n",
       "      <td>cross</td>\n",
       "      <td>3</td>\n",
       "    </tr>\n",
       "    <tr>\n",
       "      <th>5</th>\n",
       "      <td>marry</td>\n",
       "      <td>2</td>\n",
       "    </tr>\n",
       "    <tr>\n",
       "      <th>6</th>\n",
       "      <td>dude</td>\n",
       "      <td>2</td>\n",
       "    </tr>\n",
       "    <tr>\n",
       "      <th>7</th>\n",
       "      <td>wearing</td>\n",
       "      <td>2</td>\n",
       "    </tr>\n",
       "    <tr>\n",
       "      <th>8</th>\n",
       "      <td>inverted</td>\n",
       "      <td>2</td>\n",
       "    </tr>\n",
       "    <tr>\n",
       "      <th>9</th>\n",
       "      <td>bet</td>\n",
       "      <td>1</td>\n",
       "    </tr>\n",
       "  </tbody>\n",
       "</table>\n",
       "</div>"
      ],
      "text/plain": [
       "          0  1\n",
       "0       man  6\n",
       "1     woman  4\n",
       "2     gates  4\n",
       "3   melinda  4\n",
       "4     cross  3\n",
       "5     marry  2\n",
       "6      dude  2\n",
       "7   wearing  2\n",
       "8  inverted  2\n",
       "9       bet  1"
      ]
     },
     "execution_count": 53,
     "metadata": {},
     "output_type": "execute_result"
    }
   ],
   "source": [
    "df_neutral.head(10)"
   ]
  },
  {
   "cell_type": "code",
   "execution_count": 54,
   "id": "27fada59",
   "metadata": {},
   "outputs": [],
   "source": [
    "#Creating bigrams\n",
    "positiveValues2=defaultdict(int)\n",
    "negativeValues2=defaultdict(int)\n",
    "neutralValues2=defaultdict(int)\n",
    "#get the count of every word in both the columns of df_train and df_test dataframes"
   ]
  },
  {
   "cell_type": "code",
   "execution_count": 55,
   "id": "5e9c9823",
   "metadata": {},
   "outputs": [
    {
     "name": "stdout",
     "output_type": "stream",
     "text": [
      "Sentence after removing stopwords: ['w', 'e', 'n', 'hahaha', 'riiiiiiight']\n",
      "Sentence after removing stopwords: ['nice', 'masks', 'ladies']\n",
      "Sentence after removing stopwords: ['wow', 'whoa', 'upside', 'cross', 'see', 'really', 'well', 'beginning', 'different', 'angle']\n",
      "Sentence after removing stopwords: ['yeah', 'satanic', 'upside', 'cross', 'madonna', 'video', 'eurovision', 'quervo', 'everyone', 'coming', 'future', 'great', 'big', 'conspiracy', 'theory', 'right', 'jesuit', 'oath', 'taught', 'duty', 'spy', 'gather', 'statistics', 'facts', 'information', 'power', 'every', 'source', 'ingratiate', 'confidence', 'family', 'circle', 'protestants', 'heretics', 'every', 'class', 'character', 'well', 'merchant', 'banker', 'lawyer', 'among', 'schools', 'universities', 'parliaments', 'legislatures', 'judiciaries', 'councils', 'state', 'things', 'men', 'pope', 'sake', 'whose', 'servants', 'unto', 'death']\n",
      "Sentence after removing stopwords: ['love']\n",
      "Sentence after removing stopwords: ['kevin', 'kline', 'sure']\n",
      "Sentence after removing stopwords: ['looks', 'utterly', 'creepy', 'assume', 'like']\n",
      "Sentence after removing stopwords: ['maleinda', 'gates', 'nice', 'upside', 'cross', 'see']\n",
      "Sentence after removing stopwords: ['funny', 'cleric', 'talks', 'stuff', 'national', 'level']\n",
      "Sentence after removing stopwords: ['tell', 'good', 'actual', 'evidence', 'good', 'done']\n",
      "Sentence after removing stopwords: ['delightful', 'really', 'good', 'speaker', 'sheryl', 'sandberg', 'want', 'know', 'use', 'facebook', 'way', 'cutsie', 'taken', 'seriously', 'obviously', 'living', 'melinda', 'shadow', 'amateur', 'latching', 'onto', 'professional', 'show']\n",
      "Sentence after removing stopwords: ['trying', 'get', 'rid', 'us', 'wake', 'people', 'late', 'oppsy', 'everyone', 'seems', 'good']\n",
      "Sentence after removing stopwords: ['sounds', 'scripted', 'elementary', 'school', 'play']\n",
      "Sentence after removing stopwords: ['wonder', 'melinda', 'gates', 'paid', 'alot', 'money', 'get', 'long', 'hair', 'manageable', 'old', 'ladies', 'dry', 'thinning', 'looking', 'hair', 'long', 'anyway', 'still', 'favors', 'soft', 'wavy', 'shininess', 'hair', 'makes', 'face', 'look', 'even', 'manly']\n",
      "Sentence after removing stopwords: ['firewoodluv', 'ok', 'luv']\n",
      "Sentence after removing stopwords: ['wow', 'look', 'thd', 'dislikes']\n",
      "Sentence after removing stopwords: ['wait', 'second', 'mothers', 'looking', 'children', 'whats', 'causing', 'mental', 'health', 'issues', 'children', 'later', 'life', 'melinda', 'wants', 'mothers', 'back', 'work', 'increase', 'chances', 'dissociation', 'trauma', 'caused', 'neglect', 'parent', 'figures', 'present', 'child', 'early', 'stages', 'life', 'thought', 'cared', 'future', 'well', 'children', 'guess']\n",
      "Sentence after removing stopwords: ['doctors', 'cares', 'personal', 'opinion']\n",
      "Sentence after removing stopwords: ['nice', 'upside', 'cross']\n",
      "Sentence after removing stopwords: ['jesus', 'christ', 'returning', 'way', 'truth', 'life']\n",
      "Sentence after removing stopwords: ['one', 'beautiful', 'man']\n",
      "Sentence after removing stopwords: ['dont', 'ever', 'watch', 'news', 'completely', 'fake']\n",
      "Sentence after removing stopwords: ['heavy', 'nlp', 'brainwashing', 'begins']\n",
      "Sentence after removing stopwords: ['melinda', 'get', 'plastic', 'surgery', 'look', 'like', 'kevin', 'kline', 'fashionable', 'clothing']\n",
      "Sentence after removing stopwords: ['ugly', 'like', 'big', 'debt']\n",
      "Sentence after removing stopwords: ['fool', 'melinda', 'saying', 'supports', 'population', 'reduction']\n",
      "Sentence after removing stopwords: ['guys', 'need', 'really', 'take', 'step', 'back', 'think', 'incredibly', 'offensive', 'way', 'shape', 'form', 'going', 'come', 'near', 'family', 'extremely', 'manipulative', 'quite', 'frankly', 'terrible', 'people', 'would', 'risk', 'life', 'guys', 'trivial', 'things', 'say', 'something', 'like', 'hate', 'husband', 'really', 'mean', 'room', 'negotiations', 'discussions', 'hazard']\n",
      "Sentence after removing stopwords: ['god', 'ppl', 'weird', 'pronoun']\n",
      "Sentence after removing stopwords: ['plandamic', 'shame', 'gates']\n",
      "Sentence after removing stopwords: ['melinda', 'murderer']\n",
      "Sentence after removing stopwords: ['drag', 'man']\n",
      "Sentence after removing stopwords: ['men', 'drag', 'tho']\n",
      "Sentence after removing stopwords: ['face', 'could', 'make', 'onion', 'cry']\n",
      "Sentence after removing stopwords: ['bet', 'next', 'time', 'bill', 'marry', 'woman']\n",
      "Sentence after removing stopwords: ['manlinda']\n",
      "Sentence after removing stopwords: ['thats', 'man', 'baby']\n",
      "Sentence after removing stopwords: ['operation', 'depopulation', 'even', 'woman']\n",
      "Sentence after removing stopwords: ['dude']\n",
      "Sentence after removing stopwords: ['jesus', 'comment', 'section', 'full', 'incels']\n",
      "Sentence after removing stopwords: ['demonic', 'beasts']\n",
      "Sentence after removing stopwords: ['dude']\n",
      "Sentence after removing stopwords: ['relatable', 'common', 'working', 'woman', 'children']\n",
      "Sentence after removing stopwords: ['man']\n",
      "Sentence after removing stopwords: ['philanthropists', 'using', 'gates', 'foundation', 'personal']\n",
      "Sentence after removing stopwords: ['melinda', 'gates', 'man']\n",
      "Sentence after removing stopwords: ['wearing', 'inverted', 'cross', 'around', 'neck', 'wolf', 'sheep', 'clothing']\n",
      "Sentence after removing stopwords: ['woman']\n",
      "Sentence after removing stopwords: ['melinda', 'gates', 'man']\n",
      "Sentence after removing stopwords: ['men']\n",
      "Sentence after removing stopwords: ['man']\n",
      "Sentence after removing stopwords: ['melinda', 'man', 'wearing', 'inverted', 'cross']\n",
      "Sentence after removing stopwords: ['sheeesh']\n",
      "Sentence after removing stopwords: ['done', 'marry', 'overachiever']\n",
      "Sentence after removing stopwords: ['someone', 'wears', 'upside', 'cross', 'see', 'going', 'incredible']\n",
      "Sentence after removing stopwords: ['medicine', 'symbol', 'marked', 'serpents', 'huh', 'imagine']\n",
      "Sentence after removing stopwords: ['boss']\n",
      "Sentence after removing stopwords: ['robin', 'williams']\n",
      "Sentence after removing stopwords: ['melinda', 'satanist', 'gates']\n",
      "Sentence after removing stopwords: ['elites']\n",
      "Sentence after removing stopwords: ['brows', 'wake', 'everyone']\n"
     ]
    }
   ],
   "source": [
    "#get the count of every word in both the columns of df_train and df_test dataframes where sentiment=\"positive\"\n",
    "for text in df_train[df_train.sentiment==\"Positive\"].Comments:\n",
    "  for word in generate_N_grams(text,2):\n",
    "    positiveValues2[word]+=1\n",
    "\n",
    "#get the count of every word in both the columns of df_train and df_test dataframes where sentiment=\"negative\"\n",
    "for text in df_train[df_train.sentiment==\"Negative\"].Comments:\n",
    "  for word in generate_N_grams(text,2):\n",
    "    negativeValues2[word]+=1\n",
    "\n",
    "#get the count of every word in both the columns of df_train and df_test dataframes where sentiment=\"neutral\"\n",
    "for text in df_train[df_train.sentiment==\"Neutral\"].Comments:\n",
    "  for word in generate_N_grams(text,2):\n",
    "    neutralValues2[word]+=1"
   ]
  },
  {
   "cell_type": "code",
   "execution_count": 56,
   "id": "a1ae5f52",
   "metadata": {},
   "outputs": [],
   "source": [
    "\n",
    "#focus on more frequently occuring words for every sentiment=>\n",
    "#sort in DO wrt 2nd column in each of positiveValues,negativeValues and neutralValues\n",
    "\n",
    "df_positive2=pd.DataFrame(sorted(positiveValues2.items(),key=lambda x:x[1],reverse=True))\n",
    "df_negative2=pd.DataFrame(sorted(negativeValues2.items(),key=lambda x:x[1],reverse=True))\n",
    "df_neutral2=pd.DataFrame(sorted(neutralValues2.items(),key=lambda x:x[1],reverse=True))"
   ]
  },
  {
   "cell_type": "code",
   "execution_count": 57,
   "id": "5e5bbb33",
   "metadata": {},
   "outputs": [
    {
     "data": {
      "image/png": "[encoded data removed]",
      "text/plain": [
       "<Figure size 1152x288 with 1 Axes>"
      ]
     },
     "metadata": {
      "needs_background": "light"
     },
     "output_type": "display_data"
    }
   ],
   "source": [
    "pd1bi=df_positive2[0][:10]\n",
    "pd2bi=df_positive2[1][:10]\n",
    "\n",
    "ned1bi=df_negative2[0][:10]\n",
    "ned2bi=df_negative2[1][:10]\n",
    "\n",
    "nud1bi=df_neutral2[0][:10]\n",
    "nud2bi=df_neutral2[1][:10]\n",
    "\n",
    "plt.figure(1,figsize=(16,4))\n",
    "\n",
    "plt.bar(pd1bi,pd2bi, color ='green',\n",
    "        width = 0.4)\n",
    " \n",
    "plt.xlabel(\"Words in positive dataframe\")\n",
    "plt.ylabel(\"Count\")\n",
    "plt.title(\"Top 10 words in positive dataframe-BIGRAM ANALYSIS\")\n",
    "\n",
    "plt.savefig(\"positive-bigram.png\")\n",
    "plt.show()"
   ]
  },
  {
   "cell_type": "code",
   "execution_count": 58,
   "id": "3989c016",
   "metadata": {},
   "outputs": [
    {
     "data": {
      "text/html": [
       "<div>\n",
       "<style scoped>\n",
       "    .dataframe tbody tr th:only-of-type {\n",
       "        vertical-align: middle;\n",
       "    }\n",
       "\n",
       "    .dataframe tbody tr th {\n",
       "        vertical-align: top;\n",
       "    }\n",
       "\n",
       "    .dataframe thead th {\n",
       "        text-align: right;\n",
       "    }\n",
       "</style>\n",
       "<table border=\"1\" class=\"dataframe\">\n",
       "  <thead>\n",
       "    <tr style=\"text-align: right;\">\n",
       "      <th></th>\n",
       "      <th>0</th>\n",
       "      <th>1</th>\n",
       "    </tr>\n",
       "  </thead>\n",
       "  <tbody>\n",
       "    <tr>\n",
       "      <th>0</th>\n",
       "      <td>upside cross</td>\n",
       "      <td>4</td>\n",
       "    </tr>\n",
       "    <tr>\n",
       "      <th>1</th>\n",
       "      <td>cross see</td>\n",
       "      <td>2</td>\n",
       "    </tr>\n",
       "    <tr>\n",
       "      <th>2</th>\n",
       "      <td>nice upside</td>\n",
       "      <td>2</td>\n",
       "    </tr>\n",
       "    <tr>\n",
       "      <th>3</th>\n",
       "      <td>w e</td>\n",
       "      <td>1</td>\n",
       "    </tr>\n",
       "    <tr>\n",
       "      <th>4</th>\n",
       "      <td>e n</td>\n",
       "      <td>1</td>\n",
       "    </tr>\n",
       "    <tr>\n",
       "      <th>5</th>\n",
       "      <td>n hahaha</td>\n",
       "      <td>1</td>\n",
       "    </tr>\n",
       "    <tr>\n",
       "      <th>6</th>\n",
       "      <td>hahaha riiiiiiight</td>\n",
       "      <td>1</td>\n",
       "    </tr>\n",
       "    <tr>\n",
       "      <th>7</th>\n",
       "      <td>nice masks</td>\n",
       "      <td>1</td>\n",
       "    </tr>\n",
       "    <tr>\n",
       "      <th>8</th>\n",
       "      <td>masks ladies</td>\n",
       "      <td>1</td>\n",
       "    </tr>\n",
       "    <tr>\n",
       "      <th>9</th>\n",
       "      <td>wow whoa</td>\n",
       "      <td>1</td>\n",
       "    </tr>\n",
       "  </tbody>\n",
       "</table>\n",
       "</div>"
      ],
      "text/plain": [
       "                    0  1\n",
       "0        upside cross  4\n",
       "1           cross see  2\n",
       "2         nice upside  2\n",
       "3                 w e  1\n",
       "4                 e n  1\n",
       "5            n hahaha  1\n",
       "6  hahaha riiiiiiight  1\n",
       "7          nice masks  1\n",
       "8        masks ladies  1\n",
       "9            wow whoa  1"
      ]
     },
     "execution_count": 58,
     "metadata": {},
     "output_type": "execute_result"
    }
   ],
   "source": [
    "df_positive2.head(10)"
   ]
  },
  {
   "cell_type": "code",
   "execution_count": 59,
   "id": "f1f972cc",
   "metadata": {},
   "outputs": [
    {
     "data": {
      "image/png": "[encoded data removed]",
      "text/plain": [
       "<Figure size 1152x288 with 1 Axes>"
      ]
     },
     "metadata": {
      "needs_background": "light"
     },
     "output_type": "display_data"
    }
   ],
   "source": [
    "plt.figure(1,figsize=(16,4))\n",
    "\n",
    "plt.bar(ned1bi,ned2bi, color ='red',\n",
    "        width = 0.4)\n",
    " \n",
    "plt.xlabel(\"Words in negative dataframe\")\n",
    "plt.ylabel(\"Count\")\n",
    "plt.title(\"Top 10 words in negative dataframe-BIGRAM ANALYSIS\")\n",
    "\n",
    "plt.savefig(\"negative-bigram.png\")\n",
    "plt.show()"
   ]
  },
  {
   "cell_type": "code",
   "execution_count": 60,
   "id": "9f1d134b",
   "metadata": {},
   "outputs": [
    {
     "data": {
      "text/html": [
       "<div>\n",
       "<style scoped>\n",
       "    .dataframe tbody tr th:only-of-type {\n",
       "        vertical-align: middle;\n",
       "    }\n",
       "\n",
       "    .dataframe tbody tr th {\n",
       "        vertical-align: top;\n",
       "    }\n",
       "\n",
       "    .dataframe thead th {\n",
       "        text-align: right;\n",
       "    }\n",
       "</style>\n",
       "<table border=\"1\" class=\"dataframe\">\n",
       "  <thead>\n",
       "    <tr style=\"text-align: right;\">\n",
       "      <th></th>\n",
       "      <th>0</th>\n",
       "      <th>1</th>\n",
       "    </tr>\n",
       "  </thead>\n",
       "  <tbody>\n",
       "    <tr>\n",
       "      <th>0</th>\n",
       "      <td>dont ever</td>\n",
       "      <td>1</td>\n",
       "    </tr>\n",
       "    <tr>\n",
       "      <th>1</th>\n",
       "      <td>ever watch</td>\n",
       "      <td>1</td>\n",
       "    </tr>\n",
       "    <tr>\n",
       "      <th>2</th>\n",
       "      <td>watch news</td>\n",
       "      <td>1</td>\n",
       "    </tr>\n",
       "    <tr>\n",
       "      <th>3</th>\n",
       "      <td>news completely</td>\n",
       "      <td>1</td>\n",
       "    </tr>\n",
       "    <tr>\n",
       "      <th>4</th>\n",
       "      <td>completely fake</td>\n",
       "      <td>1</td>\n",
       "    </tr>\n",
       "    <tr>\n",
       "      <th>5</th>\n",
       "      <td>heavy nlp</td>\n",
       "      <td>1</td>\n",
       "    </tr>\n",
       "    <tr>\n",
       "      <th>6</th>\n",
       "      <td>nlp brainwashing</td>\n",
       "      <td>1</td>\n",
       "    </tr>\n",
       "    <tr>\n",
       "      <th>7</th>\n",
       "      <td>brainwashing begins</td>\n",
       "      <td>1</td>\n",
       "    </tr>\n",
       "    <tr>\n",
       "      <th>8</th>\n",
       "      <td>melinda get</td>\n",
       "      <td>1</td>\n",
       "    </tr>\n",
       "    <tr>\n",
       "      <th>9</th>\n",
       "      <td>get plastic</td>\n",
       "      <td>1</td>\n",
       "    </tr>\n",
       "  </tbody>\n",
       "</table>\n",
       "</div>"
      ],
      "text/plain": [
       "                     0  1\n",
       "0            dont ever  1\n",
       "1           ever watch  1\n",
       "2           watch news  1\n",
       "3      news completely  1\n",
       "4      completely fake  1\n",
       "5            heavy nlp  1\n",
       "6     nlp brainwashing  1\n",
       "7  brainwashing begins  1\n",
       "8          melinda get  1\n",
       "9          get plastic  1"
      ]
     },
     "execution_count": 60,
     "metadata": {},
     "output_type": "execute_result"
    }
   ],
   "source": [
    "df_negative2.head(10)"
   ]
  },
  {
   "cell_type": "code",
   "execution_count": 61,
   "id": "94ab94e7",
   "metadata": {},
   "outputs": [
    {
     "data": {
      "image/png": "[encoded data removed]",
      "text/plain": [
       "<Figure size 1152x288 with 1 Axes>"
      ]
     },
     "metadata": {
      "needs_background": "light"
     },
     "output_type": "display_data"
    }
   ],
   "source": [
    "plt.figure(1,figsize=(16,4))\n",
    "\n",
    "plt.bar(nud1bi,nud2bi, color ='yellow',\n",
    "        width = 0.4)\n",
    " \n",
    "plt.xlabel(\"Words in neutral dataframe\")\n",
    "plt.ylabel(\"Count\")\n",
    "plt.title(\"Top 10 words in neutral dataframe-BIGRAM ANALYSIS\")\n",
    "\n",
    "plt.savefig(\"neutral-bigram.png\")\n",
    "plt.show()"
   ]
  },
  {
   "cell_type": "code",
   "execution_count": 62,
   "id": "c3549140",
   "metadata": {},
   "outputs": [
    {
     "data": {
      "text/html": [
       "<div>\n",
       "<style scoped>\n",
       "    .dataframe tbody tr th:only-of-type {\n",
       "        vertical-align: middle;\n",
       "    }\n",
       "\n",
       "    .dataframe tbody tr th {\n",
       "        vertical-align: top;\n",
       "    }\n",
       "\n",
       "    .dataframe thead th {\n",
       "        text-align: right;\n",
       "    }\n",
       "</style>\n",
       "<table border=\"1\" class=\"dataframe\">\n",
       "  <thead>\n",
       "    <tr style=\"text-align: right;\">\n",
       "      <th></th>\n",
       "      <th>0</th>\n",
       "      <th>1</th>\n",
       "    </tr>\n",
       "  </thead>\n",
       "  <tbody>\n",
       "    <tr>\n",
       "      <th>0</th>\n",
       "      <td>melinda gates</td>\n",
       "      <td>2</td>\n",
       "    </tr>\n",
       "    <tr>\n",
       "      <th>1</th>\n",
       "      <td>gates man</td>\n",
       "      <td>2</td>\n",
       "    </tr>\n",
       "    <tr>\n",
       "      <th>2</th>\n",
       "      <td>wearing inverted</td>\n",
       "      <td>2</td>\n",
       "    </tr>\n",
       "    <tr>\n",
       "      <th>3</th>\n",
       "      <td>inverted cross</td>\n",
       "      <td>2</td>\n",
       "    </tr>\n",
       "    <tr>\n",
       "      <th>4</th>\n",
       "      <td>bet next</td>\n",
       "      <td>1</td>\n",
       "    </tr>\n",
       "    <tr>\n",
       "      <th>5</th>\n",
       "      <td>next time</td>\n",
       "      <td>1</td>\n",
       "    </tr>\n",
       "    <tr>\n",
       "      <th>6</th>\n",
       "      <td>time bill</td>\n",
       "      <td>1</td>\n",
       "    </tr>\n",
       "    <tr>\n",
       "      <th>7</th>\n",
       "      <td>bill marry</td>\n",
       "      <td>1</td>\n",
       "    </tr>\n",
       "    <tr>\n",
       "      <th>8</th>\n",
       "      <td>marry woman</td>\n",
       "      <td>1</td>\n",
       "    </tr>\n",
       "    <tr>\n",
       "      <th>9</th>\n",
       "      <td>thats man</td>\n",
       "      <td>1</td>\n",
       "    </tr>\n",
       "  </tbody>\n",
       "</table>\n",
       "</div>"
      ],
      "text/plain": [
       "                  0  1\n",
       "0     melinda gates  2\n",
       "1         gates man  2\n",
       "2  wearing inverted  2\n",
       "3    inverted cross  2\n",
       "4          bet next  1\n",
       "5         next time  1\n",
       "6         time bill  1\n",
       "7        bill marry  1\n",
       "8       marry woman  1\n",
       "9         thats man  1"
      ]
     },
     "execution_count": 62,
     "metadata": {},
     "output_type": "execute_result"
    }
   ],
   "source": [
    "df_neutral2.head(10)"
   ]
  },
  {
   "cell_type": "code",
   "execution_count": 63,
   "id": "1ff80c72",
   "metadata": {},
   "outputs": [],
   "source": [
    "#Creating trigrams\n",
    "positiveValues3=defaultdict(int)\n",
    "negativeValues3=defaultdict(int)\n",
    "neutralValues3=defaultdict(int)\n",
    "#get the count of every word in both the columns of df_train and df_test dataframes"
   ]
  },
  {
   "cell_type": "code",
   "execution_count": 64,
   "id": "4ac44fc5",
   "metadata": {},
   "outputs": [
    {
     "name": "stdout",
     "output_type": "stream",
     "text": [
      "Sentence after removing stopwords: ['w', 'e', 'n', 'hahaha', 'riiiiiiight']\n",
      "Sentence after removing stopwords: ['nice', 'masks', 'ladies']\n",
      "Sentence after removing stopwords: ['wow', 'whoa', 'upside', 'cross', 'see', 'really', 'well', 'beginning', 'different', 'angle']\n",
      "Sentence after removing stopwords: ['yeah', 'satanic', 'upside', 'cross', 'madonna', 'video', 'eurovision', 'quervo', 'everyone', 'coming', 'future', 'great', 'big', 'conspiracy', 'theory', 'right', 'jesuit', 'oath', 'taught', 'duty', 'spy', 'gather', 'statistics', 'facts', 'information', 'power', 'every', 'source', 'ingratiate', 'confidence', 'family', 'circle', 'protestants', 'heretics', 'every', 'class', 'character', 'well', 'merchant', 'banker', 'lawyer', 'among', 'schools', 'universities', 'parliaments', 'legislatures', 'judiciaries', 'councils', 'state', 'things', 'men', 'pope', 'sake', 'whose', 'servants', 'unto', 'death']\n",
      "Sentence after removing stopwords: ['love']\n",
      "Sentence after removing stopwords: ['kevin', 'kline', 'sure']\n",
      "Sentence after removing stopwords: ['looks', 'utterly', 'creepy', 'assume', 'like']\n",
      "Sentence after removing stopwords: ['maleinda', 'gates', 'nice', 'upside', 'cross', 'see']\n",
      "Sentence after removing stopwords: ['funny', 'cleric', 'talks', 'stuff', 'national', 'level']\n",
      "Sentence after removing stopwords: ['tell', 'good', 'actual', 'evidence', 'good', 'done']\n",
      "Sentence after removing stopwords: ['delightful', 'really', 'good', 'speaker', 'sheryl', 'sandberg', 'want', 'know', 'use', 'facebook', 'way', 'cutsie', 'taken', 'seriously', 'obviously', 'living', 'melinda', 'shadow', 'amateur', 'latching', 'onto', 'professional', 'show']\n",
      "Sentence after removing stopwords: ['trying', 'get', 'rid', 'us', 'wake', 'people', 'late', 'oppsy', 'everyone', 'seems', 'good']\n",
      "Sentence after removing stopwords: ['sounds', 'scripted', 'elementary', 'school', 'play']\n",
      "Sentence after removing stopwords: ['wonder', 'melinda', 'gates', 'paid', 'alot', 'money', 'get', 'long', 'hair', 'manageable', 'old', 'ladies', 'dry', 'thinning', 'looking', 'hair', 'long', 'anyway', 'still', 'favors', 'soft', 'wavy', 'shininess', 'hair', 'makes', 'face', 'look', 'even', 'manly']\n",
      "Sentence after removing stopwords: ['firewoodluv', 'ok', 'luv']\n",
      "Sentence after removing stopwords: ['wow', 'look', 'thd', 'dislikes']\n",
      "Sentence after removing stopwords: ['wait', 'second', 'mothers', 'looking', 'children', 'whats', 'causing', 'mental', 'health', 'issues', 'children', 'later', 'life', 'melinda', 'wants', 'mothers', 'back', 'work', 'increase', 'chances', 'dissociation', 'trauma', 'caused', 'neglect', 'parent', 'figures', 'present', 'child', 'early', 'stages', 'life', 'thought', 'cared', 'future', 'well', 'children', 'guess']\n",
      "Sentence after removing stopwords: ['doctors', 'cares', 'personal', 'opinion']\n",
      "Sentence after removing stopwords: ['nice', 'upside', 'cross']\n",
      "Sentence after removing stopwords: ['jesus', 'christ', 'returning', 'way', 'truth', 'life']\n",
      "Sentence after removing stopwords: ['one', 'beautiful', 'man']\n",
      "Sentence after removing stopwords: ['dont', 'ever', 'watch', 'news', 'completely', 'fake']\n",
      "Sentence after removing stopwords: ['heavy', 'nlp', 'brainwashing', 'begins']\n",
      "Sentence after removing stopwords: ['melinda', 'get', 'plastic', 'surgery', 'look', 'like', 'kevin', 'kline', 'fashionable', 'clothing']\n",
      "Sentence after removing stopwords: ['ugly', 'like', 'big', 'debt']\n",
      "Sentence after removing stopwords: ['fool', 'melinda', 'saying', 'supports', 'population', 'reduction']\n",
      "Sentence after removing stopwords: ['guys', 'need', 'really', 'take', 'step', 'back', 'think', 'incredibly', 'offensive', 'way', 'shape', 'form', 'going', 'come', 'near', 'family', 'extremely', 'manipulative', 'quite', 'frankly', 'terrible', 'people', 'would', 'risk', 'life', 'guys', 'trivial', 'things', 'say', 'something', 'like', 'hate', 'husband', 'really', 'mean', 'room', 'negotiations', 'discussions', 'hazard']\n",
      "Sentence after removing stopwords: ['god', 'ppl', 'weird', 'pronoun']\n",
      "Sentence after removing stopwords: ['plandamic', 'shame', 'gates']\n",
      "Sentence after removing stopwords: ['melinda', 'murderer']\n",
      "Sentence after removing stopwords: ['drag', 'man']\n",
      "Sentence after removing stopwords: ['men', 'drag', 'tho']\n",
      "Sentence after removing stopwords: ['face', 'could', 'make', 'onion', 'cry']\n",
      "Sentence after removing stopwords: ['bet', 'next', 'time', 'bill', 'marry', 'woman']\n",
      "Sentence after removing stopwords: ['manlinda']\n",
      "Sentence after removing stopwords: ['thats', 'man', 'baby']\n",
      "Sentence after removing stopwords: ['operation', 'depopulation', 'even', 'woman']\n",
      "Sentence after removing stopwords: ['dude']\n",
      "Sentence after removing stopwords: ['jesus', 'comment', 'section', 'full', 'incels']\n",
      "Sentence after removing stopwords: ['demonic', 'beasts']\n",
      "Sentence after removing stopwords: ['dude']\n",
      "Sentence after removing stopwords: ['relatable', 'common', 'working', 'woman', 'children']\n",
      "Sentence after removing stopwords: ['man']\n",
      "Sentence after removing stopwords: ['philanthropists', 'using', 'gates', 'foundation', 'personal']\n",
      "Sentence after removing stopwords: ['melinda', 'gates', 'man']\n",
      "Sentence after removing stopwords: ['wearing', 'inverted', 'cross', 'around', 'neck', 'wolf', 'sheep', 'clothing']\n",
      "Sentence after removing stopwords: ['woman']\n",
      "Sentence after removing stopwords: ['melinda', 'gates', 'man']\n",
      "Sentence after removing stopwords: ['men']\n",
      "Sentence after removing stopwords: ['man']\n",
      "Sentence after removing stopwords: ['melinda', 'man', 'wearing', 'inverted', 'cross']\n",
      "Sentence after removing stopwords: ['sheeesh']\n",
      "Sentence after removing stopwords: ['done', 'marry', 'overachiever']\n",
      "Sentence after removing stopwords: ['someone', 'wears', 'upside', 'cross', 'see', 'going', 'incredible']\n",
      "Sentence after removing stopwords: ['medicine', 'symbol', 'marked', 'serpents', 'huh', 'imagine']\n",
      "Sentence after removing stopwords: ['boss']\n",
      "Sentence after removing stopwords: ['robin', 'williams']\n",
      "Sentence after removing stopwords: ['melinda', 'satanist', 'gates']\n",
      "Sentence after removing stopwords: ['elites']\n",
      "Sentence after removing stopwords: ['brows', 'wake', 'everyone']\n"
     ]
    }
   ],
   "source": [
    "\n",
    "#get the count of every word in both the columns of df_train and df_test dataframes where sentiment=\"positive\"\n",
    "for text in df_train[df_train.sentiment==\"Positive\"].Comments:\n",
    "  for word in generate_N_grams(text,3):\n",
    "    positiveValues3[word]+=1\n",
    "\n",
    "#get the count of every word in both the columns of df_train and df_test dataframes where sentiment=\"negative\"\n",
    "for text in df_train[df_train.sentiment==\"Negative\"].Comments:\n",
    "  for word in generate_N_grams(text,3):\n",
    "    negativeValues3[word]+=1\n",
    "\n",
    "#get the count of every word in both the columns of df_train and df_test dataframes where sentiment=\"neutral\"\n",
    "for text in df_train[df_train.sentiment==\"Neutral\"].Comments:\n",
    "  for word in generate_N_grams(text,3):\n",
    "    neutralValues3[word]+=1"
   ]
  },
  {
   "cell_type": "code",
   "execution_count": 65,
   "id": "5c148608",
   "metadata": {},
   "outputs": [],
   "source": [
    "#focus on more frequently occuring words for every sentiment=>\n",
    "#sort in DO wrt 2nd column in each of positiveValues,negativeValues and neutralValues\n",
    "\n",
    "df_positive3=pd.DataFrame(sorted(positiveValues3.items(),key=lambda x:x[1],reverse=True))\n",
    "df_negative3=pd.DataFrame(sorted(negativeValues3.items(),key=lambda x:x[1],reverse=True))\n",
    "df_neutral3=pd.DataFrame(sorted(neutralValues3.items(),key=lambda x:x[1],reverse=True))"
   ]
  },
  {
   "cell_type": "code",
   "execution_count": 66,
   "id": "4aa7828d",
   "metadata": {},
   "outputs": [
    {
     "data": {
      "image/png": "[encoded data removed]",
      "text/plain": [
       "<Figure size 1152x288 with 1 Axes>"
      ]
     },
     "metadata": {
      "needs_background": "light"
     },
     "output_type": "display_data"
    }
   ],
   "source": [
    "pd1tri=df_positive3[0][:10]\n",
    "pd2tri=df_positive3[1][:10]\n",
    "\n",
    "ned1tri=df_negative3[0][:10]\n",
    "ned2tri=df_negative3[1][:10]\n",
    "\n",
    "nud1tri=df_neutral3[0][:10]\n",
    "nud2tri=df_neutral3[1][:10]\n",
    "\n",
    "plt.figure(1,figsize=(16,4))\n",
    "\n",
    "plt.bar(pd1tri,pd2tri, color ='green',\n",
    "        width = 0.4)\n",
    " \n",
    "plt.xlabel(\"Words in positive dataframe\")\n",
    "plt.ylabel(\"Count\")\n",
    "plt.title(\"Top 10 words in positive dataframe-TRIGRAM ANALYSIS\")\n",
    "\n",
    "plt.savefig(\"positive-trigram.png\")\n",
    "plt.show()"
   ]
  },
  {
   "cell_type": "code",
   "execution_count": 67,
   "id": "2cedf969",
   "metadata": {},
   "outputs": [
    {
     "data": {
      "text/html": [
       "<div>\n",
       "<style scoped>\n",
       "    .dataframe tbody tr th:only-of-type {\n",
       "        vertical-align: middle;\n",
       "    }\n",
       "\n",
       "    .dataframe tbody tr th {\n",
       "        vertical-align: top;\n",
       "    }\n",
       "\n",
       "    .dataframe thead th {\n",
       "        text-align: right;\n",
       "    }\n",
       "</style>\n",
       "<table border=\"1\" class=\"dataframe\">\n",
       "  <thead>\n",
       "    <tr style=\"text-align: right;\">\n",
       "      <th></th>\n",
       "      <th>0</th>\n",
       "      <th>1</th>\n",
       "    </tr>\n",
       "  </thead>\n",
       "  <tbody>\n",
       "    <tr>\n",
       "      <th>0</th>\n",
       "      <td>upside cross see</td>\n",
       "      <td>2</td>\n",
       "    </tr>\n",
       "    <tr>\n",
       "      <th>1</th>\n",
       "      <td>nice upside cross</td>\n",
       "      <td>2</td>\n",
       "    </tr>\n",
       "    <tr>\n",
       "      <th>2</th>\n",
       "      <td>w e n</td>\n",
       "      <td>1</td>\n",
       "    </tr>\n",
       "    <tr>\n",
       "      <th>3</th>\n",
       "      <td>e n hahaha</td>\n",
       "      <td>1</td>\n",
       "    </tr>\n",
       "    <tr>\n",
       "      <th>4</th>\n",
       "      <td>n hahaha riiiiiiight</td>\n",
       "      <td>1</td>\n",
       "    </tr>\n",
       "    <tr>\n",
       "      <th>5</th>\n",
       "      <td>nice masks ladies</td>\n",
       "      <td>1</td>\n",
       "    </tr>\n",
       "    <tr>\n",
       "      <th>6</th>\n",
       "      <td>wow whoa upside</td>\n",
       "      <td>1</td>\n",
       "    </tr>\n",
       "    <tr>\n",
       "      <th>7</th>\n",
       "      <td>whoa upside cross</td>\n",
       "      <td>1</td>\n",
       "    </tr>\n",
       "    <tr>\n",
       "      <th>8</th>\n",
       "      <td>cross see really</td>\n",
       "      <td>1</td>\n",
       "    </tr>\n",
       "    <tr>\n",
       "      <th>9</th>\n",
       "      <td>see really well</td>\n",
       "      <td>1</td>\n",
       "    </tr>\n",
       "  </tbody>\n",
       "</table>\n",
       "</div>"
      ],
      "text/plain": [
       "                      0  1\n",
       "0      upside cross see  2\n",
       "1     nice upside cross  2\n",
       "2                 w e n  1\n",
       "3            e n hahaha  1\n",
       "4  n hahaha riiiiiiight  1\n",
       "5     nice masks ladies  1\n",
       "6       wow whoa upside  1\n",
       "7     whoa upside cross  1\n",
       "8      cross see really  1\n",
       "9       see really well  1"
      ]
     },
     "execution_count": 67,
     "metadata": {},
     "output_type": "execute_result"
    }
   ],
   "source": [
    "\n",
    "df_positive3.head(10)"
   ]
  },
  {
   "cell_type": "code",
   "execution_count": 68,
   "id": "a885516c",
   "metadata": {},
   "outputs": [
    {
     "data": {
      "image/png": "[encoded data removed]",
      "text/plain": [
       "<Figure size 1152x288 with 1 Axes>"
      ]
     },
     "metadata": {
      "needs_background": "light"
     },
     "output_type": "display_data"
    }
   ],
   "source": [
    "plt.figure(1,figsize=(16,4))\n",
    "\n",
    "plt.bar(ned1tri,ned2tri, color ='red',\n",
    "        width = 0.4)\n",
    " \n",
    "plt.xlabel(\"Words in negative dataframe\")\n",
    "plt.ylabel(\"Count\")\n",
    "plt.title(\"Top 10 words in negative dataframe-TRIGRAM ANALYSIS\")\n",
    "\n",
    "plt.savefig(\"negative-trigram.png\")\n",
    "plt.show()"
   ]
  },
  {
   "cell_type": "code",
   "execution_count": 69,
   "id": "c9c0059e",
   "metadata": {},
   "outputs": [
    {
     "data": {
      "text/html": [
       "<div>\n",
       "<style scoped>\n",
       "    .dataframe tbody tr th:only-of-type {\n",
       "        vertical-align: middle;\n",
       "    }\n",
       "\n",
       "    .dataframe tbody tr th {\n",
       "        vertical-align: top;\n",
       "    }\n",
       "\n",
       "    .dataframe thead th {\n",
       "        text-align: right;\n",
       "    }\n",
       "</style>\n",
       "<table border=\"1\" class=\"dataframe\">\n",
       "  <thead>\n",
       "    <tr style=\"text-align: right;\">\n",
       "      <th></th>\n",
       "      <th>0</th>\n",
       "      <th>1</th>\n",
       "    </tr>\n",
       "  </thead>\n",
       "  <tbody>\n",
       "    <tr>\n",
       "      <th>0</th>\n",
       "      <td>dont ever watch</td>\n",
       "      <td>1</td>\n",
       "    </tr>\n",
       "    <tr>\n",
       "      <th>1</th>\n",
       "      <td>ever watch news</td>\n",
       "      <td>1</td>\n",
       "    </tr>\n",
       "    <tr>\n",
       "      <th>2</th>\n",
       "      <td>watch news completely</td>\n",
       "      <td>1</td>\n",
       "    </tr>\n",
       "    <tr>\n",
       "      <th>3</th>\n",
       "      <td>news completely fake</td>\n",
       "      <td>1</td>\n",
       "    </tr>\n",
       "    <tr>\n",
       "      <th>4</th>\n",
       "      <td>heavy nlp brainwashing</td>\n",
       "      <td>1</td>\n",
       "    </tr>\n",
       "    <tr>\n",
       "      <th>5</th>\n",
       "      <td>nlp brainwashing begins</td>\n",
       "      <td>1</td>\n",
       "    </tr>\n",
       "    <tr>\n",
       "      <th>6</th>\n",
       "      <td>melinda get plastic</td>\n",
       "      <td>1</td>\n",
       "    </tr>\n",
       "    <tr>\n",
       "      <th>7</th>\n",
       "      <td>get plastic surgery</td>\n",
       "      <td>1</td>\n",
       "    </tr>\n",
       "    <tr>\n",
       "      <th>8</th>\n",
       "      <td>plastic surgery look</td>\n",
       "      <td>1</td>\n",
       "    </tr>\n",
       "    <tr>\n",
       "      <th>9</th>\n",
       "      <td>surgery look like</td>\n",
       "      <td>1</td>\n",
       "    </tr>\n",
       "  </tbody>\n",
       "</table>\n",
       "</div>"
      ],
      "text/plain": [
       "                         0  1\n",
       "0          dont ever watch  1\n",
       "1          ever watch news  1\n",
       "2    watch news completely  1\n",
       "3     news completely fake  1\n",
       "4   heavy nlp brainwashing  1\n",
       "5  nlp brainwashing begins  1\n",
       "6      melinda get plastic  1\n",
       "7      get plastic surgery  1\n",
       "8     plastic surgery look  1\n",
       "9        surgery look like  1"
      ]
     },
     "execution_count": 69,
     "metadata": {},
     "output_type": "execute_result"
    }
   ],
   "source": [
    "df_negative3.head(10)"
   ]
  },
  {
   "cell_type": "code",
   "execution_count": 70,
   "id": "8fb19ad5",
   "metadata": {},
   "outputs": [
    {
     "data": {
      "image/png": "[encoded data removed]",
      "text/plain": [
       "<Figure size 1152x288 with 1 Axes>"
      ]
     },
     "metadata": {
      "needs_background": "light"
     },
     "output_type": "display_data"
    }
   ],
   "source": [
    "plt.figure(1,figsize=(16,4))\n",
    "\n",
    "plt.bar(nud1tri,nud2tri, color ='yellow',\n",
    "        width = 0.4)\n",
    " \n",
    "plt.xlabel(\"Words in neutral dataframe\")\n",
    "plt.ylabel(\"Count\")\n",
    "plt.title(\"Top 10 words in neutral dataframe-TRIGRAM ANALYSIS\")\n",
    "\n",
    "plt.savefig(\"neutral-trigram.png\")\n",
    "plt.show()"
   ]
  },
  {
   "cell_type": "code",
   "execution_count": 71,
   "id": "455ff861",
   "metadata": {},
   "outputs": [
    {
     "data": {
      "text/html": [
       "<div>\n",
       "<style scoped>\n",
       "    .dataframe tbody tr th:only-of-type {\n",
       "        vertical-align: middle;\n",
       "    }\n",
       "\n",
       "    .dataframe tbody tr th {\n",
       "        vertical-align: top;\n",
       "    }\n",
       "\n",
       "    .dataframe thead th {\n",
       "        text-align: right;\n",
       "    }\n",
       "</style>\n",
       "<table border=\"1\" class=\"dataframe\">\n",
       "  <thead>\n",
       "    <tr style=\"text-align: right;\">\n",
       "      <th></th>\n",
       "      <th>0</th>\n",
       "      <th>1</th>\n",
       "    </tr>\n",
       "  </thead>\n",
       "  <tbody>\n",
       "    <tr>\n",
       "      <th>0</th>\n",
       "      <td>melinda gates man</td>\n",
       "      <td>2</td>\n",
       "    </tr>\n",
       "    <tr>\n",
       "      <th>1</th>\n",
       "      <td>wearing inverted cross</td>\n",
       "      <td>2</td>\n",
       "    </tr>\n",
       "    <tr>\n",
       "      <th>2</th>\n",
       "      <td>bet next time</td>\n",
       "      <td>1</td>\n",
       "    </tr>\n",
       "    <tr>\n",
       "      <th>3</th>\n",
       "      <td>next time bill</td>\n",
       "      <td>1</td>\n",
       "    </tr>\n",
       "    <tr>\n",
       "      <th>4</th>\n",
       "      <td>time bill marry</td>\n",
       "      <td>1</td>\n",
       "    </tr>\n",
       "    <tr>\n",
       "      <th>5</th>\n",
       "      <td>bill marry woman</td>\n",
       "      <td>1</td>\n",
       "    </tr>\n",
       "    <tr>\n",
       "      <th>6</th>\n",
       "      <td>thats man baby</td>\n",
       "      <td>1</td>\n",
       "    </tr>\n",
       "    <tr>\n",
       "      <th>7</th>\n",
       "      <td>operation depopulation even</td>\n",
       "      <td>1</td>\n",
       "    </tr>\n",
       "    <tr>\n",
       "      <th>8</th>\n",
       "      <td>depopulation even woman</td>\n",
       "      <td>1</td>\n",
       "    </tr>\n",
       "    <tr>\n",
       "      <th>9</th>\n",
       "      <td>jesus comment section</td>\n",
       "      <td>1</td>\n",
       "    </tr>\n",
       "  </tbody>\n",
       "</table>\n",
       "</div>"
      ],
      "text/plain": [
       "                             0  1\n",
       "0            melinda gates man  2\n",
       "1       wearing inverted cross  2\n",
       "2                bet next time  1\n",
       "3               next time bill  1\n",
       "4              time bill marry  1\n",
       "5             bill marry woman  1\n",
       "6               thats man baby  1\n",
       "7  operation depopulation even  1\n",
       "8      depopulation even woman  1\n",
       "9        jesus comment section  1"
      ]
     },
     "execution_count": 71,
     "metadata": {},
     "output_type": "execute_result"
    }
   ],
   "source": [
    "df_neutral3.head(10)"
   ]
  },
  {
   "cell_type": "code",
   "execution_count": null,
   "id": "ddff8c42",
   "metadata": {},
   "outputs": [],
   "source": []
  }
 ],
 "metadata": {
  "kernelspec": {
   "display_name": "Python 3",
   "language": "python",
   "name": "python3"
  },
  "language_info": {
   "codemirror_mode": {
    "name": "ipython",
    "version": 3
   },
   "file_extension": ".py",
   "mimetype": "text/x-python",
   "name": "python",
   "nbconvert_exporter": "python",
   "pygments_lexer": "ipython3",
   "version": "3.8.8"
  }
 },
 "nbformat": 4,
 "nbformat_minor": 5
}
